{
 "cells": [
  {
   "cell_type": "markdown",
   "metadata": {},
   "source": [
    "# A simple dynamic Malthusian model"
   ]
  },
  {
   "cell_type": "markdown",
   "metadata": {},
   "source": [
    "> **Note the following:** \n",
    "> 1. This is *not* meant to be an example of an actual **model analysis project**, just an example of how to structure such a project.\n",
    "> 1. Remember the general advice on structuring and commenting your code from [lecture 5](https://numeconcopenhagen.netlify.com/lectures/Workflow_and_debugging).\n",
    "> 1. Remember this [guide](https://www.markdownguide.org/basic-syntax/) on markdown and (a bit of) latex.\n",
    "> 1. Turn on automatic numbering by clicking on the small icon on top of the table of contents in the left sidebar.\n",
    "> 1. The `modelproject.py` file includes a function which could be used multiple times in this notebook."
   ]
  },
  {
   "cell_type": "markdown",
   "metadata": {},
   "source": [
    "Imports and set magics:"
   ]
  },
  {
   "cell_type": "code",
   "execution_count": 81,
   "metadata": {},
   "outputs": [
    {
     "name": "stdout",
     "output_type": "stream",
     "text": [
      "The autoreload extension is already loaded. To reload it, use:\n",
      "  %reload_ext autoreload\n"
     ]
    }
   ],
   "source": [
    "import numpy as np\n",
    "from scipy import optimize\n",
    "import sympy as sm\n",
    "import matplotlib.pyplot as plt\n",
    "\n",
    "# autoreload modules when code is run\n",
    "%load_ext autoreload\n",
    "%autoreload 2\n",
    "\n",
    "# local modules\n",
    "import modelproject as mp"
   ]
  },
  {
   "cell_type": "markdown",
   "metadata": {},
   "source": [
    "# Model description"
   ]
  },
  {
   "cell_type": "markdown",
   "metadata": {},
   "source": [
    "\\begin{align}\n",
    "    Y_t &= L_t^{1-\\alpha}\\,(AX)^\\alpha \\, , \\;\\; 0<\\alpha<1 \\label{eq0}\\tag{0} \\\\\n",
    "    y_t &= (AX/L_t)^\\alpha \\label{eq1}\\tag{1} \\\\\n",
    "    n_t &= \\eta y_t \\label{eq2}\\tag{2} \\\\\n",
    "    L_{t+1} &= n_t L_t + (1-\\mu) L_t \\label{eq3}\\tag{3} \\\\\n",
    "\\end{align}"
   ]
  },
  {
   "cell_type": "markdown",
   "metadata": {},
   "source": [
    "See ([1](#mjx-eqn-eq1)) and ([2](#mjx-eqn-eq2))"
   ]
  },
  {
   "cell_type": "code",
   "execution_count": 459,
   "metadata": {},
   "outputs": [],
   "source": [
    "y_t = sm.symbols('y_t', real=True, nonnegative=True)\n",
    "A = sm.symbols('A', real=True, nonnegative=True)\n",
    "X = sm.symbols('X', real=True, nonnegative=True)\n",
    "L_t = sm.symbols('L_t', real=True, nonnegative=True)\n",
    "alpha = sm.symbols('alpha', real=True, nonnegative=True)\n",
    "n_t = sm.symbols('n_t', real=True, nonnegative=True)\n",
    "eta = sm.symbols('eta', real=True, nonnegative=True)\n",
    "mu = sm.symbols('mu', real=True, nonnegative=True)\n",
    "L_t1 = sm.symbols('L_t+1', real=True, nonnegative=True)\n",
    "L_star = sm.symbols('L^*', real=True, nonnegative=True)"
   ]
  },
  {
   "cell_type": "code",
   "execution_count": 449,
   "metadata": {},
   "outputs": [],
   "source": [
    "eq1 = sm.Eq(y_t, (A*X/L_t)**(alpha))\n",
    "eq2 = sm.Eq(n_t, eta*y_t)\n",
    "eq3 = sm.Eq(L_t1, n_t*L_t+(1-mu)*L_t)"
   ]
  },
  {
   "cell_type": "code",
   "execution_count": 450,
   "metadata": {},
   "outputs": [
    {
     "data": {
      "text/latex": [
       "$\\displaystyle y_{t} = \\left(\\frac{A X}{L_{t}}\\right)^{\\alpha}$"
      ],
      "text/plain": [
       "Eq(y_t, (A*X/L_t)**alpha)"
      ]
     },
     "metadata": {},
     "output_type": "display_data"
    },
    {
     "data": {
      "text/latex": [
       "$\\displaystyle n_{t} = \\eta y_{t}$"
      ],
      "text/plain": [
       "Eq(n_t, eta*y_t)"
      ]
     },
     "metadata": {},
     "output_type": "display_data"
    },
    {
     "data": {
      "text/latex": [
       "$\\displaystyle L_{t+1} = L_{t} n_{t} + L_{t} \\left(1 - \\mu\\right)$"
      ],
      "text/plain": [
       "Eq(L_t+1, L_t*n_t + L_t*(1 - mu))"
      ]
     },
     "metadata": {},
     "output_type": "display_data"
    }
   ],
   "source": [
    "display(eq1,eq2,eq3)"
   ]
  },
  {
   "cell_type": "markdown",
   "metadata": {},
   "source": [
    "Substituting (1) into (2) we get:"
   ]
  },
  {
   "cell_type": "code",
   "execution_count": 451,
   "metadata": {},
   "outputs": [
    {
     "data": {
      "text/latex": [
       "$\\displaystyle n_{t} = \\eta \\left(\\frac{A X}{L_{t}}\\right)^{\\alpha}$"
      ],
      "text/plain": [
       "Eq(n_t, eta*(A*X/L_t)**alpha)"
      ]
     },
     "execution_count": 451,
     "metadata": {},
     "output_type": "execute_result"
    }
   ],
   "source": [
    "eq2_sub = eq2.subs(y_t, eq1.rhs)\n",
    "eq2_sub"
   ]
  },
  {
   "cell_type": "markdown",
   "metadata": {},
   "source": [
    "Substituting (2) into (3) we get:"
   ]
  },
  {
   "cell_type": "code",
   "execution_count": 452,
   "metadata": {},
   "outputs": [
    {
     "data": {
      "text/latex": [
       "$\\displaystyle L_{t+1} = L_{t} \\left(\\eta \\left(\\frac{A X}{L_{t}}\\right)^{\\alpha} - \\mu + 1\\right)$"
      ],
      "text/plain": [
       "Eq(L_t+1, L_t*(eta*(A*X/L_t)**alpha - mu + 1))"
      ]
     },
     "execution_count": 452,
     "metadata": {},
     "output_type": "execute_result"
    }
   ],
   "source": [
    "lom = eq3.subs(n_t, eq2_sub.rhs)\n",
    "lom = sm.simplify(lom)\n",
    "lom"
   ]
  },
  {
   "cell_type": "markdown",
   "metadata": {},
   "source": [
    "Which is the law of motion for the labor force."
   ]
  },
  {
   "cell_type": "code",
   "execution_count": 453,
   "metadata": {},
   "outputs": [],
   "source": [
    "# lambdifying the labor law of motion.\n",
    "lom_func = sm.lambdify(args = (L_t, eta, A, X, alpha, mu), expr = lom.rhs)"
   ]
  },
  {
   "cell_type": "code",
   "execution_count": 454,
   "metadata": {},
   "outputs": [],
   "source": [
    "# lom rewritten, so that L_t is not in the denominator. Can sympy do this?\n",
    "lom2 = sm.Eq(L_t1, eta*L_t**(1-alpha)*(A*X)**alpha+(1-mu)*L_t)\n",
    "lom2_func = sm.lambdify(args = (L_t, eta, A, X, alpha, mu), expr = lom2.rhs)"
   ]
  },
  {
   "cell_type": "markdown",
   "metadata": {},
   "source": [
    "## Solving steady state"
   ]
  },
  {
   "cell_type": "markdown",
   "metadata": {},
   "source": [
    "### Analytically"
   ]
  },
  {
   "cell_type": "markdown",
   "metadata": {},
   "source": [
    "Using the definition $L_{t+1} = L_t = L^*$"
   ]
  },
  {
   "cell_type": "code",
   "execution_count": 455,
   "metadata": {},
   "outputs": [
    {
     "data": {
      "text/latex": [
       "$\\displaystyle L^{*} = L^{*} \\left(\\eta \\left(\\frac{A X}{L^{*}}\\right)^{\\alpha} - \\mu + 1\\right)$"
      ],
      "text/plain": [
       "Eq(L^*, L^**(eta*(A*X/L^*)**alpha - mu + 1))"
      ]
     },
     "execution_count": 455,
     "metadata": {},
     "output_type": "execute_result"
    }
   ],
   "source": [
    "lom_ss = lom.subs([(L_t, L_star),(L_t1, L_star)])\n",
    "lom_ss"
   ]
  },
  {
   "cell_type": "code",
   "execution_count": 460,
   "metadata": {},
   "outputs": [
    {
     "data": {
      "text/latex": [
       "$\\displaystyle L^{*} = \\left(\\frac{A^{\\alpha} X^{\\alpha} \\eta}{\\mu}\\right)^{\\frac{1}{\\alpha}}$"
      ],
      "text/plain": [
       "Eq(L^*, (A**alpha*X**alpha*eta/mu)**(1/alpha))"
      ]
     },
     "execution_count": 460,
     "metadata": {},
     "output_type": "execute_result"
    }
   ],
   "source": [
    "ss = sm.Eq(L_star,sm.solve(lom_ss,L_star)[0])\n",
    "ss"
   ]
  },
  {
   "cell_type": "markdown",
   "metadata": {},
   "source": [
    "What about the long run living standards? Inserting the solution for $L^*$ into equation (1), we obtain:"
   ]
  },
  {
   "cell_type": "markdown",
   "metadata": {},
   "source": [
    "### Numerically"
   ]
  },
  {
   "cell_type": "code",
   "execution_count": 361,
   "metadata": {},
   "outputs": [],
   "source": [
    "# Define the values for our parameters\n",
    "eta_val = 0.2 # captures child rearing preferences and relative cost\n",
    "A_val = 3 # technology level\n",
    "X_val = 8 # amount of land\n",
    "alpha_val = 0.75\n",
    "mu_val = 0.5 # on average people survive for two periods"
   ]
  },
  {
   "cell_type": "code",
   "execution_count": 476,
   "metadata": {},
   "outputs": [],
   "source": [
    "ss_func = sm.lambdify(args = (A, X, alpha, eta, mu), expr = ss.rhs)"
   ]
  },
  {
   "cell_type": "code",
   "execution_count": 470,
   "metadata": {},
   "outputs": [
    {
     "data": {
      "text/plain": [
       "7.073340477389542"
      ]
     },
     "execution_count": 470,
     "metadata": {},
     "output_type": "execute_result"
    }
   ],
   "source": [
    "ss_val = ss_func(A_val, X_val, alpha_val, eta_val, mu_val)\n",
    "ss_val"
   ]
  },
  {
   "cell_type": "markdown",
   "metadata": {},
   "source": [
    "## Graphic analysis"
   ]
  },
  {
   "cell_type": "code",
   "execution_count": 556,
   "metadata": {},
   "outputs": [
    {
     "data": {
      "image/png": "[encoded data removed]",
      "text/plain": [
       "<Figure size 720x720 with 1 Axes>"
      ]
     },
     "metadata": {
      "needs_background": "light"
     },
     "output_type": "display_data"
    }
   ],
   "source": [
    "# The data for labor law of motion\n",
    "L_t_array = np.linspace(0,10,num=10000)\n",
    "L_t1_array = lom2_func(L_t_array,eta_val,A_val,X_val,alpha_val,mu_val)\n",
    "L_t1_array2 = lom2_func(L_t_array,eta_val,4,X_val,alpha_val,mu_val)\n",
    "line45 = L_t_array\n",
    "\n",
    "# The figure\n",
    "fig = plt.figure(figsize=(10,10))\n",
    "ax = fig.add_subplot(1,1,1)\n",
    "\n",
    "# removing axis ticklabels\n",
    "ax.set_xticklabels([])\n",
    "ax.set_yticklabels([])\n",
    "\n",
    "ax.set_xlim(xmin=0,xmax=10)\n",
    "ax.set_ylim(ymin=0,ymax=10)\n",
    "\n",
    "# plotting the law of motion for labor \n",
    "ax.plot(L_t_array, line45, label=\"$L_t = L_{t+1}$\", color='red',linewidth=3)\n",
    "ax.plot(L_t_array, L_t1_array, label=\"$L_{t+1}$\", color='green',linewidth=3)\n",
    "ax.plot(L_t_array, L_t1_array2, label=\"$L_{t+1}$ Higher A\", color='green',linewidth=3)\n",
    "\n",
    "# plotting steady state\n",
    "ax.vlines(ss_val, ymin = 0, ymax=ss_val, label='steady state', color=\"black\")\n",
    "ax.hlines(ss_val, xmin = 0, xmax=ss_val, color=\"black\")\n",
    "plt.text(ss_val-0.1, -0.3, '$L^*$')\n",
    "\n",
    "# plotting transition to steady state\n",
    "L_0 = lom2_func(2,eta_val,A_val,X_val,alpha_val,mu_val)\n",
    "L_1 = lom2_func(L_0,eta_val,A_val,X_val,alpha_val,mu_val)\n",
    "\n",
    "ax.vlines(2, 0, L_0, color=\"black\")\n",
    "plt.text(2-0.1, -0.3, '$L_0$')\n",
    "ax.hlines(L_0, 2, L_0, color=\"black\")\n",
    "ax.vlines(L_0, L_0, L_1, color=\"black\")\n",
    "ax.vlines(L_0, 0, L_0, linestyle='dashed', color=\"black\")\n",
    "plt.text(L_0-0.1, -0.3, '$L_1$')\n",
    "ax.arrow(L_0, L_1, 0.5, 0, width=0.04, head_length=0.25, overhang=0.15, color=\"black\")\n",
    "\n",
    "ax.set_xlabel(\"$L_t$\")\n",
    "ax.set_ylabel(\"$L_{t+1}$\")\n",
    "ax.legend(loc=\"upper left\")\n",
    "\n",
    "ax.grid()\n",
    "ax.spines['left'].set_position('zero')\n",
    "ax.spines['bottom'].set_position('zero')\n",
    "ax.spines['top'].set_visible(False)\n",
    "ax.spines['right'].set_visible(False)"
   ]
  },
  {
   "cell_type": "markdown",
   "metadata": {
    "tags": []
   },
   "source": [
    "> **Note:** If you are not that friendly with markdown and latex you can refer to an external document with the model description instead.\n",
    "\n",
    "We consider the **standard Solow-model** where:\n",
    "\n",
    "1. $K_t$ is capital\n",
    "* $L_t$ is labor (growing with a constant rate of $n$)\n",
    "* $A_t$ is technology (growing with a constant rate of $g$)\n",
    "* $Y_t = F(K_t,A_tL_t)$ is GDP\n",
    "\n",
    "**Saving** is a constant fraction of GDP\n",
    "\n",
    "$$ S_t = sY_t,\\,s\\in(0,1) $$\n",
    "\n",
    "such that **capital accumulates** according to\n",
    "\n",
    "$$ K_{t+1}=S_{t}+(1-\\delta)K_{t}=sF(K_{t},A_{t}L_{t})+(1-\\delta)K_{t}, \\delta \\in (0,1) $$\n",
    "\n",
    "The **production function** has **constant-return to scale** such that\n",
    "\n",
    "$$ \\frac{Y_{t}}{A_{t}L_{t}}=\\frac{F(K_{t},A_{t}L_{t})}{A_{t}L_{t}}=F(\\tilde{k}_{t},1)\\equiv f(\\tilde{k}_{t}) $$\n",
    "\n",
    "where $\\tilde{k}_t = \\frac{K_t}{A_{t}L_{t}}$ is the technology adjusted capital-labor ratio.\n",
    "\n",
    "The **transition equation** then becomes\n",
    "\n",
    "$$ \\tilde{k}_{t+1}= \\frac{1}{(1+n)(1+g)}[sf(\\tilde{k}_{t})+(1-\\delta)\\tilde{k}_{t}] $$\n",
    "\n",
    "We assume the **production function** is **Cobb-Douglas** so\n",
    "\n",
    "$$ F(K_{t},A_{t}L_{t})=K_{t}^{\\alpha}(A_{t}L_{t})^{1-\\alpha}\\Rightarrow f(\\tilde{k}_{t})=\\tilde{k}_{t}^{\\alpha} $$"
   ]
  },
  {
   "cell_type": "markdown",
   "metadata": {
    "tags": []
   },
   "source": [
    "# Steady state"
   ]
  },
  {
   "cell_type": "markdown",
   "metadata": {},
   "source": [
    "## Analytical solution"
   ]
  },
  {
   "cell_type": "markdown",
   "metadata": {},
   "source": [
    "We can use **sympy** to find an analytical expression for the steady state, i.e. solve\n",
    "\n",
    "$$ \\tilde{k}^{\\ast}= \\frac{1}{(1+n)(1+g)}[sf(\\tilde{k}^{\\ast})+(1-\\delta)\\tilde{k}^{\\ast}] $$"
   ]
  },
  {
   "cell_type": "markdown",
   "metadata": {},
   "source": [
    "First we define all **symbols**:"
   ]
  },
  {
   "cell_type": "code",
   "execution_count": 8,
   "metadata": {},
   "outputs": [],
   "source": [
    "k = sm.symbols('k')\n",
    "alpha = sm.symbols('alpha')\n",
    "delta = sm.symbols('delta')\n",
    "s = sm.symbols('s')\n",
    "g = sm.symbols('g')\n",
    "n = sm.symbols('n')"
   ]
  },
  {
   "cell_type": "markdown",
   "metadata": {},
   "source": [
    "Then we define the **steady state equation**"
   ]
  },
  {
   "cell_type": "code",
   "execution_count": 9,
   "metadata": {},
   "outputs": [],
   "source": [
    "ss = sm.Eq(k,(s*k**alpha+(1-delta)*k)/((1+n)*(1+g)))"
   ]
  },
  {
   "cell_type": "markdown",
   "metadata": {},
   "source": [
    "and **solve** it"
   ]
  },
  {
   "cell_type": "code",
   "execution_count": 4,
   "metadata": {},
   "outputs": [
    {
     "data": {
      "text/latex": [
       "$\\displaystyle \\left(\\frac{\\delta + g n + g + n}{s}\\right)^{\\frac{1}{\\alpha - 1}}$"
      ],
      "text/plain": [
       "((delta + g*n + g + n)/s)**(1/(alpha - 1))"
      ]
     },
     "execution_count": 4,
     "metadata": {},
     "output_type": "execute_result"
    }
   ],
   "source": [
    "kss = sm.solve(ss,k)[0]\n",
    "kss"
   ]
  },
  {
   "cell_type": "markdown",
   "metadata": {},
   "source": [
    "For later use, we turn the solution into a **Python funciton**"
   ]
  },
  {
   "cell_type": "code",
   "execution_count": 5,
   "metadata": {},
   "outputs": [],
   "source": [
    "ss_func = sm.lambdify((s,g,n,alpha,delta),kss)"
   ]
  },
  {
   "cell_type": "markdown",
   "metadata": {},
   "source": [
    "## Numerical solution"
   ]
  },
  {
   "cell_type": "markdown",
   "metadata": {},
   "source": [
    "We can re-write the equation for the steady state capital per capita as\n",
    "\n",
    "\\\\[ 0 = \\frac{1}{(1+n)(1+g)}[sf(\\tilde{k}^{\\ast})+(1-\\delta)\\tilde{k}^{\\ast}] - \\tilde{k}^{\\ast} \\\\]\n",
    "\n",
    "whereby it clearly becomes a **root-finding problem**. Such a problem can be solved by a **bisection method**."
   ]
  },
  {
   "cell_type": "markdown",
   "metadata": {},
   "source": [
    "Define the model **parameters**:"
   ]
  },
  {
   "cell_type": "code",
   "execution_count": 6,
   "metadata": {},
   "outputs": [],
   "source": [
    "s = 0.2\n",
    "g = 0.02\n",
    "n = 0.01\n",
    "alpha = 1/3\n",
    "delta = 0.1"
   ]
  },
  {
   "cell_type": "markdown",
   "metadata": {},
   "source": [
    "**Solve numerically** for the steady state:"
   ]
  },
  {
   "cell_type": "code",
   "execution_count": 7,
   "metadata": {},
   "outputs": [
    {
     "name": "stdout",
     "output_type": "stream",
     "text": [
      "analytical solution is: 1.904\n",
      " numerical solution is: 1.904\n"
     ]
    }
   ],
   "source": [
    "solution = modelproject.solve_for_ss(s,g,n,alpha,delta)\n",
    "\n",
    "print(f'analytical solution is: {ss_func(s,g,n,alpha,delta):.3f}')\n",
    "print(f' numerical solution is: {solution.root:.3f}')"
   ]
  },
  {
   "cell_type": "markdown",
   "metadata": {},
   "source": [
    "# Further analysis"
   ]
  },
  {
   "cell_type": "markdown",
   "metadata": {},
   "source": [
    "ADD FURTHER ANALYSIS, VISUALIZATIONS AND EXTENSIONS."
   ]
  },
  {
   "cell_type": "markdown",
   "metadata": {},
   "source": [
    "# Conclusion"
   ]
  },
  {
   "cell_type": "markdown",
   "metadata": {},
   "source": [
    "ADD CONCISE CONCLUSION."
   ]
  }
 ],
 "metadata": {
  "kernelspec": {
   "display_name": "Python 3",
   "language": "python",
   "name": "python3"
  },
  "language_info": {
   "codemirror_mode": {
    "name": "ipython",
    "version": 3
   },
   "file_extension": ".py",
   "mimetype": "text/x-python",
   "name": "python",
   "nbconvert_exporter": "python",
   "pygments_lexer": "ipython3",
   "version": "3.8.8"
  },
  "toc-autonumbering": true
 },
 "nbformat": 4,
 "nbformat_minor": 4
}
