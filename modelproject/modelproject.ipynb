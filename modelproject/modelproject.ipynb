{
 "cells": [
  {
   "cell_type": "markdown",
   "metadata": {},
   "source": [
    "# A simple dynamic Malthusian model\n",
    "___"
   ]
  },
  {
   "cell_type": "markdown",
   "metadata": {},
   "source": [
    "> **Note:** Github numbers all equations when rendering $\\LaTeX$ equations in markdown. For correct numbering please open the notebook in JupyterLab."
   ]
  },
  {
   "cell_type": "markdown",
   "metadata": {},
   "source": [
    "Imports and set magics:"
   ]
  },
  {
   "cell_type": "code",
   "execution_count": 1,
   "metadata": {},
   "outputs": [],
   "source": [
    "import numpy as np\n",
    "from scipy import optimize\n",
    "import sympy as sm\n",
    "import matplotlib.pyplot as plt\n",
    "plt.style.use('seaborn-whitegrid')\n",
    "plt.rcParams['font.size'] = '16'\n",
    "import ipywidgets as widgets\n",
    "\n",
    "# autoreload modules when code is run\n",
    "%load_ext autoreload\n",
    "%autoreload 2\n",
    "\n",
    "# local modules\n",
    "import modelproject as mp"
   ]
  },
  {
   "cell_type": "markdown",
   "metadata": {},
   "source": [
    "# Model description"
   ]
  },
  {
   "cell_type": "markdown",
   "metadata": {},
   "source": [
    "Before the industrial revolution societies in general could not be explained by the Solow-Swan model. In 1798 Thomas Malthus noted his contemporary observations and formulated his theory. He argued that an increase in a nation's food production improved the well-being of the population, but only temporary since the better living standards led to population growth, which in turn restored the original per capita production. Thus long term per capita income stagnated and that is refered to as the \"Malthusian trap\". Empirical evidence suggests that the model is could be relevant dating back to at least 10.000 BC. In the subject \"The history of economics\" (Økonomisk historie) Malthus' theory is modelled. The total production is modelled as a Cobb-Douglas production that depends on the inputs labor $L_t$, level of techonology $A$ and land $X$."
   ]
  },
  {
   "cell_type": "markdown",
   "metadata": {},
   "source": [
    "\\begin{align}\n",
    "    Y_t &= L_t^{1-\\alpha}\\,(AX)^\\alpha \\, , \\;\\; 0<\\alpha<1\\\\\n",
    "\\end{align}"
   ]
  },
  {
   "cell_type": "markdown",
   "metadata": {},
   "source": [
    "Thus output per worker is $Y_t/L_t \\equiv y_t$:\n",
    "\\begin{align}\n",
    "    y_t &= \\Big(\\frac{AX}{L_t}\\Big)^\\alpha \\label{eq1}\\tag{1}\n",
    "\\end{align}"
   ]
  },
  {
   "cell_type": "markdown",
   "metadata": {},
   "source": [
    "Furthermore the model assumes that the birth rate or surviving children per capita $n_t$ depends on the income with a factor $\\eta$ (empirical evidence supports this assumption). Mere reproduction would imply $n_t = 1$. The factor $\\eta$ captures the preferences and relative cost of having children. It is expected to be large in a society where there is a particular cultural valuation of having many children and/or where the cost of child rearing is modest."
   ]
  },
  {
   "cell_type": "markdown",
   "metadata": {},
   "source": [
    "\\begin{align}\n",
    "    n_t &= \\eta y_t \\label{eq2}\\tag{2} \\\\\n",
    "\\end{align}"
   ]
  },
  {
   "cell_type": "markdown",
   "metadata": {},
   "source": [
    "For simplification the model assumes that the entire population is working from birth to death. Equation 3 is the law of motion for population.\n",
    "\\begin{align}\n",
    "    L_{t+1} &= n_t L_t + (1-\\mu) L_t \\label{eq3}\\tag{3} \\\\\n",
    "\\end{align}"
   ]
  },
  {
   "cell_type": "markdown",
   "metadata": {},
   "source": [
    "In the next period the population is given by the remaining population, those who did not die $(1-\\mu) L_t$ (where $\\mu$ is the death rate) and increased by total amount of surviving children each period $n_t L_t$."
   ]
  },
  {
   "cell_type": "markdown",
   "metadata": {},
   "source": [
    "# Solving steady state"
   ]
  },
  {
   "cell_type": "markdown",
   "metadata": {},
   "source": [
    "## Analytically using sympy"
   ]
  },
  {
   "cell_type": "markdown",
   "metadata": {},
   "source": [
    "To solve the model and find the steady state population $L^*$:\n",
    "1. In [equation 2](#mjx-eqn-eq2) for $n_t$ substitute $y_t$ with the expression from [equation 1](#mjx-eqn-eq1).\n",
    "2. Substitute this expression for $n_t$ into the law of motion in [equation 3](#mjx-eqn-eq3).\n",
    "3. Set $L^* = L_{t+1} = L_t$ in steady state.\n",
    "4. Solve for $L^*$ to find an expression for the steady state population."
   ]
  },
  {
   "cell_type": "markdown",
   "metadata": {},
   "source": [
    "We start by creating the sympy symbols and equation objects. For some symbols we add some assumptions that allows sympy to simplify the resulting equation as desired."
   ]
  },
  {
   "cell_type": "code",
   "execution_count": 2,
   "metadata": {},
   "outputs": [],
   "source": [
    "# declaring symbols\n",
    "y_t = sm.symbols('y_t')\n",
    "A = sm.symbols('A',real=True,positive=True) # A >= 0\n",
    "X = sm.symbols('X',real=True,positive=True) # X >= 0\n",
    "L_t = sm.symbols('L_t')\n",
    "alpha = sm.symbols('alpha',real=True,positive=True) # strictly positive, since 0<alpha<1\n",
    "n_t = sm.symbols('n_t')\n",
    "eta = sm.symbols('eta',real=True,positive=True)\n",
    "mu = sm.symbols('mu',real=True,positive=True)\n",
    "L_t1 = sm.symbols('L_{t+1}')\n",
    "L_star = sm.symbols('L^*')"
   ]
  },
  {
   "cell_type": "code",
   "execution_count": 3,
   "metadata": {},
   "outputs": [],
   "source": [
    "# sympifying equations\n",
    "eq1 = sm.Eq(y_t, (A*X)**alpha * L_t**(-alpha))\n",
    "eq2 = sm.Eq(n_t, eta*y_t)\n",
    "eq3 = sm.Eq(L_t1,(1-mu)*L_t + n_t*L_t)"
   ]
  },
  {
   "cell_type": "markdown",
   "metadata": {},
   "source": [
    "___"
   ]
  },
  {
   "cell_type": "markdown",
   "metadata": {},
   "source": [
    "**STEP 1:** Substituting [eq. (1)](#mjx-eqn-eq1) into [eq. (2)](#mjx-eqn-eq2):"
   ]
  },
  {
   "cell_type": "code",
   "execution_count": 4,
   "metadata": {
    "tags": []
   },
   "outputs": [
    {
     "data": {
      "text/latex": [
       "$\\displaystyle n_{t} = L_{t}^{- \\alpha} \\eta \\left(A X\\right)^{\\alpha}$"
      ],
      "text/plain": [
       "Eq(n_t, L_t**(-alpha)*eta*(A*X)**alpha)"
      ]
     },
     "metadata": {},
     "output_type": "display_data"
    }
   ],
   "source": [
    "# step 1\n",
    "eq2_sub = eq2.subs(y_t, eq1.rhs)\n",
    "display(eq2_sub)"
   ]
  },
  {
   "cell_type": "markdown",
   "metadata": {},
   "source": [
    "**STEP 2:** Substituting the new expression of [eq. (2)](#mjx-eqn-eq2) into [eq. (3)](#mjx-eqn-eq3) we get a new expression for the population law of motion:"
   ]
  },
  {
   "cell_type": "code",
   "execution_count": 5,
   "metadata": {},
   "outputs": [
    {
     "data": {
      "text/latex": [
       "$\\displaystyle L_{t+1} = L_{t} \\left(1 - \\mu\\right) + L_{t}^{1 - \\alpha} \\eta \\left(A X\\right)^{\\alpha}$"
      ],
      "text/plain": [
       "Eq(L_{t+1}, L_t*(1 - mu) + L_t**(1 - alpha)*eta*(A*X)**alpha)"
      ]
     },
     "metadata": {},
     "output_type": "display_data"
    }
   ],
   "source": [
    "# step 2\n",
    "lom = eq3.subs(n_t, eq2_sub.rhs)\n",
    "lom = sm.Eq(L_t1, lom.rhs.powsimp()) # only for aesthetics/readability when displaying\n",
    "display(lom)"
   ]
  },
  {
   "cell_type": "markdown",
   "metadata": {},
   "source": [
    "> Note: For the part only for aesthetics - for some reason sm.simplify won't simplify the powers of this equation and .powsimp() cannot be called on Equality objects, but it does simplify powers as desired when using only the rhs (or lhs for that matter). Hence this rather confusing line."
   ]
  },
  {
   "cell_type": "markdown",
   "metadata": {},
   "source": [
    "**STEP 3:** Using the definition $L_{t+1} = L_t = L^*$"
   ]
  },
  {
   "cell_type": "code",
   "execution_count": 6,
   "metadata": {},
   "outputs": [
    {
     "data": {
      "text/latex": [
       "$\\displaystyle L^{*} = L^{*} \\left(1 - \\mu\\right) + \\left(L^{*}\\right)^{1 - \\alpha} \\eta \\left(A X\\right)^{\\alpha}$"
      ],
      "text/plain": [
       "Eq(L^*, L^**(1 - mu) + L^***(1 - alpha)*eta*(A*X)**alpha)"
      ]
     },
     "metadata": {},
     "output_type": "display_data"
    }
   ],
   "source": [
    "# step 3: substituting L* for L_t and L_t+1, by passing a list of tuples to sm.subs()\n",
    "lom_ss = lom.subs([(L_t, L_star),(L_t1, L_star)])\n",
    "display(lom_ss)"
   ]
  },
  {
   "cell_type": "markdown",
   "metadata": {},
   "source": [
    "**STEP 4:** Solving for steady state, $L^*$."
   ]
  },
  {
   "cell_type": "code",
   "execution_count": 7,
   "metadata": {},
   "outputs": [
    {
     "data": {
      "text/latex": [
       "$\\displaystyle L^{*} = A X \\left(\\frac{\\eta}{\\mu}\\right)^{\\frac{1}{\\alpha}}$"
      ],
      "text/plain": [
       "Eq(L^*, A*X*(eta/mu)**(1/alpha))"
      ]
     },
     "metadata": {},
     "output_type": "display_data"
    }
   ],
   "source": [
    "# step 4\n",
    "ss = sm.Eq(L_star,sm.solve(lom_ss,L_star)[0]).expand().simplify() # expand -> simplify gives a cleaner result\n",
    "display(ss)"
   ]
  },
  {
   "cell_type": "markdown",
   "metadata": {},
   "source": [
    "A nice clean result for the steady state of population. We can quickly deduct that techonology $A$, land $X$ and child pref./cost $\\eta$ affects long term population positively and death rate $\\mu$ affects it negatively."
   ]
  },
  {
   "cell_type": "markdown",
   "metadata": {},
   "source": [
    "To compare with a numerical solution next, we will turn the steady state expression into a python function."
   ]
  },
  {
   "cell_type": "code",
   "execution_count": 8,
   "metadata": {},
   "outputs": [],
   "source": [
    "# steady state lambdified\n",
    "ss_func = sm.lambdify(args = (A, X, alpha, eta, mu), expr = ss.rhs)"
   ]
  },
  {
   "cell_type": "markdown",
   "metadata": {},
   "source": [
    "### Income per capita"
   ]
  },
  {
   "cell_type": "code",
   "execution_count": 9,
   "metadata": {},
   "outputs": [],
   "source": [
    "# declaring symbol for ss income per capita\n",
    "y_star = sm.symbols('y^*')"
   ]
  },
  {
   "cell_type": "markdown",
   "metadata": {},
   "source": [
    "So how about the income per capita? Well if we insert the solution for $L^*$ into equation 1 we get can get an expression of steady state income per capita:"
   ]
  },
  {
   "cell_type": "code",
   "execution_count": 10,
   "metadata": {},
   "outputs": [
    {
     "data": {
      "text/latex": [
       "$\\displaystyle y^{*} = \\frac{\\mu}{\\eta}$"
      ],
      "text/plain": [
       "Eq(y^*, mu/eta)"
      ]
     },
     "execution_count": 10,
     "metadata": {},
     "output_type": "execute_result"
    }
   ],
   "source": [
    "rhs = eq1.rhs.subs(L_t,ss.rhs).simplify()\n",
    "sm.Eq(y_star, rhs)"
   ]
  },
  {
   "cell_type": "markdown",
   "metadata": {},
   "source": [
    "Which means that long term income per capita <u>**only**</u> depends on the death rate and preference/cost of having children. A rise in mortality $\\uparrow\\mu$ would increase the long term income per capita, and if more resources are spent on having children $\\uparrow\\eta$ the long term income would fall. This confirms the counterintuitive logic of the Malthusian model, where plagues, war and disorder increased material living standards, while peace, medicational improvements and insurance of harvest failures all decreased the material living standards in the long term by inducing population growth, that would \"eat up\" the total income due to the diminishing returns from the labor force growth on total output.\n",
    "Thomas Malthus opposed the English poor laws, that was effectively wealth distribution, since they made the average man poorer in the long term. He also suggested reducing the birth rate by enforcing later marriages by law."
   ]
  },
  {
   "cell_type": "markdown",
   "metadata": {},
   "source": [
    "## Numerically"
   ]
  },
  {
   "cell_type": "markdown",
   "metadata": {},
   "source": [
    "In the expression of law of motion for population [eq. (3)](#mjx-eqn-eq3) we can move $L_{t+1}$ to the right hand side and use $L_{t+1} = L_t = L^*$ for steady state, to set up a root finding problem:\n",
    "$$0 = L^{*} (1 - \\mu) + (L^{*})^{1 - \\alpha} \\eta (A X)^{\\alpha} - L^{*}$$"
   ]
  },
  {
   "cell_type": "markdown",
   "metadata": {},
   "source": [
    "Which can be solved numerically and the root found using `scipy.optimize.root_scalar`. The brent method is chosen since its considered the safest and usable for most functions. We start by chosing some parameters:"
   ]
  },
  {
   "cell_type": "code",
   "execution_count": 11,
   "metadata": {},
   "outputs": [],
   "source": [
    "# define the values for our parameters\n",
    "A_val = 3 # technology level\n",
    "X_val = 8 # amount of land\n",
    "alpha_val = 0.75\n",
    "eta_val = 0.2 # child rearing preferences and relative cost\n",
    "mu_val = 0.5 # half of the population passes away every period"
   ]
  },
  {
   "cell_type": "code",
   "execution_count": 12,
   "metadata": {},
   "outputs": [
    {
     "name": "stdout",
     "output_type": "stream",
     "text": [
      "      converged: True\n",
      "           flag: 'converged'\n",
      " function_calls: 11\n",
      "     iterations: 10\n",
      "           root: 7.073340477389544\n"
     ]
    }
   ],
   "source": [
    "# calling root_scalar\n",
    "obj = lambda L: L*(1-mu_val)+L**(1-alpha_val)*eta_val*(A_val*X_val)**alpha_val-L\n",
    "res  = optimize.root_scalar(obj,bracket=[0.1,100],method='brentq')\n",
    "print(res)"
   ]
  },
  {
   "cell_type": "markdown",
   "metadata": {},
   "source": [
    "In comparison with the analytical result:"
   ]
  },
  {
   "cell_type": "code",
   "execution_count": 13,
   "metadata": {},
   "outputs": [
    {
     "name": "stdout",
     "output_type": "stream",
     "text": [
      "analytical steady state: 7.073\n",
      " numerical steady state: 7.073\n"
     ]
    }
   ],
   "source": [
    "print(f'analytical steady state: {ss_func(A_val,X_val,alpha_val,eta_val,mu_val):.3f}')\n",
    "print(f' numerical steady state: {res.root:.3f}')"
   ]
  },
  {
   "cell_type": "markdown",
   "metadata": {},
   "source": [
    "# Graphic parameterization"
   ]
  },
  {
   "cell_type": "code",
   "execution_count": 14,
   "metadata": {},
   "outputs": [],
   "source": [
    "# lambdifying the population law of motion to graph it\n",
    "lom_func = sm.lambdify(args = (L_t, A, X, alpha, eta, mu), expr = lom.rhs)"
   ]
  },
  {
   "cell_type": "code",
   "execution_count": 15,
   "metadata": {
    "tags": []
   },
   "outputs": [
    {
     "data": {
      "application/vnd.jupyter.widget-view+json": {
       "model_id": "091048cf733a4e2599100cdd3dbf316e",
       "version_major": 2,
       "version_minor": 0
      },
      "text/plain": [
       "interactive(children=(FloatSlider(value=3.0, description='$A$', max=10.0, min=2.0, step=1.0), FloatSlider(valu…"
      ]
     },
     "metadata": {},
     "output_type": "display_data"
    }
   ],
   "source": [
    "widgets.interact(mp.graph_lom,\n",
    "                 A_val = widgets.FloatSlider(description = '$A$' , min = 2, max = 10, step=1, value=3),\n",
    "                 X_val = widgets.FloatSlider(description = '$X$' , min = 2, max = 10, step=1, value=8),\n",
    "                 alpha_val = widgets.FloatSlider(description = r'$ \\alpha $' , min = 0.35, max = 0.95, step=0.05, value=0.75),\n",
    "                 eta_val = widgets.FloatSlider(description = '$\\eta$' , min = 0.1, max = 2, step=0.1, value=0.2),\n",
    "                 mu_val = widgets.FloatSlider(description = '$\\mu$' , min = 0.1, max = 1, step=0.05, value=0.5),\n",
    "                 initial_L = widgets.FloatSlider(description = 'initial', min=0.05, max=0.95, step=0.05, value=0.2),\n",
    "                 ss_func = widgets.fixed(ss_func),\n",
    "                 lom_func = widgets.fixed(lom_func));"
   ]
  },
  {
   "cell_type": "markdown",
   "metadata": {},
   "source": [
    "If we manipulate the parameters, we see that a higher productivity $A$, more land $X$ and higher birth preference/lower costs $\\eta$ allows for a larger steady state (larger populations in the long term), but they do nothing to the speed of convergence towards steady state. When moving $\\alpha$ or $\\mu$ the law of motion curve changes shape.\n",
    "\n",
    "A higher $\\alpha$ means a worse return of labor in the production. The \"punishment\" (diminishing return) of being more people is bad. The marginal worker adds very little to the aggregate output, so his presence lowers the income per capita by a large amount. Lowers the birthrate.\n",
    "\n",
    "A higher $\\mu$ implies more people dying in every period. Lower average lifespan means fewer years where fertile women can give birth. Lower steady state.\n",
    "\n",
    "Both $\\alpha$ and $\\mu$ change the speed of convergence towards steady steady, because they increase the malthusian grip. The dynamics of the model work quicker because the period to period changes are large.\n",
    "\n",
    "These are both things that would increase the Malthusian grip and result in a quicker convergence towards a lower steady state. Kig på alpha og mu enkeltvis. Den ene tillader højere ss, men hurtigere convergence. Lav alpha betyder god return på større befolkning, så \"straffen\" for at blive flere mennesker er ikke lige så slem."
   ]
  },
  {
   "cell_type": "markdown",
   "metadata": {},
   "source": [
    "# Implementing technological growth"
   ]
  },
  {
   "cell_type": "markdown",
   "metadata": {},
   "source": [
    "So far we have assumed a constant level of technology $A$, while the technological advancement before the industrial revolution was low, it was not zero. Inventions such as the wheel, nails, paper, ships or plumbing are all well before the industrial revolution and must undeniably have improved productivity to some degree. To see the impact of a growing $A$ lets assume that:"
   ]
  },
  {
   "cell_type": "markdown",
   "metadata": {},
   "source": [
    "\\begin{align}\n",
    "    \\frac{A_{t+1}}{A_t}=g\\label{eq4}\\tag{4}\\\\\n",
    "\\end{align}"
   ]
  },
  {
   "cell_type": "markdown",
   "metadata": {},
   "source": [
    "Where $g$ is the growth factor (so far we assumed that $g=1$)."
   ]
  },
  {
   "cell_type": "markdown",
   "metadata": {},
   "source": [
    "Including technological change in the system we can define $l_t \\equiv \\frac{L_t}{A_t}$ as the relative population to technological level. To find the law of motion we can observe the following, by using the definition of the growth factor $g$ [eq. (4)](#mjx-eqn-eq4):"
   ]
  },
  {
   "cell_type": "markdown",
   "metadata": {},
   "source": [
    "\\begin{align}\n",
    "    l_{t+1} g &= \\frac{L_{t+1}}{A_{t+1}} \\frac{A_{t+1}}{A_t} \\\\\n",
    "    &\\Leftrightarrow\\\\\n",
    "    l_{t+1} g &= \\frac{L_{t+1}}{A_t}\\label{eq5}\\tag{5}\n",
    "\\end{align}"
   ]
  },
  {
   "cell_type": "markdown",
   "metadata": {},
   "source": [
    "As seen in equation 5 to find the new expression for the law of motion, we can simply divide [$L_{t+1}$ (eq. 3)](#mjx-eqn-eq3) with $A_t$ and isolate $l_{t+1}$. Steady state in the system including technological change would imply $l_{t+1}=l_t=l^*$."
   ]
  },
  {
   "cell_type": "markdown",
   "metadata": {},
   "source": [
    "## Analytical analysis of steady state"
   ]
  },
  {
   "cell_type": "markdown",
   "metadata": {},
   "source": [
    "To solve the extended model and find the steady state of population relative to productivity $l^*$:\n",
    "1. In [equation 2](#mjx-eqn-eq2) for $n_t$ substitute $y_t$ with the expression in [equation 1](#mjx-eqn-eq1).\n",
    "2. Substitute this expression for $n_t$ into the law of motion in [equation 3](#mjx-eqn-eq3).\n",
    "3. Divide law of motion [$L_{t+1}$ (eq. 3)](#mjx-eqn-eq3) with productivity $A_t$ to find $l_{t+1} g$.\n",
    "4. Set $l^* = l_{t+1} = l_t$ in steady state.\n",
    "5. Solve for $l^*$ to find an expression for the steady state."
   ]
  },
  {
   "cell_type": "code",
   "execution_count": 16,
   "metadata": {},
   "outputs": [],
   "source": [
    "# declaring symbols for the extended model\n",
    "A_t = sm.symbols('A_t')\n",
    "l_t = sm.symbols('l_t')\n",
    "l_t1 = sm.symbols('l_{t+1}')\n",
    "l_star = sm.symbols('l^*')\n",
    "g = sm.symbols('g')"
   ]
  },
  {
   "cell_type": "markdown",
   "metadata": {},
   "source": [
    "**STEP 3:** Since step 1 and 2 are the same as the previous model, we can start by dividing at step 3 (I did not have luck in trying to make sympy do this part in a readable manner, therefore done manually):"
   ]
  },
  {
   "cell_type": "markdown",
   "metadata": {},
   "source": [
    "\\begin{align}\n",
    "    l_{t+1} g &= \\frac{L_{t+1}}{A_t}\\\\\n",
    "    &\\Leftrightarrow\\\\\n",
    "    l_{t+1} g &= \\eta L_t^{1-\\alpha} A_t^{-1} (A_t X)^\\alpha + (1-\\mu) \\frac{L_t}{A_t}\\\\\n",
    "    &\\Leftrightarrow\\\\\n",
    "    l_{t+1} g &= \\eta L_t^{1-\\alpha} A_t^{-(1-\\alpha)} (X)^\\alpha + (1-\\mu) \\frac{L_t}{A_t}\\\\\n",
    "    &\\Leftrightarrow\\\\\n",
    "    l_{t+1} g &= \\eta \\bigg(\\frac{L_t}{A_t}\\bigg)^{1-\\alpha} X^\\alpha + (1-\\mu) \\frac{L_t}{A_t}\\\\\n",
    "    &\\Leftrightarrow\\\\\n",
    "    l_{t+1} g &= \\eta l_t^{1-\\alpha} X^\\alpha + (1-\\mu) l_t\\\\\n",
    "    &\\Leftrightarrow\\\\\n",
    "    l_{t+1} &= \\eta g^{-1} l_t^{1-\\alpha} X^\\alpha + (1-\\mu) g^{-1} l_t\\\\\n",
    "\\end{align}"
   ]
  },
  {
   "cell_type": "code",
   "execution_count": 17,
   "metadata": {},
   "outputs": [
    {
     "data": {
      "text/latex": [
       "$\\displaystyle l_{t+1} = \\frac{X^{\\alpha} \\eta l_{t}^{1 - \\alpha}}{g} + \\frac{l_{t} \\left(1 - \\mu\\right)}{g}$"
      ],
      "text/plain": [
       "Eq(l_{t+1}, X**alpha*eta*l_t**(1 - alpha)/g + l_t*(1 - mu)/g)"
      ]
     },
     "metadata": {},
     "output_type": "display_data"
    }
   ],
   "source": [
    "# sympifying the new expression of the law of motion\n",
    "lom2 = sm.Eq(l_t1, eta * g**-1 * l_t**(1-alpha) * X**alpha + (1-mu) * g**-1 * l_t)\n",
    "display(lom2)"
   ]
  },
  {
   "cell_type": "markdown",
   "metadata": {},
   "source": [
    "**STEP 4:** Setting steady state, $l_{t+1}=l_t=l^*$."
   ]
  },
  {
   "cell_type": "code",
   "execution_count": 18,
   "metadata": {},
   "outputs": [
    {
     "data": {
      "text/latex": [
       "$\\displaystyle l^{*} = \\frac{X^{\\alpha} \\eta \\left(l^{*}\\right)^{1 - \\alpha}}{g} + \\frac{l^{*} \\left(1 - \\mu\\right)}{g}$"
      ],
      "text/plain": [
       "Eq(l^*, X**alpha*eta*l^***(1 - alpha)/g + l^**(1 - mu)/g)"
      ]
     },
     "metadata": {},
     "output_type": "display_data"
    }
   ],
   "source": [
    "# step4\n",
    "lom2_ss = lom2.subs([(l_t1,l_star),(l_t,l_star)])\n",
    "display(lom2_ss)"
   ]
  },
  {
   "cell_type": "markdown",
   "metadata": {},
   "source": [
    "**STEP 5:** Solving for steady state, $l^*$."
   ]
  },
  {
   "cell_type": "code",
   "execution_count": 19,
   "metadata": {},
   "outputs": [
    {
     "data": {
      "text/latex": [
       "$\\displaystyle l^{*} = X \\left(\\frac{\\eta}{g + \\mu - 1}\\right)^{\\frac{1}{\\alpha}}$"
      ],
      "text/plain": [
       "Eq(l^*, X*(eta/(g + mu - 1))**(1/alpha))"
      ]
     },
     "metadata": {},
     "output_type": "display_data"
    }
   ],
   "source": [
    "# step5: solving for ss\n",
    "ss2 = sm.Eq(l_star, sm.solve(lom2_ss, l_star)[0].expand()).simplify()\n",
    "display(ss2)"
   ]
  },
  {
   "cell_type": "markdown",
   "metadata": {},
   "source": [
    "The steady state contains only constants over time. Population relative to productivity is constant in the long term, which implies that the numerator and denominator in the definition $l_t \\equiv \\frac{L_t}{A_t}$ grows at the same pace. Thus population also grows with the factor $g$."
   ]
  },
  {
   "cell_type": "code",
   "execution_count": 20,
   "metadata": {},
   "outputs": [],
   "source": [
    "# lambdifying to compare with numerical later\n",
    "ss2_func = sm.lambdify(args=(g, X, alpha, eta, mu), expr=ss2.rhs)"
   ]
  },
  {
   "cell_type": "markdown",
   "metadata": {},
   "source": [
    "### Income per capita"
   ]
  },
  {
   "cell_type": "markdown",
   "metadata": {},
   "source": [
    "Keeping [equation (1)](#mjx-eqn-eq1) in mind we can rewrite the steady state equation from above to get an expression that is effectively equal to the per capita income in the steady state in this system with growing productivity $g>1$:"
   ]
  },
  {
   "cell_type": "markdown",
   "metadata": {},
   "source": [
    "\\begin{align}\n",
    "    l^*=\\Big(\\frac{L}{A}\\Big)^* &= X \\bigg(\\frac{\\eta}{g+\\mu-1}\\bigg)^{1/\\alpha}\\\\\n",
    "    &\\Leftrightarrow\\\\\n",
    "    \\Big(\\frac{L}{A X}\\Big)^* &= \\bigg(\\frac{\\eta}{g+\\mu-1}\\bigg)^{1/\\alpha}\\\\\n",
    "    &\\Leftrightarrow\\\\\n",
    "    \\bigg[\\Big(\\frac{L}{A X}\\Big)^*\\bigg]^\\alpha &= \\frac{\\eta}{g+\\mu-1}\\\\\n",
    "    &\\Leftrightarrow\\\\\n",
    "    \\bigg[\\Big(\\frac{A X}{L}\\Big)^*\\bigg]^\\alpha &= \\frac{g+\\mu-1}{\\eta}\\\\\n",
    "    &\\Leftrightarrow\\\\\n",
    "    y^* &= \\frac{g+\\mu-1}{\\eta}\\\\\n",
    "\\end{align}"
   ]
  },
  {
   "cell_type": "markdown",
   "metadata": {},
   "source": [
    "Using sympy, we can achieve the same result, by substituting an expression for $L^*=l^*A^*$ into equation (1) as we did for the model without productivity growth."
   ]
  },
  {
   "cell_type": "code",
   "execution_count": 21,
   "metadata": {},
   "outputs": [
    {
     "data": {
      "text/latex": [
       "$\\displaystyle y^{*} = \\frac{g + \\mu - 1}{\\eta}$"
      ],
      "text/plain": [
       "Eq(y^*, (g + mu - 1)/eta)"
      ]
     },
     "metadata": {},
     "output_type": "display_data"
    }
   ],
   "source": [
    "# a. inserting the steady state for population L_star in eq1, which is ss2*A as stated above\n",
    "ss_y = eq1.subs([(L_t,ss2.rhs*A), (y_t,y_star)]).simplify()\n",
    "\n",
    "# b. telling sympy that denominator is positive and substituting it back and forth\n",
    "denom = sm.symbols('d',real=True,positive=True)\n",
    "ss_y = ss_y.subs(g+mu-1,denom).subs(denom,g+mu-1)\n",
    "\n",
    "display(ss_y)"
   ]
  },
  {
   "cell_type": "markdown",
   "metadata": {},
   "source": [
    "Since the expression consists of only constants, this means that steady state income is also stagnant when introducing technological growth. It is a higher steady state income $\\frac{g+\\mu-1}{\\eta}>\\frac{\\mu}{\\eta}$, but still stagnant."
   ]
  },
  {
   "cell_type": "markdown",
   "metadata": {},
   "source": [
    "> **Note:** The b. part above is rather messy, but I simply couldn't make it simplify the powers otherwise. It thinks that the denominator could be 0 and the entire function could evaluate to a complex number. If an interval for $g$ such as $g>1$ could be specified, it would not be a problem. Try to comment out these two lines and see the resulting expression."
   ]
  },
  {
   "cell_type": "markdown",
   "metadata": {},
   "source": [
    "## Numerical steady state"
   ]
  },
  {
   "cell_type": "markdown",
   "metadata": {},
   "source": [
    "In the expression of law of motion found in STEP 4 above we can move $l_{t+1}$ to the right hand side and use $l_{t+1} = l_t = l^*$ for steady state, to set up a root finding problem:"
   ]
  },
  {
   "cell_type": "code",
   "execution_count": 22,
   "metadata": {
    "jupyter": {
     "source_hidden": true
    },
    "tags": []
   },
   "outputs": [
    {
     "data": {
      "text/latex": [
       "$\\displaystyle 0 = \\frac{X^{\\alpha} \\eta \\left(l^{*}\\right)^{1 - \\alpha}}{g} - l^{*} + \\frac{l^{*} \\left(1 - \\mu\\right)}{g}$"
      ],
      "text/plain": [
       "Eq(0, X**alpha*eta*l^***(1 - alpha)/g - l^* + l^**(1 - mu)/g)"
      ]
     },
     "execution_count": 22,
     "metadata": {},
     "output_type": "execute_result"
    }
   ],
   "source": [
    "sm.Eq(0,lom2_ss.rhs-l_star)"
   ]
  },
  {
   "cell_type": "markdown",
   "metadata": {},
   "source": [
    "Which can be solved numerically and the root found using `scipy.optimize.root_scalar`. The brent method is chosen since its considered the safest and usable for most functions. We use the parameters defined earlier and then add a value for the growth factor $g$ that is included in this model (set at 2% growth)."
   ]
  },
  {
   "cell_type": "code",
   "execution_count": 23,
   "metadata": {},
   "outputs": [],
   "source": [
    "# parametrization\n",
    "g_val = 1.02 # growth factor of productivity"
   ]
  },
  {
   "cell_type": "code",
   "execution_count": 24,
   "metadata": {},
   "outputs": [
    {
     "name": "stdout",
     "output_type": "stream",
     "text": [
      "      converged: True\n",
      "           flag: 'converged'\n",
      " function_calls: 10\n",
      "     iterations: 9\n",
      "           root: 2.237650164729664\n"
     ]
    }
   ],
   "source": [
    "# calling root_scalar\n",
    "obj = lambda l_star: (X_val**alpha_val * eta_val * l_star**(1-alpha_val))/g_val - l_star + (l_star*(1-mu_val))/g_val\n",
    "res = optimize.root_scalar(obj,bracket=[0.1,100],method='brentq')\n",
    "print(res)"
   ]
  },
  {
   "cell_type": "markdown",
   "metadata": {},
   "source": [
    "In comparison with the analytical result:"
   ]
  },
  {
   "cell_type": "code",
   "execution_count": 25,
   "metadata": {},
   "outputs": [
    {
     "name": "stdout",
     "output_type": "stream",
     "text": [
      "analytical steady state: 2.238\n",
      " numerical steady state: 2.238\n"
     ]
    }
   ],
   "source": [
    "print(f'analytical steady state: {ss2_func(g_val,X_val,alpha_val,eta_val,mu_val):.3f}')\n",
    "print(f' numerical steady state: {res.root:.3f}')"
   ]
  },
  {
   "cell_type": "markdown",
   "metadata": {},
   "source": [
    "Same result yielded - we are satisfied with the solution. The nominal value cannot be compared to the solution from the simple model, since we solved for steady state population $L^*$ earlier and population relative to productivity in the extended model $l^*=\\frac{L^*}{A^*}$."
   ]
  },
  {
   "cell_type": "markdown",
   "metadata": {},
   "source": [
    "# Conclusion"
   ]
  },
  {
   "cell_type": "markdown",
   "metadata": {},
   "source": [
    "In the long run there would be no\n",
    "increase in the standard of living unless\n",
    "there were some limits on population\n",
    "growth.\n",
    "• It is a pessimistic theory!\n",
    "\n",
    "Consistent with the growth facts before 1800:\n",
    "production was mainly agricultural, population\n",
    "grew over time, but no significant\n",
    "improvements in the average standard of\n",
    "living\n",
    "• What did happen after 1800?\n",
    "– Sustained growth in standards of living in the\n",
    "richest countries\n",
    "– The richest countries also have experienced a\n",
    "large drop in birth rates \n",
    "Copyright © 2005 Pearson Addison-Wesley. All rights reserved. 6-30\n",
    "• Malthus was wrong on these two dimensions\n",
    "– He did not allow for the effect of increases in K on\n",
    "production. Capital can produce itself.\n",
    "– He did not account for all of the effects of\n",
    "economic forces on population growth. As\n",
    "economy develops, the opportunity cost of raising\n",
    "a large family becomes large. Fertility rate\n",
    "decreases.\n",
    "• We need a GROWTH theory!"
   ]
  }
 ],
 "metadata": {
  "kernelspec": {
   "display_name": "Python 3",
   "language": "python",
   "name": "python3"
  },
  "language_info": {
   "codemirror_mode": {
    "name": "ipython",
    "version": 3
   },
   "file_extension": ".py",
   "mimetype": "text/x-python",
   "name": "python",
   "nbconvert_exporter": "python",
   "pygments_lexer": "ipython3",
   "version": "3.8.8"
  },
  "toc-autonumbering": true
 },
 "nbformat": 4,
 "nbformat_minor": 4
}
