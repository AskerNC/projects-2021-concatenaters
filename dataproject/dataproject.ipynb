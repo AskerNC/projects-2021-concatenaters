{
 "cells": [
  {
   "cell_type": "markdown",
   "id": "1d9f4495",
   "metadata": {},
   "source": [
    "# Dataproject"
   ]
  },
  {
   "cell_type": "markdown",
   "id": "7d1b667f",
   "metadata": {},
   "source": [
    "## Imports and set magics"
   ]
  },
  {
   "cell_type": "code",
   "execution_count": 1,
   "id": "9a51ee05",
   "metadata": {},
   "outputs": [],
   "source": [
    "#!pip install EurostatAPIClient"
   ]
  },
  {
   "cell_type": "code",
   "execution_count": 2,
   "id": "49178490",
   "metadata": {},
   "outputs": [],
   "source": [
    "import pandas as pd\n",
    "import matplotlib.pyplot as plt\n",
    "import ipywidgets as widgets\n",
    "import numpy as np\n",
    "from IPython.display import display\n",
    "\n",
    "from eurostatapiclient import EurostatAPIClient # eurostat API\n",
    "\n",
    "# autoreload modules when code is run\n",
    "%load_ext autoreload\n",
    "%autoreload 2\n",
    "\n",
    "# local modules\n",
    "import dataproject as dp"
   ]
  },
  {
   "cell_type": "markdown",
   "id": "8e560c02",
   "metadata": {},
   "source": [
    "## Scope"
   ]
  },
  {
   "cell_type": "markdown",
   "id": "7cd74248",
   "metadata": {},
   "source": [
    "The data has been chosen to examine air travel patterns across the current European Union members since 1998. We will be able to figure out if there is a connection between income and degree of air travel. The period of the data was chosen due to the fact, that it will cover the Dot-com bubble, the financial crisis of 2007-2008 as well as the corona pandemic.\n"
   ]
  },
  {
   "cell_type": "markdown",
   "id": "04d3fbfb",
   "metadata": {},
   "source": [
    "# The data"
   ]
  },
  {
   "cell_type": "markdown",
   "id": "83e90785",
   "metadata": {},
   "source": [
    "Initial setup of API"
   ]
  },
  {
   "cell_type": "code",
   "execution_count": 3,
   "id": "c057ddac",
   "metadata": {},
   "outputs": [],
   "source": [
    "# initializing the Eurostat API client\n",
    "client = EurostatAPIClient('v2.1','json','en')"
   ]
  },
  {
   "cell_type": "markdown",
   "id": "f73ce88e",
   "metadata": {},
   "source": [
    "When fetching data the Eurostat API requires some parameters such as units of measurement, period, frequency etc. depending on the dataset. Parameters must be given to the API in a list of tuples containing parameter name and value. We want to examine the period 1998-2020 for all datasets. A list of tuples of time-parameters are created using list comprehension."
   ]
  },
  {
   "cell_type": "code",
   "execution_count": 4,
   "id": "1fa002ef",
   "metadata": {},
   "outputs": [],
   "source": [
    "# setting the time parameter to use in all dataset fetches\n",
    "time_param = [('time',f'{i}') for i in reversed(range(1998,2021))]"
   ]
  },
  {
   "cell_type": "markdown",
   "id": "e078d6ed",
   "metadata": {},
   "source": [
    "## Importing and cleaning datasets"
   ]
  },
  {
   "cell_type": "markdown",
   "id": "c0a85dfb",
   "metadata": {},
   "source": [
    "### Passenger numbers"
   ]
  },
  {
   "cell_type": "markdown",
   "id": "60de467a",
   "metadata": {},
   "source": [
    "For the dataset \"Aircraft traffic data by reporting country\" (avia_tf_acc) parameters `unit`, `freq`, `tra_cov`, `tra_meas` and `aircraft` should be defined. The parameters set below basically means we want the annual number of actually boarded passenger for all types of aircraft for domestic and international flights. Please refer to [the dataset](https://ec.europa.eu/eurostat/databrowser/view/avia_tf_acc/default/table?lang=en \"Eurostat\") for more info."
   ]
  },
  {
   "cell_type": "code",
   "execution_count": 5,
   "id": "9720ffd0",
   "metadata": {},
   "outputs": [
    {
     "name": "stdout",
     "output_type": "stream",
     "text": [
      "The dataset title is:\n",
      "Aircraft traffic data by reporting country\n"
     ]
    },
    {
     "data": {
      "text/html": [
       "<div>\n",
       "<style scoped>\n",
       "    .dataframe tbody tr th:only-of-type {\n",
       "        vertical-align: middle;\n",
       "    }\n",
       "\n",
       "    .dataframe tbody tr th {\n",
       "        vertical-align: top;\n",
       "    }\n",
       "\n",
       "    .dataframe thead th {\n",
       "        text-align: right;\n",
       "    }\n",
       "</style>\n",
       "<table border=\"1\" class=\"dataframe\">\n",
       "  <thead>\n",
       "    <tr style=\"text-align: right;\">\n",
       "      <th></th>\n",
       "      <th>values</th>\n",
       "      <th>unit</th>\n",
       "      <th>tra_meas</th>\n",
       "      <th>tra_cov</th>\n",
       "      <th>aircraft</th>\n",
       "      <th>geo</th>\n",
       "      <th>time</th>\n",
       "    </tr>\n",
       "  </thead>\n",
       "  <tbody>\n",
       "    <tr>\n",
       "      <th>0</th>\n",
       "      <td>12732342.0</td>\n",
       "      <td>PAS</td>\n",
       "      <td>PAS_BRD</td>\n",
       "      <td>TOTAL</td>\n",
       "      <td>TOTAL</td>\n",
       "      <td>AT</td>\n",
       "      <td>1998</td>\n",
       "    </tr>\n",
       "    <tr>\n",
       "      <th>1</th>\n",
       "      <td>13276983.0</td>\n",
       "      <td>PAS</td>\n",
       "      <td>PAS_BRD</td>\n",
       "      <td>TOTAL</td>\n",
       "      <td>TOTAL</td>\n",
       "      <td>AT</td>\n",
       "      <td>1999</td>\n",
       "    </tr>\n",
       "    <tr>\n",
       "      <th>2</th>\n",
       "      <td>14220561.0</td>\n",
       "      <td>PAS</td>\n",
       "      <td>PAS_BRD</td>\n",
       "      <td>TOTAL</td>\n",
       "      <td>TOTAL</td>\n",
       "      <td>AT</td>\n",
       "      <td>2000</td>\n",
       "    </tr>\n",
       "    <tr>\n",
       "      <th>3</th>\n",
       "      <td>14138385.0</td>\n",
       "      <td>PAS</td>\n",
       "      <td>PAS_BRD</td>\n",
       "      <td>TOTAL</td>\n",
       "      <td>TOTAL</td>\n",
       "      <td>AT</td>\n",
       "      <td>2001</td>\n",
       "    </tr>\n",
       "    <tr>\n",
       "      <th>4</th>\n",
       "      <td>14625165.0</td>\n",
       "      <td>PAS</td>\n",
       "      <td>PAS_BRD</td>\n",
       "      <td>TOTAL</td>\n",
       "      <td>TOTAL</td>\n",
       "      <td>AT</td>\n",
       "      <td>2002</td>\n",
       "    </tr>\n",
       "  </tbody>\n",
       "</table>\n",
       "</div>"
      ],
      "text/plain": [
       "       values unit tra_meas tra_cov aircraft geo  time\n",
       "0  12732342.0  PAS  PAS_BRD   TOTAL    TOTAL  AT  1998\n",
       "1  13276983.0  PAS  PAS_BRD   TOTAL    TOTAL  AT  1999\n",
       "2  14220561.0  PAS  PAS_BRD   TOTAL    TOTAL  AT  2000\n",
       "3  14138385.0  PAS  PAS_BRD   TOTAL    TOTAL  AT  2001\n",
       "4  14625165.0  PAS  PAS_BRD   TOTAL    TOTAL  AT  2002"
      ]
     },
     "metadata": {},
     "output_type": "display_data"
    }
   ],
   "source": [
    "# a. setting parameters for this dataset\n",
    "params = [('unit','PAS'),('freq','A'),('tra_cov','TOTAL'),('tra_meas','PAS_BRD'),('aircraft','TOTAL')] + time_param\n",
    "\n",
    "# b. fetching the dataset as a dataframe\n",
    "pas = dp.eurostat_to_df('avia_tf_acc', params, client)"
   ]
  },
  {
   "cell_type": "markdown",
   "id": "a57f4821",
   "metadata": {},
   "source": [
    "Cleanup: There are obviously some columns we don't want. More specifically the columns `unit`, `tra_meas`, `tra_cov` and `aircraft`. We also want to rename the `values` column to remind us what the values actually are."
   ]
  },
  {
   "cell_type": "code",
   "execution_count": 6,
   "id": "363e131f",
   "metadata": {},
   "outputs": [
    {
     "data": {
      "text/html": [
       "<div>\n",
       "<style scoped>\n",
       "    .dataframe tbody tr th:only-of-type {\n",
       "        vertical-align: middle;\n",
       "    }\n",
       "\n",
       "    .dataframe tbody tr th {\n",
       "        vertical-align: top;\n",
       "    }\n",
       "\n",
       "    .dataframe thead th {\n",
       "        text-align: right;\n",
       "    }\n",
       "</style>\n",
       "<table border=\"1\" class=\"dataframe\">\n",
       "  <thead>\n",
       "    <tr style=\"text-align: right;\">\n",
       "      <th></th>\n",
       "      <th>passengers</th>\n",
       "      <th>geo</th>\n",
       "      <th>time</th>\n",
       "    </tr>\n",
       "  </thead>\n",
       "  <tbody>\n",
       "    <tr>\n",
       "      <th>0</th>\n",
       "      <td>12732342.0</td>\n",
       "      <td>AT</td>\n",
       "      <td>1998</td>\n",
       "    </tr>\n",
       "    <tr>\n",
       "      <th>1</th>\n",
       "      <td>13276983.0</td>\n",
       "      <td>AT</td>\n",
       "      <td>1999</td>\n",
       "    </tr>\n",
       "    <tr>\n",
       "      <th>2</th>\n",
       "      <td>14220561.0</td>\n",
       "      <td>AT</td>\n",
       "      <td>2000</td>\n",
       "    </tr>\n",
       "    <tr>\n",
       "      <th>3</th>\n",
       "      <td>14138385.0</td>\n",
       "      <td>AT</td>\n",
       "      <td>2001</td>\n",
       "    </tr>\n",
       "    <tr>\n",
       "      <th>4</th>\n",
       "      <td>14625165.0</td>\n",
       "      <td>AT</td>\n",
       "      <td>2002</td>\n",
       "    </tr>\n",
       "  </tbody>\n",
       "</table>\n",
       "</div>"
      ],
      "text/plain": [
       "   passengers geo  time\n",
       "0  12732342.0  AT  1998\n",
       "1  13276983.0  AT  1999\n",
       "2  14220561.0  AT  2000\n",
       "3  14138385.0  AT  2001\n",
       "4  14625165.0  AT  2002"
      ]
     },
     "metadata": {},
     "output_type": "display_data"
    }
   ],
   "source": [
    "# cleaning up - renaming values and removing unwanted cols\n",
    "drop_these = ['unit','tra_meas','tra_cov','aircraft']\n",
    "dp.clean_eurostat_df(pas, drop_these, 'passengers')"
   ]
  },
  {
   "cell_type": "markdown",
   "id": "57606ec2",
   "metadata": {},
   "source": [
    "### Real GDP per capita"
   ]
  },
  {
   "cell_type": "markdown",
   "id": "c82d7781",
   "metadata": {},
   "source": [
    "For the dataset \"Main GDP aggregates per capita\" (nama_10_pc) parameters `unit` and `na_item` should be defined. The parameters set below means we will get ___real___ GDP per capita in EUR. Please refer to [the dataset](https://ec.europa.eu/eurostat/databrowser/view/NAMA_10_PC/default/table \"Eurostat\") for more info."
   ]
  },
  {
   "cell_type": "code",
   "execution_count": 7,
   "id": "8a3a5256",
   "metadata": {},
   "outputs": [
    {
     "name": "stdout",
     "output_type": "stream",
     "text": [
      "The dataset title is:\n",
      "Main GDP aggregates per capita\n"
     ]
    },
    {
     "data": {
      "text/html": [
       "<div>\n",
       "<style scoped>\n",
       "    .dataframe tbody tr th:only-of-type {\n",
       "        vertical-align: middle;\n",
       "    }\n",
       "\n",
       "    .dataframe tbody tr th {\n",
       "        vertical-align: top;\n",
       "    }\n",
       "\n",
       "    .dataframe thead th {\n",
       "        text-align: right;\n",
       "    }\n",
       "</style>\n",
       "<table border=\"1\" class=\"dataframe\">\n",
       "  <thead>\n",
       "    <tr style=\"text-align: right;\">\n",
       "      <th></th>\n",
       "      <th>values</th>\n",
       "      <th>unit</th>\n",
       "      <th>na_item</th>\n",
       "      <th>geo</th>\n",
       "      <th>time</th>\n",
       "    </tr>\n",
       "  </thead>\n",
       "  <tbody>\n",
       "    <tr>\n",
       "      <th>0</th>\n",
       "      <td>29750.0</td>\n",
       "      <td>CLV10_EUR_HAB</td>\n",
       "      <td>B1GQ</td>\n",
       "      <td>AT</td>\n",
       "      <td>1998</td>\n",
       "    </tr>\n",
       "    <tr>\n",
       "      <th>1</th>\n",
       "      <td>30750.0</td>\n",
       "      <td>CLV10_EUR_HAB</td>\n",
       "      <td>B1GQ</td>\n",
       "      <td>AT</td>\n",
       "      <td>1999</td>\n",
       "    </tr>\n",
       "    <tr>\n",
       "      <th>2</th>\n",
       "      <td>31710.0</td>\n",
       "      <td>CLV10_EUR_HAB</td>\n",
       "      <td>B1GQ</td>\n",
       "      <td>AT</td>\n",
       "      <td>2000</td>\n",
       "    </tr>\n",
       "    <tr>\n",
       "      <th>3</th>\n",
       "      <td>31990.0</td>\n",
       "      <td>CLV10_EUR_HAB</td>\n",
       "      <td>B1GQ</td>\n",
       "      <td>AT</td>\n",
       "      <td>2001</td>\n",
       "    </tr>\n",
       "    <tr>\n",
       "      <th>4</th>\n",
       "      <td>32360.0</td>\n",
       "      <td>CLV10_EUR_HAB</td>\n",
       "      <td>B1GQ</td>\n",
       "      <td>AT</td>\n",
       "      <td>2002</td>\n",
       "    </tr>\n",
       "  </tbody>\n",
       "</table>\n",
       "</div>"
      ],
      "text/plain": [
       "    values           unit na_item geo  time\n",
       "0  29750.0  CLV10_EUR_HAB    B1GQ  AT  1998\n",
       "1  30750.0  CLV10_EUR_HAB    B1GQ  AT  1999\n",
       "2  31710.0  CLV10_EUR_HAB    B1GQ  AT  2000\n",
       "3  31990.0  CLV10_EUR_HAB    B1GQ  AT  2001\n",
       "4  32360.0  CLV10_EUR_HAB    B1GQ  AT  2002"
      ]
     },
     "metadata": {},
     "output_type": "display_data"
    }
   ],
   "source": [
    "# a. setting parameters for this dataset\n",
    "params = [('unit','CLV10_EUR_HAB'),('na_item','B1GQ')] + time_param\n",
    "\n",
    "# b. fetching the dataset as a dataframe\n",
    "gdp_cap = dp.eurostat_to_df('nama_10_pc', params, client)"
   ]
  },
  {
   "cell_type": "markdown",
   "id": "cc9227ed",
   "metadata": {},
   "source": [
    "Cleanup: Again there are columns we don't want: `unit` and `na_item`. We also rename the `values` column."
   ]
  },
  {
   "cell_type": "code",
   "execution_count": 8,
   "id": "f4ab19a4",
   "metadata": {},
   "outputs": [
    {
     "data": {
      "text/html": [
       "<div>\n",
       "<style scoped>\n",
       "    .dataframe tbody tr th:only-of-type {\n",
       "        vertical-align: middle;\n",
       "    }\n",
       "\n",
       "    .dataframe tbody tr th {\n",
       "        vertical-align: top;\n",
       "    }\n",
       "\n",
       "    .dataframe thead th {\n",
       "        text-align: right;\n",
       "    }\n",
       "</style>\n",
       "<table border=\"1\" class=\"dataframe\">\n",
       "  <thead>\n",
       "    <tr style=\"text-align: right;\">\n",
       "      <th></th>\n",
       "      <th>gdp_cap</th>\n",
       "      <th>geo</th>\n",
       "      <th>time</th>\n",
       "    </tr>\n",
       "  </thead>\n",
       "  <tbody>\n",
       "    <tr>\n",
       "      <th>0</th>\n",
       "      <td>29750.0</td>\n",
       "      <td>AT</td>\n",
       "      <td>1998</td>\n",
       "    </tr>\n",
       "    <tr>\n",
       "      <th>1</th>\n",
       "      <td>30750.0</td>\n",
       "      <td>AT</td>\n",
       "      <td>1999</td>\n",
       "    </tr>\n",
       "    <tr>\n",
       "      <th>2</th>\n",
       "      <td>31710.0</td>\n",
       "      <td>AT</td>\n",
       "      <td>2000</td>\n",
       "    </tr>\n",
       "    <tr>\n",
       "      <th>3</th>\n",
       "      <td>31990.0</td>\n",
       "      <td>AT</td>\n",
       "      <td>2001</td>\n",
       "    </tr>\n",
       "    <tr>\n",
       "      <th>4</th>\n",
       "      <td>32360.0</td>\n",
       "      <td>AT</td>\n",
       "      <td>2002</td>\n",
       "    </tr>\n",
       "  </tbody>\n",
       "</table>\n",
       "</div>"
      ],
      "text/plain": [
       "   gdp_cap geo  time\n",
       "0  29750.0  AT  1998\n",
       "1  30750.0  AT  1999\n",
       "2  31710.0  AT  2000\n",
       "3  31990.0  AT  2001\n",
       "4  32360.0  AT  2002"
      ]
     },
     "metadata": {},
     "output_type": "display_data"
    }
   ],
   "source": [
    "# cleaning up - renaming values and removing unwanted cols\n",
    "drop_these = ['unit','na_item']\n",
    "dp.clean_eurostat_df(gdp_cap, drop_these, 'gdp_cap')"
   ]
  },
  {
   "cell_type": "markdown",
   "id": "a1180733",
   "metadata": {},
   "source": [
    "### Population figures"
   ]
  },
  {
   "cell_type": "markdown",
   "id": "2e49d08e",
   "metadata": {},
   "source": [
    "For the dataset \"Population on 1 January by age and sex\" (demo_pjan) parameters `age` and `sex` should be defined. The parameters set below means we will only get the figure for the entire population (all ages and sex). Please refer to [the dataset](https://ec.europa.eu/eurostat/databrowser/view/DEMO_PJAN/default/table \"Eurostat\") for more info."
   ]
  },
  {
   "cell_type": "code",
   "execution_count": 9,
   "id": "6e8e457e",
   "metadata": {},
   "outputs": [
    {
     "name": "stdout",
     "output_type": "stream",
     "text": [
      "The dataset title is:\n",
      "Population on 1 January by age and sex\n"
     ]
    },
    {
     "data": {
      "text/html": [
       "<div>\n",
       "<style scoped>\n",
       "    .dataframe tbody tr th:only-of-type {\n",
       "        vertical-align: middle;\n",
       "    }\n",
       "\n",
       "    .dataframe tbody tr th {\n",
       "        vertical-align: top;\n",
       "    }\n",
       "\n",
       "    .dataframe thead th {\n",
       "        text-align: right;\n",
       "    }\n",
       "</style>\n",
       "<table border=\"1\" class=\"dataframe\">\n",
       "  <thead>\n",
       "    <tr style=\"text-align: right;\">\n",
       "      <th></th>\n",
       "      <th>values</th>\n",
       "      <th>unit</th>\n",
       "      <th>age</th>\n",
       "      <th>sex</th>\n",
       "      <th>geo</th>\n",
       "      <th>time</th>\n",
       "    </tr>\n",
       "  </thead>\n",
       "  <tbody>\n",
       "    <tr>\n",
       "      <th>0</th>\n",
       "      <td>65306.0</td>\n",
       "      <td>NR</td>\n",
       "      <td>TOTAL</td>\n",
       "      <td>T</td>\n",
       "      <td>AD</td>\n",
       "      <td>1998</td>\n",
       "    </tr>\n",
       "    <tr>\n",
       "      <th>1</th>\n",
       "      <td>65877.0</td>\n",
       "      <td>NR</td>\n",
       "      <td>TOTAL</td>\n",
       "      <td>T</td>\n",
       "      <td>AD</td>\n",
       "      <td>1999</td>\n",
       "    </tr>\n",
       "    <tr>\n",
       "      <th>2</th>\n",
       "      <td>65971.0</td>\n",
       "      <td>NR</td>\n",
       "      <td>TOTAL</td>\n",
       "      <td>T</td>\n",
       "      <td>AD</td>\n",
       "      <td>2000</td>\n",
       "    </tr>\n",
       "    <tr>\n",
       "      <th>3</th>\n",
       "      <td>65844.0</td>\n",
       "      <td>NR</td>\n",
       "      <td>TOTAL</td>\n",
       "      <td>T</td>\n",
       "      <td>AD</td>\n",
       "      <td>2001</td>\n",
       "    </tr>\n",
       "    <tr>\n",
       "      <th>4</th>\n",
       "      <td>66334.0</td>\n",
       "      <td>NR</td>\n",
       "      <td>TOTAL</td>\n",
       "      <td>T</td>\n",
       "      <td>AD</td>\n",
       "      <td>2002</td>\n",
       "    </tr>\n",
       "  </tbody>\n",
       "</table>\n",
       "</div>"
      ],
      "text/plain": [
       "    values unit    age sex geo  time\n",
       "0  65306.0   NR  TOTAL   T  AD  1998\n",
       "1  65877.0   NR  TOTAL   T  AD  1999\n",
       "2  65971.0   NR  TOTAL   T  AD  2000\n",
       "3  65844.0   NR  TOTAL   T  AD  2001\n",
       "4  66334.0   NR  TOTAL   T  AD  2002"
      ]
     },
     "metadata": {},
     "output_type": "display_data"
    }
   ],
   "source": [
    "# a. setting parameters for this dataset\n",
    "params = [('age','TOTAL'),('sex','T')] + time_param\n",
    "\n",
    "# b. fetching the dataset as a dataframe\n",
    "pop = dp.eurostat_to_df('demo_pjan', params, client)"
   ]
  },
  {
   "cell_type": "markdown",
   "id": "9fa19da2",
   "metadata": {},
   "source": [
    "Cleanup: Removing `unit`, `sex` and `age`. Renaming `values` to `population`."
   ]
  },
  {
   "cell_type": "code",
   "execution_count": 10,
   "id": "b0affbdc",
   "metadata": {},
   "outputs": [
    {
     "data": {
      "text/html": [
       "<div>\n",
       "<style scoped>\n",
       "    .dataframe tbody tr th:only-of-type {\n",
       "        vertical-align: middle;\n",
       "    }\n",
       "\n",
       "    .dataframe tbody tr th {\n",
       "        vertical-align: top;\n",
       "    }\n",
       "\n",
       "    .dataframe thead th {\n",
       "        text-align: right;\n",
       "    }\n",
       "</style>\n",
       "<table border=\"1\" class=\"dataframe\">\n",
       "  <thead>\n",
       "    <tr style=\"text-align: right;\">\n",
       "      <th></th>\n",
       "      <th>population</th>\n",
       "      <th>geo</th>\n",
       "      <th>time</th>\n",
       "    </tr>\n",
       "  </thead>\n",
       "  <tbody>\n",
       "    <tr>\n",
       "      <th>0</th>\n",
       "      <td>65306.0</td>\n",
       "      <td>AD</td>\n",
       "      <td>1998</td>\n",
       "    </tr>\n",
       "    <tr>\n",
       "      <th>1</th>\n",
       "      <td>65877.0</td>\n",
       "      <td>AD</td>\n",
       "      <td>1999</td>\n",
       "    </tr>\n",
       "    <tr>\n",
       "      <th>2</th>\n",
       "      <td>65971.0</td>\n",
       "      <td>AD</td>\n",
       "      <td>2000</td>\n",
       "    </tr>\n",
       "    <tr>\n",
       "      <th>3</th>\n",
       "      <td>65844.0</td>\n",
       "      <td>AD</td>\n",
       "      <td>2001</td>\n",
       "    </tr>\n",
       "    <tr>\n",
       "      <th>4</th>\n",
       "      <td>66334.0</td>\n",
       "      <td>AD</td>\n",
       "      <td>2002</td>\n",
       "    </tr>\n",
       "  </tbody>\n",
       "</table>\n",
       "</div>"
      ],
      "text/plain": [
       "   population geo  time\n",
       "0     65306.0  AD  1998\n",
       "1     65877.0  AD  1999\n",
       "2     65971.0  AD  2000\n",
       "3     65844.0  AD  2001\n",
       "4     66334.0  AD  2002"
      ]
     },
     "metadata": {},
     "output_type": "display_data"
    }
   ],
   "source": [
    "# cleaning up - renaming values and removing unwanted cols\n",
    "drop_these = ['unit','sex','age']\n",
    "dp.clean_eurostat_df(pop, drop_these, 'population')"
   ]
  },
  {
   "cell_type": "markdown",
   "id": "8d4e5815",
   "metadata": {},
   "source": [
    "## The full dataset"
   ]
  },
  {
   "cell_type": "markdown",
   "id": "9ebfceb7",
   "metadata": {},
   "source": [
    "### Merging"
   ]
  },
  {
   "cell_type": "markdown",
   "id": "a345fadb",
   "metadata": {},
   "source": [
    "Since we imported the dataset with the same time-parameters, the same years should be available in all 3 datasets, but the geo-identifiers are not the same in all datasets as evident below:"
   ]
  },
  {
   "cell_type": "code",
   "execution_count": 11,
   "id": "54fa5cdc",
   "metadata": {},
   "outputs": [
    {
     "name": "stdout",
     "output_type": "stream",
     "text": [
      "geo in pas:     38\n",
      "geo in gdp_cap: 41\n",
      "geo in pop:     59\n"
     ]
    }
   ],
   "source": [
    "print(\n",
    "    f'geo in pas: {len(pas.geo.unique()):6}\\n'\n",
    "    f'geo in gdp_cap: {len(gdp_cap.geo.unique()):2}\\n'\n",
    "    f'geo in pop: {len(pop.geo.unique()):6}'\n",
    ")"
   ]
  },
  {
   "cell_type": "markdown",
   "id": "75e418c7",
   "metadata": {},
   "source": [
    "Some of the datasets contain geo identifiers that are not present in the others. We are however only interested in the [EU27 2020 countries](https://en.wikipedia.org/wiki/Member_state_of_the_European_Union) (the countries remaining in EU since UK left last year). All three datasets should contain values for these countries.\n",
    "\n",
    "We can merge the three datasets by the 'inner' method, since we don't mind losing any of the values that are not present in all three datasets."
   ]
  },
  {
   "cell_type": "code",
   "execution_count": 12,
   "id": "a658060e",
   "metadata": {},
   "outputs": [
    {
     "data": {
      "text/html": [
       "<div>\n",
       "<style scoped>\n",
       "    .dataframe tbody tr th:only-of-type {\n",
       "        vertical-align: middle;\n",
       "    }\n",
       "\n",
       "    .dataframe tbody tr th {\n",
       "        vertical-align: top;\n",
       "    }\n",
       "\n",
       "    .dataframe thead th {\n",
       "        text-align: right;\n",
       "    }\n",
       "</style>\n",
       "<table border=\"1\" class=\"dataframe\">\n",
       "  <thead>\n",
       "    <tr style=\"text-align: right;\">\n",
       "      <th></th>\n",
       "      <th>passengers</th>\n",
       "      <th>geo</th>\n",
       "      <th>time</th>\n",
       "      <th>gdp_cap</th>\n",
       "      <th>population</th>\n",
       "    </tr>\n",
       "  </thead>\n",
       "  <tbody>\n",
       "    <tr>\n",
       "      <th>0</th>\n",
       "      <td>12732342.0</td>\n",
       "      <td>AT</td>\n",
       "      <td>1998</td>\n",
       "      <td>29750.0</td>\n",
       "      <td>7971116.0</td>\n",
       "    </tr>\n",
       "    <tr>\n",
       "      <th>1</th>\n",
       "      <td>13276983.0</td>\n",
       "      <td>AT</td>\n",
       "      <td>1999</td>\n",
       "      <td>30750.0</td>\n",
       "      <td>7982461.0</td>\n",
       "    </tr>\n",
       "    <tr>\n",
       "      <th>2</th>\n",
       "      <td>14220561.0</td>\n",
       "      <td>AT</td>\n",
       "      <td>2000</td>\n",
       "      <td>31710.0</td>\n",
       "      <td>8002186.0</td>\n",
       "    </tr>\n",
       "    <tr>\n",
       "      <th>3</th>\n",
       "      <td>14138385.0</td>\n",
       "      <td>AT</td>\n",
       "      <td>2001</td>\n",
       "      <td>31990.0</td>\n",
       "      <td>8020946.0</td>\n",
       "    </tr>\n",
       "    <tr>\n",
       "      <th>4</th>\n",
       "      <td>14625165.0</td>\n",
       "      <td>AT</td>\n",
       "      <td>2002</td>\n",
       "      <td>32360.0</td>\n",
       "      <td>8063640.0</td>\n",
       "    </tr>\n",
       "  </tbody>\n",
       "</table>\n",
       "</div>"
      ],
      "text/plain": [
       "   passengers geo  time  gdp_cap  population\n",
       "0  12732342.0  AT  1998  29750.0   7971116.0\n",
       "1  13276983.0  AT  1999  30750.0   7982461.0\n",
       "2  14220561.0  AT  2000  31710.0   8002186.0\n",
       "3  14138385.0  AT  2001  31990.0   8020946.0\n",
       "4  14625165.0  AT  2002  32360.0   8063640.0"
      ]
     },
     "metadata": {},
     "output_type": "display_data"
    }
   ],
   "source": [
    "full = dp.merge_dfs(pas,gdp_cap,pop,on=['geo','time'],how='inner')"
   ]
  },
  {
   "cell_type": "markdown",
   "id": "4afeee50",
   "metadata": {},
   "source": [
    "### Layout and remove rows"
   ]
  },
  {
   "cell_type": "markdown",
   "id": "f03b836b",
   "metadata": {},
   "source": [
    "We want to make this a little more readable. The country codes in the geo column can be found [here](https://ec.europa.eu/eurostat/statistics-explained/index.php/Glossary:Country_codes). They are listed in a dictionary below:"
   ]
  },
  {
   "cell_type": "code",
   "execution_count": 13,
   "id": "504d0863",
   "metadata": {},
   "outputs": [],
   "source": [
    "eu27_2020 = {\n",
    "        'BE' : 'Belgium','BG' : 'Bulgaria','CZ' : 'Czechia','DK' : 'Denmark',\n",
    "        'DE' : 'Germany','EE' : 'Estonia','IE' : 'Ireland','EL' : 'Greece',\n",
    "        'ES' : 'Spain','FR' : 'France','HR' : 'Croatia','IT' : 'Italy',\n",
    "        'CY' : 'Cyprus','LV' : 'Latvia','LT' : 'Lithuania','LU' : 'Luxembourg',\n",
    "        'HU' : 'Hungary','MT' : 'Malta','NL' : 'Netherlands','AT' : 'Austria',\n",
    "        'PL' : 'Poland','PT' : 'Portugal','RO' : 'Romania','SI' : 'Slovenia',\n",
    "        'SK' : 'Slovakia','FI' : 'Finland','SE' : 'Sweden'\n",
    "        }"
   ]
  },
  {
   "cell_type": "markdown",
   "id": "116b6025",
   "metadata": {},
   "source": [
    "Not all the EU country codes makes sense, so we will create a new column `geo_name`, that contains the written name corresponding to the country code in `geo`. We will also move the passengers column to the end."
   ]
  },
  {
   "cell_type": "code",
   "execution_count": 14,
   "id": "1d10fb86",
   "metadata": {},
   "outputs": [],
   "source": [
    "# a. inserting new column: geo codes converted to country names using above dictionary\n",
    "full.insert(0, 'geo_name',full.geo.apply(dp.code_to_name,code_dict=eu27_2020))\n",
    "\n",
    "# b. moving passengers to the end\n",
    "move_col = full.pop('passengers')\n",
    "full.insert(len(full.columns)-1, 'passengers', move_col) # inserting at the last index: length-1"
   ]
  },
  {
   "cell_type": "markdown",
   "id": "a4599c77",
   "metadata": {},
   "source": [
    "A logical index using the keys from the eu27_2020 dictionary, shows that the dataframe still contains rows that are either not countries or countries that are not part of European Union (such as EU27_2007, Switzerland and United Kingdoms):"
   ]
  },
  {
   "cell_type": "code",
   "execution_count": 15,
   "id": "e4e521c1",
   "metadata": {},
   "outputs": [
    {
     "data": {
      "text/html": [
       "<div>\n",
       "<style scoped>\n",
       "    .dataframe tbody tr th:only-of-type {\n",
       "        vertical-align: middle;\n",
       "    }\n",
       "\n",
       "    .dataframe tbody tr th {\n",
       "        vertical-align: top;\n",
       "    }\n",
       "\n",
       "    .dataframe thead th {\n",
       "        text-align: right;\n",
       "    }\n",
       "</style>\n",
       "<table border=\"1\" class=\"dataframe\">\n",
       "  <thead>\n",
       "    <tr style=\"text-align: right;\">\n",
       "      <th></th>\n",
       "      <th>geo_name</th>\n",
       "      <th>geo</th>\n",
       "      <th>time</th>\n",
       "      <th>gdp_cap</th>\n",
       "      <th>passengers</th>\n",
       "      <th>population</th>\n",
       "    </tr>\n",
       "  </thead>\n",
       "  <tbody>\n",
       "    <tr>\n",
       "      <th>69</th>\n",
       "      <td></td>\n",
       "      <td>CH</td>\n",
       "      <td>1998</td>\n",
       "      <td>49750.0</td>\n",
       "      <td>24163688.0</td>\n",
       "      <td>7096465.0</td>\n",
       "    </tr>\n",
       "    <tr>\n",
       "      <th>70</th>\n",
       "      <td></td>\n",
       "      <td>CH</td>\n",
       "      <td>1999</td>\n",
       "      <td>50350.0</td>\n",
       "      <td>26073588.0</td>\n",
       "      <td>7123537.0</td>\n",
       "    </tr>\n",
       "    <tr>\n",
       "      <th>71</th>\n",
       "      <td></td>\n",
       "      <td>CH</td>\n",
       "      <td>2000</td>\n",
       "      <td>52080.0</td>\n",
       "      <td>31355646.0</td>\n",
       "      <td>7164444.0</td>\n",
       "    </tr>\n",
       "    <tr>\n",
       "      <th>72</th>\n",
       "      <td></td>\n",
       "      <td>CH</td>\n",
       "      <td>2001</td>\n",
       "      <td>52640.0</td>\n",
       "      <td>29509345.0</td>\n",
       "      <td>7204055.0</td>\n",
       "    </tr>\n",
       "    <tr>\n",
       "      <th>73</th>\n",
       "      <td></td>\n",
       "      <td>CH</td>\n",
       "      <td>2002</td>\n",
       "      <td>52260.0</td>\n",
       "      <td>25679686.0</td>\n",
       "      <td>7255653.0</td>\n",
       "    </tr>\n",
       "    <tr>\n",
       "      <th>...</th>\n",
       "      <td>...</td>\n",
       "      <td>...</td>\n",
       "      <td>...</td>\n",
       "      <td>...</td>\n",
       "      <td>...</td>\n",
       "      <td>...</td>\n",
       "    </tr>\n",
       "    <tr>\n",
       "      <th>846</th>\n",
       "      <td></td>\n",
       "      <td>UK</td>\n",
       "      <td>2016</td>\n",
       "      <td>32060.0</td>\n",
       "      <td>249076212.0</td>\n",
       "      <td>65379044.0</td>\n",
       "    </tr>\n",
       "    <tr>\n",
       "      <th>847</th>\n",
       "      <td></td>\n",
       "      <td>UK</td>\n",
       "      <td>2017</td>\n",
       "      <td>32430.0</td>\n",
       "      <td>264867264.0</td>\n",
       "      <td>65844142.0</td>\n",
       "    </tr>\n",
       "    <tr>\n",
       "      <th>848</th>\n",
       "      <td></td>\n",
       "      <td>UK</td>\n",
       "      <td>2018</td>\n",
       "      <td>32640.0</td>\n",
       "      <td>272386344.0</td>\n",
       "      <td>66273576.0</td>\n",
       "    </tr>\n",
       "    <tr>\n",
       "      <th>849</th>\n",
       "      <td></td>\n",
       "      <td>UK</td>\n",
       "      <td>2019</td>\n",
       "      <td>32910.0</td>\n",
       "      <td>277548891.0</td>\n",
       "      <td>66647112.0</td>\n",
       "    </tr>\n",
       "    <tr>\n",
       "      <th>850</th>\n",
       "      <td></td>\n",
       "      <td>UK</td>\n",
       "      <td>2020</td>\n",
       "      <td>NaN</td>\n",
       "      <td>NaN</td>\n",
       "      <td>67025542.0</td>\n",
       "    </tr>\n",
       "  </tbody>\n",
       "</table>\n",
       "<p>230 rows × 6 columns</p>\n",
       "</div>"
      ],
      "text/plain": [
       "    geo_name geo  time  gdp_cap   passengers  population\n",
       "69            CH  1998  49750.0   24163688.0   7096465.0\n",
       "70            CH  1999  50350.0   26073588.0   7123537.0\n",
       "71            CH  2000  52080.0   31355646.0   7164444.0\n",
       "72            CH  2001  52640.0   29509345.0   7204055.0\n",
       "73            CH  2002  52260.0   25679686.0   7255653.0\n",
       "..       ...  ..   ...      ...          ...         ...\n",
       "846           UK  2016  32060.0  249076212.0  65379044.0\n",
       "847           UK  2017  32430.0  264867264.0  65844142.0\n",
       "848           UK  2018  32640.0  272386344.0  66273576.0\n",
       "849           UK  2019  32910.0  277548891.0  66647112.0\n",
       "850           UK  2020      NaN          NaN  67025542.0\n",
       "\n",
       "[230 rows x 6 columns]"
      ]
     },
     "execution_count": 15,
     "metadata": {},
     "output_type": "execute_result"
    }
   ],
   "source": [
    "# logical index for eu27 dictionary geo keys\n",
    "I = full.geo.isin(list(eu27_2020.keys())) == True\n",
    "full[I == False]"
   ]
  },
  {
   "cell_type": "markdown",
   "id": "573f6fe5",
   "metadata": {},
   "source": [
    "The dataset should only contain the rows in the logical index `I` (ie. rows where `geo` is contained in the eu27_2020 dict)."
   ]
  },
  {
   "cell_type": "code",
   "execution_count": 16,
   "id": "2253b30b",
   "metadata": {},
   "outputs": [
    {
     "name": "stdout",
     "output_type": "stream",
     "text": [
      "The european union has 27 countries.\n"
     ]
    }
   ],
   "source": [
    "# a. removing rows not contained in I\n",
    "full = full.loc[I]\n",
    "\n",
    "# b. resetting index\n",
    "full.reset_index(drop=True, inplace=True)\n",
    "\n",
    "# c. checking if full now has 27 countries\n",
    "print(f'The european union has {len(full.geo.unique())} countries.')"
   ]
  },
  {
   "cell_type": "markdown",
   "id": "108cc799",
   "metadata": {},
   "source": [
    "# Working with the data"
   ]
  },
  {
   "cell_type": "markdown",
   "id": "dd1355d5",
   "metadata": {},
   "source": [
    "## Hypothesis"
   ]
  },
  {
   "cell_type": "markdown",
   "id": "ef5352fe",
   "metadata": {},
   "source": [
    "**Hypothesis:** Richer countries have a higher degree of air travel. They should have more tourist (both visiting and travelling abroad) and more companies who are trading and travelling internationally."
   ]
  },
  {
   "cell_type": "markdown",
   "id": "dc72438b",
   "metadata": {},
   "source": [
    "## Adding variables"
   ]
  },
  {
   "cell_type": "markdown",
   "id": "70ee6573",
   "metadata": {},
   "source": [
    "### Passengers per capita"
   ]
  },
  {
   "cell_type": "markdown",
   "id": "d365a609",
   "metadata": {},
   "source": [
    "It doesn't make sense to compare the number of passengers to GDP per capita. We need a measurement of the degree of air travel. Thus we create a new variable `pas_cap` which is `passengers` divided by `population`."
   ]
  },
  {
   "cell_type": "code",
   "execution_count": 17,
   "id": "1c750b8e",
   "metadata": {},
   "outputs": [],
   "source": [
    "# a. index of gdp_cap\n",
    "i = full.columns.get_loc('gdp_cap')\n",
    "\n",
    "# b. new column pas_cap after gdp_cap\n",
    "full.insert(i+1, 'pas_cap', full.passengers/full.population)"
   ]
  },
  {
   "cell_type": "markdown",
   "id": "3cde7f9e",
   "metadata": {},
   "source": [
    "### Yearly percentual change"
   ]
  },
  {
   "cell_type": "markdown",
   "id": "11b6eadc",
   "metadata": {},
   "source": [
    "We want to be able to have a look percentual change in `gdp_cap` and `pas_cap` over the years for each country. Pandas has a built in function `.pct_change()` that we apply to all values in a column grouped by country."
   ]
  },
  {
   "cell_type": "code",
   "execution_count": 18,
   "id": "0e60e188",
   "metadata": {},
   "outputs": [],
   "source": [
    "# a. create copy and define group\n",
    "full_ = full.copy()\n",
    "group = 'geo' # group by country\n",
    "\n",
    "# b. apply pct_change\n",
    "dp.add_pct_col(full_,group,'gdp_cap')\n",
    "dp.add_pct_col(full_,group,'pas_cap')"
   ]
  },
  {
   "cell_type": "markdown",
   "id": "d86f21cd",
   "metadata": {},
   "source": [
    "### Inspecting the outcome"
   ]
  },
  {
   "cell_type": "code",
   "execution_count": 19,
   "id": "3872b727",
   "metadata": {},
   "outputs": [
    {
     "data": {
      "application/vnd.jupyter.widget-view+json": {
       "model_id": "99cf878c1f6f48eca55d98f9aac64e4f",
       "version_major": 2,
       "version_minor": 0
      },
      "text/plain": [
       "interactive(children=(Dropdown(description='Country:', index=20, options=('Austria', 'Belgium', 'Bulgaria', 'C…"
      ]
     },
     "metadata": {},
     "output_type": "display_data"
    }
   ],
   "source": [
    "# a. function to call in widget\n",
    "country_table = lambda x,y: full_[full_['geo_name']==x].head(y)\n",
    "\n",
    "# b. creating the widget\n",
    "widgets.interact(country_table,\n",
    "    x = widgets.Dropdown(description='Country:',\n",
    "                                 options=full.geo_name.unique(),\n",
    "                                 value='Netherlands'),\n",
    "    y = widgets.IntSlider(description='years: ',\n",
    "                                 min=1,max=23,value=7)\n",
    ");"
   ]
  },
  {
   "cell_type": "markdown",
   "id": "9075515f",
   "metadata": {},
   "source": [
    "Three new columns are now present: `pas_cap`, `gdp_cap_pct` and `pas_cap_oct`. However when going through the tables, something odd about the data for Netherlands strikes the eye. Between 2001 and 1998 (no pas_cap data between those year) there is allegedly a growth of 8793.5% in `pas_cap` which seems rather excessesive. Passenger numbers show only 433911 passengers for 1998, which is very low in comparison with the later periods.\n",
    "\n",
    "I did some digging and in [this annual report (page 12)](https://assets.ctfassets.net/1msjktcn08sc/2oYJeNESFeam2ecuQ8sOOw/f2d667c5a08898be4e99b2fb0e830e0a/1998_annual_report_en_v1_m56577569830810436.pdf#page=12) Schiphol Airport alone should have had more than 34 mio. passengers in 1998. Lets remove the `pas_cap`, `passengers` values at index 460 and `pas_cap_pct` at index 463 (ie. set them as NaN)."
   ]
  },
  {
   "cell_type": "code",
   "execution_count": 20,
   "id": "ab5af061",
   "metadata": {},
   "outputs": [
    {
     "data": {
      "text/html": [
       "<div>\n",
       "<style scoped>\n",
       "    .dataframe tbody tr th:only-of-type {\n",
       "        vertical-align: middle;\n",
       "    }\n",
       "\n",
       "    .dataframe tbody tr th {\n",
       "        vertical-align: top;\n",
       "    }\n",
       "\n",
       "    .dataframe thead th {\n",
       "        text-align: right;\n",
       "    }\n",
       "</style>\n",
       "<table border=\"1\" class=\"dataframe\">\n",
       "  <thead>\n",
       "    <tr style=\"text-align: right;\">\n",
       "      <th></th>\n",
       "      <th>geo_name</th>\n",
       "      <th>geo</th>\n",
       "      <th>time</th>\n",
       "      <th>gdp_cap</th>\n",
       "      <th>pas_cap</th>\n",
       "      <th>passengers</th>\n",
       "      <th>population</th>\n",
       "      <th>gdp_cap_pct</th>\n",
       "      <th>pas_cap_pct</th>\n",
       "    </tr>\n",
       "  </thead>\n",
       "  <tbody>\n",
       "    <tr>\n",
       "      <th>460</th>\n",
       "      <td>Netherlands</td>\n",
       "      <td>NL</td>\n",
       "      <td>1998</td>\n",
       "      <td>32480.0</td>\n",
       "      <td>NaN</td>\n",
       "      <td>NaN</td>\n",
       "      <td>15654192.0</td>\n",
       "      <td>NaN</td>\n",
       "      <td>NaN</td>\n",
       "    </tr>\n",
       "    <tr>\n",
       "      <th>461</th>\n",
       "      <td>Netherlands</td>\n",
       "      <td>NL</td>\n",
       "      <td>1999</td>\n",
       "      <td>33890.0</td>\n",
       "      <td>NaN</td>\n",
       "      <td>NaN</td>\n",
       "      <td>15760225.0</td>\n",
       "      <td>4.341133</td>\n",
       "      <td>NaN</td>\n",
       "    </tr>\n",
       "    <tr>\n",
       "      <th>462</th>\n",
       "      <td>Netherlands</td>\n",
       "      <td>NL</td>\n",
       "      <td>2000</td>\n",
       "      <td>35060.0</td>\n",
       "      <td>NaN</td>\n",
       "      <td>NaN</td>\n",
       "      <td>15863950.0</td>\n",
       "      <td>3.452346</td>\n",
       "      <td>NaN</td>\n",
       "    </tr>\n",
       "    <tr>\n",
       "      <th>463</th>\n",
       "      <td>Netherlands</td>\n",
       "      <td>NL</td>\n",
       "      <td>2001</td>\n",
       "      <td>35610.0</td>\n",
       "      <td>2.465137</td>\n",
       "      <td>39410331.0</td>\n",
       "      <td>15987075.0</td>\n",
       "      <td>1.568739</td>\n",
       "      <td>NaN</td>\n",
       "    </tr>\n",
       "  </tbody>\n",
       "</table>\n",
       "</div>"
      ],
      "text/plain": [
       "        geo_name geo  time  gdp_cap   pas_cap  passengers  population  \\\n",
       "460  Netherlands  NL  1998  32480.0       NaN         NaN  15654192.0   \n",
       "461  Netherlands  NL  1999  33890.0       NaN         NaN  15760225.0   \n",
       "462  Netherlands  NL  2000  35060.0       NaN         NaN  15863950.0   \n",
       "463  Netherlands  NL  2001  35610.0  2.465137  39410331.0  15987075.0   \n",
       "\n",
       "     gdp_cap_pct  pas_cap_pct  \n",
       "460          NaN          NaN  \n",
       "461     4.341133          NaN  \n",
       "462     3.452346          NaN  \n",
       "463     1.568739          NaN  "
      ]
     },
     "execution_count": 20,
     "metadata": {},
     "output_type": "execute_result"
    }
   ],
   "source": [
    "# a. define values to be modified\n",
    "i, i2 = 460,463\n",
    "\n",
    "set_nan = [full_['pas_cap'][i],\n",
    "           full_['passengers'][i],\n",
    "           full_['pas_cap_pct'][i2]]\n",
    "\n",
    "# b. replace the values\n",
    "full_ = full_.replace(set_nan, np.nan)\n",
    "\n",
    "# c. inspect those indices, to ensure values are correctly NaN\n",
    "full_.iloc[460:464]"
   ]
  },
  {
   "cell_type": "markdown",
   "id": "74894ca1",
   "metadata": {},
   "source": [
    "## Analysis"
   ]
  },
  {
   "cell_type": "markdown",
   "id": "28276b1e",
   "metadata": {},
   "source": [
    "### Economic output vs air travel activity"
   ]
  },
  {
   "cell_type": "code",
   "execution_count": 21,
   "id": "04b15725",
   "metadata": {},
   "outputs": [
    {
     "data": {
      "application/vnd.jupyter.widget-view+json": {
       "model_id": "ca974a40a23144dfa8f9ae02d5c23a5c",
       "version_major": 2,
       "version_minor": 0
      },
      "text/plain": [
       "interactive(children=(Dropdown(description='Country:', index=24, options=('Austria', 'Belgium', 'Bulgaria', 'C…"
      ]
     },
     "metadata": {},
     "output_type": "display_data"
    }
   ],
   "source": [
    "# widget for plotting gdp_cap and pas_cap for eu27 countries\n",
    "\n",
    "widgets.interact(dp.plot_gdp_pas_cap, \n",
    "    df = widgets.fixed(full),\n",
    "    geo_name = widgets.Dropdown(description='Country:', \n",
    "                                    options=full.geo_name.unique(), \n",
    "                                    value='Sweden')\n",
    ");"
   ]
  },
  {
   "cell_type": "markdown",
   "id": "cd159a8d",
   "metadata": {},
   "source": [
    "Generally: Some countries have missing data. For instance Croatia didn't join EU until 2013, so a lot of data is missing for the first half of the period and many countries have not had their numbers for 2020 registered yet. There is a clear correlation between GDP and the degrees of air travel for many countries. For countries with data for 2020, it is obvious that the corona-pandemic has taken a large toll on the passenger numbers - which makes sense since the aviation industry might be the sector, that has taken the largest blow.\n",
    "\n",
    "Take a look at the graphs for:\n",
    "- **Sweden:** the correlation between `gdp_cap` and `pas_cap` is very clear. There is a small dive in `pas_cap` around 2001, which could be due to the dot.com bubble and/or the September 11 attacks on World Trade Center.\n",
    "- **Germany:** passengers per capita broadly follows the development of GDP per capita. It is obvious that the corona pandemic has hit the aviation industry harder than the rest of the economy.\n",
    "- **Greece or Italy:** the economical damage following the financial crisis of 2007-2008 has lasted for a very long time, however passengers per capita has exploded (probably due to tourism from other recovered economies)."
   ]
  },
  {
   "cell_type": "markdown",
   "id": "03398d25",
   "metadata": {},
   "source": [
    "### Closer look at the correlation"
   ]
  },
  {
   "cell_type": "markdown",
   "id": "ca5ed3f4",
   "metadata": {},
   "source": [
    "Lets check if the correlation indeed is present for the countries overall. First we'll take the mean of `gdp_cap` and `pas_cap` for each country, plot the scatters and make a regression. We will also plot the correlation between the percentage growth in GDP per capita and the percentage growth in passengers per capita."
   ]
  },
  {
   "cell_type": "code",
   "execution_count": 22,
   "id": "53f411c1",
   "metadata": {},
   "outputs": [
    {
     "data": {
      "image/png": "[encoded data removed]",
      "text/plain": [
       "<Figure size 720x864 with 2 Axes>"
      ]
     },
     "metadata": {
      "needs_background": "light"
     },
     "output_type": "display_data"
    }
   ],
   "source": [
    "# a. country means over the period\n",
    "x = full_.groupby('geo')['gdp_cap'].mean()\n",
    "y = full_.groupby('geo')['pas_cap'].mean()\n",
    "\n",
    "# b. percentual changes\n",
    "data = full_[['gdp_cap_pct','pas_cap_pct']].dropna() # dropping NaNs for np.polyfit\n",
    "x2 = data['gdp_cap_pct'] \n",
    "y2 = data['pas_cap_pct']\n",
    "\n",
    "# c. create figure and subplots\n",
    "fig, (ax1, ax2) = plt.subplots(2, figsize=(10,12))\n",
    "\n",
    "# d. titles\n",
    "ax1.set_xlabel('GDP per capita')\n",
    "ax1.set_ylabel('Passengers per capita')\n",
    "ax1.set_title('Fig. 1: Correlation between means of gdp_cap and pas_cap in EU27 (1998-2020)')\n",
    "\n",
    "ax2.set_xlabel('Change in GDP per capita (%)')\n",
    "ax2.set_ylabel('Change in passengers per capita (%)')\n",
    "ax2.set_title('Fig. 2: Correlation between GDP pr capita growth and passenger per capita growth')\n",
    "\n",
    "# e. plot contents\n",
    "ax1.plot(x,y,'o') # scatter plot of means\n",
    "a, b = np.polyfit(x,y,1) # linear regression\n",
    "ax1.plot(x,a*x + b); \n",
    "\n",
    "ax2.plot(x2,y2,'o') # scatter plot of pct changes\n",
    "a, b = np.polyfit(x2,y2,1) # linear regression\n",
    "ax2.plot(x2,a*x2 + b);"
   ]
  },
  {
   "cell_type": "markdown",
   "id": "e5b19d8e",
   "metadata": {},
   "source": [
    "Figure 1 shows us that richer countries have had a higher degree of air travel over the period. Figure 2 shows that within countries, a growth in GDP per capita is generally associated with growth in passengers per capita. The group of outliers in the bottom left corner are very likely due to the corona pandemic, where GDP per capita has declined, but passengers per capita has declined to an even greater unprecedented degree."
   ]
  },
  {
   "cell_type": "markdown",
   "id": "6fd3edf6",
   "metadata": {},
   "source": [
    "We can also confirm that the corellation coefficient between the average gdp_cap and pas_cap between the countries is indeed positive as well as the coefficient between the percentual changes. Using `np.corrcoef`."
   ]
  },
  {
   "cell_type": "code",
   "execution_count": 23,
   "id": "bf5ac19b",
   "metadata": {},
   "outputs": [
    {
     "name": "stdout",
     "output_type": "stream",
     "text": [
      "Pearson correlation coefficient between the countries mean gdp_cap and mean pas_cap is: 0.3512\n",
      "Pearson correlation coefficient between the countries gdp_cap_pct and pas_cap_pct is: 0.5071\n"
     ]
    }
   ],
   "source": [
    "print(f'Pearson correlation coefficient between the countries mean gdp_cap and mean pas_cap is: {np.corrcoef([x,y])[0,1]:.4f}')\n",
    "print(f'Pearson correlation coefficient between the countries gdp_cap_pct and pas_cap_pct is: {np.corrcoef([x2,y2])[0,1]:.4f}')"
   ]
  },
  {
   "cell_type": "markdown",
   "id": "eaf29a9f",
   "metadata": {},
   "source": [
    "# Conclusion"
   ]
  },
  {
   "cell_type": "markdown",
   "id": "44a1d091",
   "metadata": {},
   "source": [
    "We have documented a positive correlation between GDP per capita and passengers per capita. We cannot with certainty say the exact cause and effect for this, but we can speculate:\n",
    "\n",
    "- a wealthy population travels more\n",
    "- many high output companies are often internationally dependant (business trips)\n",
    "- countries getting higher GDP from having many tourists\n",
    "- the other way around, the richer a country, the more popular it is for tourists"
   ]
  },
  {
   "cell_type": "code",
   "execution_count": 24,
   "id": "fa2f2bb7",
   "metadata": {},
   "outputs": [
    {
     "name": "stdout",
     "output_type": "stream",
     "text": [
      "From 1998 to 2020, for all EU27 countries the average growth in\n",
      "GDP per capita: 1.96%\n",
      "Passengers per capita: 4.12%\n"
     ]
    }
   ],
   "source": [
    "# checking average growth over the period for all countries\n",
    "print(f'From 1998 to 2020, for all EU27 countries the average growth in')\n",
    "print(f'GDP per capita: {full_.gdp_cap_pct.mean():.2f}%')\n",
    "print(f'Passengers per capita: {full_.pas_cap_pct.mean():.2f}%')"
   ]
  },
  {
   "cell_type": "markdown",
   "id": "9aeb9dda",
   "metadata": {},
   "source": [
    "The average growth is passengers per capita is larger than the average growth in GDP per capita as seen above. We get the same picture when looking at the graphs for each country in 3.3.1. There is a general tendency of larger growth in air travel than income. For some countries by a factor 3-4 for the period. We can speculate that this is due to:\n",
    "\n",
    "- a change of culture for more travel\n",
    "- more low-cost carriers"
   ]
  },
  {
   "cell_type": "markdown",
   "id": "a828aa2d",
   "metadata": {},
   "source": [
    "We have learned to use an API to import data and how to clean up that data for desired usage. Furthermore we have learned to add variables and apply functions to an entire column as well as using the different functions built in to pandas for analysing data in a series or dataframe.\n",
    "\n",
    "For good measure and ability to inspect the data outside python, we will end by exporting the dataframe."
   ]
  },
  {
   "cell_type": "code",
   "execution_count": 25,
   "id": "337e96d7",
   "metadata": {},
   "outputs": [],
   "source": [
    "# exporting dataframe as excel\n",
    "full_.to_excel('data/eu27_pas_gdp.xlsx')"
   ]
  }
 ],
 "metadata": {
  "kernelspec": {
   "display_name": "Python 3",
   "language": "python",
   "name": "python3"
  },
  "language_info": {
   "codemirror_mode": {
    "name": "ipython",
    "version": 3
   },
   "file_extension": ".py",
   "mimetype": "text/x-python",
   "name": "python",
   "nbconvert_exporter": "python",
   "pygments_lexer": "ipython3",
   "version": "3.8.8"
  }
 },
 "nbformat": 4,
 "nbformat_minor": 5
}
