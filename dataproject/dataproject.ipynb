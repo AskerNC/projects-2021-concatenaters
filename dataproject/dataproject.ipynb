{
 "cells": [
  {
   "cell_type": "markdown",
<<<<<<< HEAD
   "id": "9a0094e0",
=======
   "id": "1d9f4495",
>>>>>>> 60c6d0f58d00db2611918f8805730c294a14fd52
   "metadata": {},
   "source": [
    "# Dataproject"
   ]
  },
  {
   "cell_type": "markdown",
<<<<<<< HEAD
   "id": "d0cd90e4",
=======
   "id": "7d1b667f",
>>>>>>> 60c6d0f58d00db2611918f8805730c294a14fd52
   "metadata": {},
   "source": [
    "## Imports and set magics"
   ]
  },
  {
   "cell_type": "code",
<<<<<<< HEAD
   "execution_count": 2,
   "id": "9f2ea6ef",
=======
   "execution_count": 1,
   "id": "9a51ee05",
>>>>>>> 60c6d0f58d00db2611918f8805730c294a14fd52
   "metadata": {},
   "outputs": [],
   "source": [
    "#!pip install EurostatAPIClient"
   ]
  },
  {
   "cell_type": "code",
<<<<<<< HEAD
   "execution_count": 4,
   "id": "d55934ed",
=======
   "execution_count": 2,
   "id": "49178490",
>>>>>>> 60c6d0f58d00db2611918f8805730c294a14fd52
   "metadata": {},
   "outputs": [
    {
     "name": "stdout",
     "output_type": "stream",
     "text": [
      "The autoreload extension is already loaded. To reload it, use:\n",
      "  %reload_ext autoreload\n"
     ]
    }
   ],
   "source": [
    "import pandas as pd\n",
    "import matplotlib.pyplot as plt\n",
    "import ipywidgets as widgets\n",
    "import numpy as np\n",
    "from IPython.display import display\n",
    "\n",
    "from eurostatapiclient import EurostatAPIClient # eurostat API\n",
    "\n",
    "# autoreload modules when code is run\n",
    "%load_ext autoreload\n",
    "%autoreload 2\n",
    "\n",
    "# local modules\n",
    "import dataproject as dp"
   ]
  },
  {
   "cell_type": "markdown",
<<<<<<< HEAD
   "id": "aa0fe604",
=======
   "id": "8e560c02",
>>>>>>> 60c6d0f58d00db2611918f8805730c294a14fd52
   "metadata": {},
   "source": [
    "## Scope"
   ]
  },
  {
   "cell_type": "markdown",
<<<<<<< HEAD
   "id": "b8314270",
=======
   "id": "7cd74248",
>>>>>>> 60c6d0f58d00db2611918f8805730c294a14fd52
   "metadata": {},
   "source": [
    "The data has been chosen to examine air travel patterns across the current European Union members since 1998. We will be able to figure out if there is a connection between income and degree of air travel. The period of the data was chosen due to the fact, that it will cover the Dot-com bubble, the financial crisis of 2007-2008 as well as the corona pandemic.\n"
   ]
  },
  {
   "cell_type": "markdown",
<<<<<<< HEAD
   "id": "7d301b66",
=======
   "id": "04d3fbfb",
>>>>>>> 60c6d0f58d00db2611918f8805730c294a14fd52
   "metadata": {},
   "source": [
    "# The data"
   ]
  },
  {
   "cell_type": "markdown",
<<<<<<< HEAD
   "id": "651c8631",
=======
   "id": "83e90785",
>>>>>>> 60c6d0f58d00db2611918f8805730c294a14fd52
   "metadata": {},
   "source": [
    "Initial setup of API"
   ]
  },
  {
   "cell_type": "code",
<<<<<<< HEAD
   "execution_count": 5,
   "id": "91954235",
=======
   "execution_count": 3,
   "id": "c057ddac",
>>>>>>> 60c6d0f58d00db2611918f8805730c294a14fd52
   "metadata": {},
   "outputs": [],
   "source": [
    "# initializing the Eurostat API client\n",
    "client = EurostatAPIClient('v2.1','json','en')"
   ]
  },
  {
   "cell_type": "markdown",
<<<<<<< HEAD
   "id": "e9be1ccb",
=======
   "id": "f73ce88e",
>>>>>>> 60c6d0f58d00db2611918f8805730c294a14fd52
   "metadata": {},
   "source": [
    "When fetching data the Eurostat API requires some parameters such as units of measurement, period, frequency etc. depending on the dataset. Parameters must be given to the API in a list of tuples containing parameter name and value. We want to examine the period 1998-2020 for all datasets. A list of tuples of time-parameters are created using list comprehension."
   ]
  },
  {
   "cell_type": "code",
<<<<<<< HEAD
   "execution_count": 6,
   "id": "08f3f331",
=======
   "execution_count": 4,
   "id": "1fa002ef",
>>>>>>> 60c6d0f58d00db2611918f8805730c294a14fd52
   "metadata": {},
   "outputs": [],
   "source": [
    "# setting the time parameter to use in all dataset fetches\n",
    "time_param = [('time',f'{i}') for i in reversed(range(1998,2021))]"
   ]
  },
  {
   "cell_type": "code",
   "execution_count": 7,
   "id": "e85131e8",
   "metadata": {},
   "outputs": [
    {
     "data": {
      "text/plain": [
       "[('time', '2020'),\n",
       " ('time', '2019'),\n",
       " ('time', '2018'),\n",
       " ('time', '2017'),\n",
       " ('time', '2016'),\n",
       " ('time', '2015'),\n",
       " ('time', '2014'),\n",
       " ('time', '2013'),\n",
       " ('time', '2012'),\n",
       " ('time', '2011'),\n",
       " ('time', '2010'),\n",
       " ('time', '2009'),\n",
       " ('time', '2008'),\n",
       " ('time', '2007'),\n",
       " ('time', '2006'),\n",
       " ('time', '2005'),\n",
       " ('time', '2004'),\n",
       " ('time', '2003'),\n",
       " ('time', '2002'),\n",
       " ('time', '2001'),\n",
       " ('time', '2000'),\n",
       " ('time', '1999'),\n",
       " ('time', '1998')]"
      ]
     },
     "execution_count": 7,
     "metadata": {},
     "output_type": "execute_result"
    }
   ],
   "source": [
    "time_param"
   ]
  },
  {
   "cell_type": "markdown",
<<<<<<< HEAD
   "id": "60fe2bed",
=======
   "id": "e078d6ed",
>>>>>>> 60c6d0f58d00db2611918f8805730c294a14fd52
   "metadata": {},
   "source": [
    "## Importing and cleaning datasets"
   ]
  },
  {
   "cell_type": "markdown",
<<<<<<< HEAD
   "id": "d1507cf2",
=======
   "id": "c0a85dfb",
>>>>>>> 60c6d0f58d00db2611918f8805730c294a14fd52
   "metadata": {},
   "source": [
    "### Passenger numbers"
   ]
  },
  {
   "cell_type": "markdown",
<<<<<<< HEAD
   "id": "c730c01e",
=======
   "id": "60de467a",
>>>>>>> 60c6d0f58d00db2611918f8805730c294a14fd52
   "metadata": {},
   "source": [
    "For the dataset \"Aircraft traffic data by reporting country\" (avia_tf_acc) parameters `unit`, `freq`, `tra_cov`, `tra_meas` and `aircraft` should be defined. The parameters set below basically means we want the annual number of actually boarded passenger for all types of aircraft for domestic and international flights. Please refer to [the dataset](https://ec.europa.eu/eurostat/databrowser/view/avia_tf_acc/default/table?lang=en \"Eurostat\") for more info."
   ]
  },
  {
   "cell_type": "code",
<<<<<<< HEAD
   "execution_count": 12,
   "id": "79c6adda",
=======
   "execution_count": 5,
   "id": "9720ffd0",
>>>>>>> 60c6d0f58d00db2611918f8805730c294a14fd52
   "metadata": {},
   "outputs": [
    {
     "name": "stdout",
     "output_type": "stream",
     "text": [
      "The dataset title is:\n",
      "Aircraft traffic data by reporting country\n"
     ]
    },
    {
     "data": {
      "text/html": [
       "<div>\n",
       "<style scoped>\n",
       "    .dataframe tbody tr th:only-of-type {\n",
       "        vertical-align: middle;\n",
       "    }\n",
       "\n",
       "    .dataframe tbody tr th {\n",
       "        vertical-align: top;\n",
       "    }\n",
       "\n",
       "    .dataframe thead th {\n",
       "        text-align: right;\n",
       "    }\n",
       "</style>\n",
       "<table border=\"1\" class=\"dataframe\">\n",
       "  <thead>\n",
       "    <tr style=\"text-align: right;\">\n",
       "      <th></th>\n",
       "      <th>values</th>\n",
       "      <th>unit</th>\n",
       "      <th>tra_meas</th>\n",
       "      <th>tra_cov</th>\n",
       "      <th>aircraft</th>\n",
       "      <th>geo</th>\n",
       "      <th>time</th>\n",
       "    </tr>\n",
       "  </thead>\n",
       "  <tbody>\n",
       "    <tr>\n",
       "      <th>0</th>\n",
       "      <td>12732342.0</td>\n",
       "      <td>PAS</td>\n",
       "      <td>PAS_BRD</td>\n",
       "      <td>TOTAL</td>\n",
       "      <td>TOTAL</td>\n",
       "      <td>AT</td>\n",
       "      <td>1998</td>\n",
       "    </tr>\n",
       "    <tr>\n",
       "      <th>1</th>\n",
       "      <td>13276983.0</td>\n",
       "      <td>PAS</td>\n",
       "      <td>PAS_BRD</td>\n",
       "      <td>TOTAL</td>\n",
       "      <td>TOTAL</td>\n",
       "      <td>AT</td>\n",
       "      <td>1999</td>\n",
       "    </tr>\n",
       "    <tr>\n",
       "      <th>2</th>\n",
       "      <td>14220561.0</td>\n",
       "      <td>PAS</td>\n",
       "      <td>PAS_BRD</td>\n",
       "      <td>TOTAL</td>\n",
       "      <td>TOTAL</td>\n",
       "      <td>AT</td>\n",
       "      <td>2000</td>\n",
       "    </tr>\n",
       "    <tr>\n",
       "      <th>3</th>\n",
       "      <td>14138385.0</td>\n",
       "      <td>PAS</td>\n",
       "      <td>PAS_BRD</td>\n",
       "      <td>TOTAL</td>\n",
       "      <td>TOTAL</td>\n",
       "      <td>AT</td>\n",
       "      <td>2001</td>\n",
       "    </tr>\n",
       "    <tr>\n",
       "      <th>4</th>\n",
       "      <td>14625165.0</td>\n",
       "      <td>PAS</td>\n",
       "      <td>PAS_BRD</td>\n",
       "      <td>TOTAL</td>\n",
       "      <td>TOTAL</td>\n",
       "      <td>AT</td>\n",
       "      <td>2002</td>\n",
       "    </tr>\n",
       "  </tbody>\n",
       "</table>\n",
       "</div>"
      ],
      "text/plain": [
       "       values unit tra_meas tra_cov aircraft geo  time\n",
       "0  12732342.0  PAS  PAS_BRD   TOTAL    TOTAL  AT  1998\n",
       "1  13276983.0  PAS  PAS_BRD   TOTAL    TOTAL  AT  1999\n",
       "2  14220561.0  PAS  PAS_BRD   TOTAL    TOTAL  AT  2000\n",
       "3  14138385.0  PAS  PAS_BRD   TOTAL    TOTAL  AT  2001\n",
       "4  14625165.0  PAS  PAS_BRD   TOTAL    TOTAL  AT  2002"
      ]
     },
     "metadata": {},
     "output_type": "display_data"
    }
   ],
   "source": [
    "# a. setting parameters for this dataset\n",
    "params = [('unit','PAS'),('freq','A'),('tra_cov','TOTAL'),('tra_meas','PAS_BRD'),('aircraft','TOTAL')] + time_param\n",
    "\n",
    "# b. fetching the dataset as a dataframe\n",
    "pas = dp.eurostat_to_df('avia_tf_acc', params, client)"
   ]
  },
  {
   "cell_type": "markdown",
<<<<<<< HEAD
   "id": "2a18f84c",
=======
   "id": "a57f4821",
>>>>>>> 60c6d0f58d00db2611918f8805730c294a14fd52
   "metadata": {},
   "source": [
    "Cleanup: There are obviously some columns we don't want. More specifically the columns `unit`, `tra_meas`, `tra_cov` and `aircraft`. We also want to rename the `values` column to remind us what the values actually are."
   ]
  },
  {
   "cell_type": "code",
<<<<<<< HEAD
   "execution_count": 13,
   "id": "dd4c6bb5",
=======
   "execution_count": 6,
   "id": "363e131f",
>>>>>>> 60c6d0f58d00db2611918f8805730c294a14fd52
   "metadata": {},
   "outputs": [
    {
     "data": {
      "text/html": [
       "<div>\n",
       "<style scoped>\n",
       "    .dataframe tbody tr th:only-of-type {\n",
       "        vertical-align: middle;\n",
       "    }\n",
       "\n",
       "    .dataframe tbody tr th {\n",
       "        vertical-align: top;\n",
       "    }\n",
       "\n",
       "    .dataframe thead th {\n",
       "        text-align: right;\n",
       "    }\n",
       "</style>\n",
       "<table border=\"1\" class=\"dataframe\">\n",
       "  <thead>\n",
       "    <tr style=\"text-align: right;\">\n",
       "      <th></th>\n",
       "      <th>passengers</th>\n",
       "      <th>geo</th>\n",
       "      <th>time</th>\n",
       "    </tr>\n",
       "  </thead>\n",
       "  <tbody>\n",
       "    <tr>\n",
       "      <th>0</th>\n",
       "      <td>12732342.0</td>\n",
       "      <td>AT</td>\n",
       "      <td>1998</td>\n",
       "    </tr>\n",
       "    <tr>\n",
       "      <th>1</th>\n",
       "      <td>13276983.0</td>\n",
       "      <td>AT</td>\n",
       "      <td>1999</td>\n",
       "    </tr>\n",
       "    <tr>\n",
       "      <th>2</th>\n",
       "      <td>14220561.0</td>\n",
       "      <td>AT</td>\n",
       "      <td>2000</td>\n",
       "    </tr>\n",
       "    <tr>\n",
       "      <th>3</th>\n",
       "      <td>14138385.0</td>\n",
       "      <td>AT</td>\n",
       "      <td>2001</td>\n",
       "    </tr>\n",
       "    <tr>\n",
       "      <th>4</th>\n",
       "      <td>14625165.0</td>\n",
       "      <td>AT</td>\n",
       "      <td>2002</td>\n",
       "    </tr>\n",
       "  </tbody>\n",
       "</table>\n",
       "</div>"
      ],
      "text/plain": [
       "   passengers geo  time\n",
       "0  12732342.0  AT  1998\n",
       "1  13276983.0  AT  1999\n",
       "2  14220561.0  AT  2000\n",
       "3  14138385.0  AT  2001\n",
       "4  14625165.0  AT  2002"
      ]
     },
     "metadata": {},
     "output_type": "display_data"
    }
   ],
   "source": [
    "# cleaning up - renaming values and removing unwanted cols\n",
    "drop_these = ['unit','tra_meas','tra_cov','aircraft']\n",
    "dp.clean_eurostat_df(pas, drop_these, 'passengers')"
   ]
  },
  {
   "cell_type": "code",
   "execution_count": 50,
   "id": "3b1c9467",
   "metadata": {},
   "outputs": [
    {
     "data": {
      "text/html": [
       "<div>\n",
       "<style scoped>\n",
       "    .dataframe tbody tr th:only-of-type {\n",
       "        vertical-align: middle;\n",
       "    }\n",
       "\n",
       "    .dataframe tbody tr th {\n",
       "        vertical-align: top;\n",
       "    }\n",
       "\n",
       "    .dataframe thead th {\n",
       "        text-align: right;\n",
       "    }\n",
       "</style>\n",
       "<table border=\"1\" class=\"dataframe\">\n",
       "  <thead>\n",
       "    <tr style=\"text-align: right;\">\n",
       "      <th></th>\n",
       "      <th>passengers</th>\n",
       "      <th>geo</th>\n",
       "      <th>time</th>\n",
       "    </tr>\n",
       "  </thead>\n",
       "  <tbody>\n",
       "    <tr>\n",
       "      <th>621</th>\n",
       "      <td>433911.0</td>\n",
       "      <td>NL</td>\n",
       "      <td>1998</td>\n",
       "    </tr>\n",
       "    <tr>\n",
       "      <th>622</th>\n",
       "      <td>NaN</td>\n",
       "      <td>NL</td>\n",
       "      <td>1999</td>\n",
       "    </tr>\n",
       "    <tr>\n",
       "      <th>623</th>\n",
       "      <td>NaN</td>\n",
       "      <td>NL</td>\n",
       "      <td>2000</td>\n",
       "    </tr>\n",
       "    <tr>\n",
       "      <th>624</th>\n",
       "      <td>39410331.0</td>\n",
       "      <td>NL</td>\n",
       "      <td>2001</td>\n",
       "    </tr>\n",
       "    <tr>\n",
       "      <th>625</th>\n",
       "      <td>40624654.0</td>\n",
       "      <td>NL</td>\n",
       "      <td>2002</td>\n",
       "    </tr>\n",
       "    <tr>\n",
       "      <th>626</th>\n",
       "      <td>41143826.0</td>\n",
       "      <td>NL</td>\n",
       "      <td>2003</td>\n",
       "    </tr>\n",
       "    <tr>\n",
       "      <th>627</th>\n",
       "      <td>44870327.0</td>\n",
       "      <td>NL</td>\n",
       "      <td>2004</td>\n",
       "    </tr>\n",
       "    <tr>\n",
       "      <th>628</th>\n",
       "      <td>46690206.0</td>\n",
       "      <td>NL</td>\n",
       "      <td>2005</td>\n",
       "    </tr>\n",
       "    <tr>\n",
       "      <th>629</th>\n",
       "      <td>48898834.0</td>\n",
       "      <td>NL</td>\n",
       "      <td>2006</td>\n",
       "    </tr>\n",
       "    <tr>\n",
       "      <th>630</th>\n",
       "      <td>50763247.0</td>\n",
       "      <td>NL</td>\n",
       "      <td>2007</td>\n",
       "    </tr>\n",
       "    <tr>\n",
       "      <th>631</th>\n",
       "      <td>50670350.0</td>\n",
       "      <td>NL</td>\n",
       "      <td>2008</td>\n",
       "    </tr>\n",
       "    <tr>\n",
       "      <th>632</th>\n",
       "      <td>46725783.0</td>\n",
       "      <td>NL</td>\n",
       "      <td>2009</td>\n",
       "    </tr>\n",
       "    <tr>\n",
       "      <th>633</th>\n",
       "      <td>48905842.0</td>\n",
       "      <td>NL</td>\n",
       "      <td>2010</td>\n",
       "    </tr>\n",
       "    <tr>\n",
       "      <th>634</th>\n",
       "      <td>54198877.0</td>\n",
       "      <td>NL</td>\n",
       "      <td>2011</td>\n",
       "    </tr>\n",
       "    <tr>\n",
       "      <th>635</th>\n",
       "      <td>55946383.0</td>\n",
       "      <td>NL</td>\n",
       "      <td>2012</td>\n",
       "    </tr>\n",
       "    <tr>\n",
       "      <th>636</th>\n",
       "      <td>58316239.0</td>\n",
       "      <td>NL</td>\n",
       "      <td>2013</td>\n",
       "    </tr>\n",
       "    <tr>\n",
       "      <th>637</th>\n",
       "      <td>61163636.0</td>\n",
       "      <td>NL</td>\n",
       "      <td>2014</td>\n",
       "    </tr>\n",
       "    <tr>\n",
       "      <th>638</th>\n",
       "      <td>64916147.0</td>\n",
       "      <td>NL</td>\n",
       "      <td>2015</td>\n",
       "    </tr>\n",
       "    <tr>\n",
       "      <th>639</th>\n",
       "      <td>70622839.0</td>\n",
       "      <td>NL</td>\n",
       "      <td>2016</td>\n",
       "    </tr>\n",
       "    <tr>\n",
       "      <th>640</th>\n",
       "      <td>76608203.0</td>\n",
       "      <td>NL</td>\n",
       "      <td>2017</td>\n",
       "    </tr>\n",
       "    <tr>\n",
       "      <th>641</th>\n",
       "      <td>79862217.0</td>\n",
       "      <td>NL</td>\n",
       "      <td>2018</td>\n",
       "    </tr>\n",
       "    <tr>\n",
       "      <th>642</th>\n",
       "      <td>81274281.0</td>\n",
       "      <td>NL</td>\n",
       "      <td>2019</td>\n",
       "    </tr>\n",
       "    <tr>\n",
       "      <th>643</th>\n",
       "      <td>23606788.0</td>\n",
       "      <td>NL</td>\n",
       "      <td>2020</td>\n",
       "    </tr>\n",
       "  </tbody>\n",
       "</table>\n",
       "</div>"
      ],
      "text/plain": [
       "     passengers geo  time\n",
       "621    433911.0  NL  1998\n",
       "622         NaN  NL  1999\n",
       "623         NaN  NL  2000\n",
       "624  39410331.0  NL  2001\n",
       "625  40624654.0  NL  2002\n",
       "626  41143826.0  NL  2003\n",
       "627  44870327.0  NL  2004\n",
       "628  46690206.0  NL  2005\n",
       "629  48898834.0  NL  2006\n",
       "630  50763247.0  NL  2007\n",
       "631  50670350.0  NL  2008\n",
       "632  46725783.0  NL  2009\n",
       "633  48905842.0  NL  2010\n",
       "634  54198877.0  NL  2011\n",
       "635  55946383.0  NL  2012\n",
       "636  58316239.0  NL  2013\n",
       "637  61163636.0  NL  2014\n",
       "638  64916147.0  NL  2015\n",
       "639  70622839.0  NL  2016\n",
       "640  76608203.0  NL  2017\n",
       "641  79862217.0  NL  2018\n",
       "642  81274281.0  NL  2019\n",
       "643  23606788.0  NL  2020"
      ]
     },
     "execution_count": 50,
     "metadata": {},
     "output_type": "execute_result"
    }
   ],
   "source": [
    "I = pas.geo=='NL'\n",
    "pas[I]"
   ]
  },
  {
   "cell_type": "markdown",
<<<<<<< HEAD
   "id": "23e5b2cf",
=======
   "id": "57606ec2",
>>>>>>> 60c6d0f58d00db2611918f8805730c294a14fd52
   "metadata": {},
   "source": [
    "### Real GDP per capita"
   ]
  },
  {
   "cell_type": "markdown",
<<<<<<< HEAD
   "id": "7a26d420",
=======
   "id": "c82d7781",
>>>>>>> 60c6d0f58d00db2611918f8805730c294a14fd52
   "metadata": {},
   "source": [
    "For the dataset \"Main GDP aggregates per capita\" (nama_10_pc) parameters `unit` and `na_item` should be defined. The parameters set below means we will get ___real___ GDP per capita in EUR. Please refer to [the dataset](https://ec.europa.eu/eurostat/databrowser/view/NAMA_10_PC/default/table \"Eurostat\") for more info."
   ]
  },
  {
   "cell_type": "code",
<<<<<<< HEAD
   "execution_count": 16,
   "id": "48a43936",
=======
   "execution_count": 7,
   "id": "8a3a5256",
>>>>>>> 60c6d0f58d00db2611918f8805730c294a14fd52
   "metadata": {},
   "outputs": [
    {
     "name": "stdout",
     "output_type": "stream",
     "text": [
      "The dataset title is:\n",
      "Main GDP aggregates per capita\n"
     ]
    },
    {
     "data": {
      "text/html": [
       "<div>\n",
       "<style scoped>\n",
       "    .dataframe tbody tr th:only-of-type {\n",
       "        vertical-align: middle;\n",
       "    }\n",
       "\n",
       "    .dataframe tbody tr th {\n",
       "        vertical-align: top;\n",
       "    }\n",
       "\n",
       "    .dataframe thead th {\n",
       "        text-align: right;\n",
       "    }\n",
       "</style>\n",
       "<table border=\"1\" class=\"dataframe\">\n",
       "  <thead>\n",
       "    <tr style=\"text-align: right;\">\n",
       "      <th></th>\n",
       "      <th>values</th>\n",
       "      <th>unit</th>\n",
       "      <th>na_item</th>\n",
       "      <th>geo</th>\n",
       "      <th>time</th>\n",
       "    </tr>\n",
       "  </thead>\n",
       "  <tbody>\n",
       "    <tr>\n",
       "      <th>0</th>\n",
       "      <td>29750.0</td>\n",
       "      <td>CLV10_EUR_HAB</td>\n",
       "      <td>B1GQ</td>\n",
       "      <td>AT</td>\n",
       "      <td>1998</td>\n",
       "    </tr>\n",
       "    <tr>\n",
       "      <th>1</th>\n",
       "      <td>30750.0</td>\n",
       "      <td>CLV10_EUR_HAB</td>\n",
       "      <td>B1GQ</td>\n",
       "      <td>AT</td>\n",
       "      <td>1999</td>\n",
       "    </tr>\n",
       "    <tr>\n",
       "      <th>2</th>\n",
       "      <td>31710.0</td>\n",
       "      <td>CLV10_EUR_HAB</td>\n",
       "      <td>B1GQ</td>\n",
       "      <td>AT</td>\n",
       "      <td>2000</td>\n",
       "    </tr>\n",
       "    <tr>\n",
       "      <th>3</th>\n",
       "      <td>31990.0</td>\n",
       "      <td>CLV10_EUR_HAB</td>\n",
       "      <td>B1GQ</td>\n",
       "      <td>AT</td>\n",
       "      <td>2001</td>\n",
       "    </tr>\n",
       "    <tr>\n",
       "      <th>4</th>\n",
       "      <td>32360.0</td>\n",
       "      <td>CLV10_EUR_HAB</td>\n",
       "      <td>B1GQ</td>\n",
       "      <td>AT</td>\n",
       "      <td>2002</td>\n",
       "    </tr>\n",
       "  </tbody>\n",
       "</table>\n",
       "</div>"
      ],
      "text/plain": [
       "    values           unit na_item geo  time\n",
       "0  29750.0  CLV10_EUR_HAB    B1GQ  AT  1998\n",
       "1  30750.0  CLV10_EUR_HAB    B1GQ  AT  1999\n",
       "2  31710.0  CLV10_EUR_HAB    B1GQ  AT  2000\n",
       "3  31990.0  CLV10_EUR_HAB    B1GQ  AT  2001\n",
       "4  32360.0  CLV10_EUR_HAB    B1GQ  AT  2002"
      ]
     },
     "metadata": {},
     "output_type": "display_data"
    }
   ],
   "source": [
    "# a. setting parameters for this dataset\n",
    "params = [('unit','CLV10_EUR_HAB'),('na_item','B1GQ')] + time_param\n",
    "\n",
    "# b. fetching the dataset as a dataframe\n",
    "gdp_cap = dp.eurostat_to_df('nama_10_pc', params, client)"
   ]
  },
  {
   "cell_type": "markdown",
<<<<<<< HEAD
   "id": "0532b726",
=======
   "id": "cc9227ed",
>>>>>>> 60c6d0f58d00db2611918f8805730c294a14fd52
   "metadata": {},
   "source": [
    "Cleanup: Again there are columns we don't want: `unit` and `na_item`. We also rename the `values` column."
   ]
  },
  {
   "cell_type": "code",
<<<<<<< HEAD
   "execution_count": 17,
   "id": "ae1866a4",
=======
   "execution_count": 8,
   "id": "f4ab19a4",
>>>>>>> 60c6d0f58d00db2611918f8805730c294a14fd52
   "metadata": {},
   "outputs": [
    {
     "data": {
      "text/html": [
       "<div>\n",
       "<style scoped>\n",
       "    .dataframe tbody tr th:only-of-type {\n",
       "        vertical-align: middle;\n",
       "    }\n",
       "\n",
       "    .dataframe tbody tr th {\n",
       "        vertical-align: top;\n",
       "    }\n",
       "\n",
       "    .dataframe thead th {\n",
       "        text-align: right;\n",
       "    }\n",
       "</style>\n",
       "<table border=\"1\" class=\"dataframe\">\n",
       "  <thead>\n",
       "    <tr style=\"text-align: right;\">\n",
       "      <th></th>\n",
       "      <th>gdp_cap</th>\n",
       "      <th>geo</th>\n",
       "      <th>time</th>\n",
       "    </tr>\n",
       "  </thead>\n",
       "  <tbody>\n",
       "    <tr>\n",
       "      <th>0</th>\n",
       "      <td>29750.0</td>\n",
       "      <td>AT</td>\n",
       "      <td>1998</td>\n",
       "    </tr>\n",
       "    <tr>\n",
       "      <th>1</th>\n",
       "      <td>30750.0</td>\n",
       "      <td>AT</td>\n",
       "      <td>1999</td>\n",
       "    </tr>\n",
       "    <tr>\n",
       "      <th>2</th>\n",
       "      <td>31710.0</td>\n",
       "      <td>AT</td>\n",
       "      <td>2000</td>\n",
       "    </tr>\n",
       "    <tr>\n",
       "      <th>3</th>\n",
       "      <td>31990.0</td>\n",
       "      <td>AT</td>\n",
       "      <td>2001</td>\n",
       "    </tr>\n",
       "    <tr>\n",
       "      <th>4</th>\n",
       "      <td>32360.0</td>\n",
       "      <td>AT</td>\n",
       "      <td>2002</td>\n",
       "    </tr>\n",
       "  </tbody>\n",
       "</table>\n",
       "</div>"
      ],
      "text/plain": [
       "   gdp_cap geo  time\n",
       "0  29750.0  AT  1998\n",
       "1  30750.0  AT  1999\n",
       "2  31710.0  AT  2000\n",
       "3  31990.0  AT  2001\n",
       "4  32360.0  AT  2002"
      ]
     },
     "metadata": {},
     "output_type": "display_data"
    }
   ],
   "source": [
    "# cleaning up - renaming values and removing unwanted cols\n",
    "drop_these = ['unit','na_item']\n",
    "dp.clean_eurostat_df(gdp_cap, drop_these, 'gdp_cap')"
   ]
  },
  {
   "cell_type": "markdown",
<<<<<<< HEAD
   "id": "6d35fa1c",
=======
   "id": "a1180733",
>>>>>>> 60c6d0f58d00db2611918f8805730c294a14fd52
   "metadata": {},
   "source": [
    "### Population figures"
   ]
  },
  {
   "cell_type": "markdown",
<<<<<<< HEAD
   "id": "b3090610",
=======
   "id": "2e49d08e",
>>>>>>> 60c6d0f58d00db2611918f8805730c294a14fd52
   "metadata": {},
   "source": [
    "For the dataset \"Population on 1 January by age and sex\" (demo_pjan) parameters `age` and `sex` should be defined. The parameters set below means we will only get the figure for the entire population (all ages and sex). Please refer to [the dataset](https://ec.europa.eu/eurostat/databrowser/view/DEMO_PJAN/default/table \"Eurostat\") for more info."
   ]
  },
  {
   "cell_type": "code",
<<<<<<< HEAD
   "execution_count": 20,
   "id": "ee4385ea",
=======
   "execution_count": 9,
   "id": "6e8e457e",
>>>>>>> 60c6d0f58d00db2611918f8805730c294a14fd52
   "metadata": {},
   "outputs": [
    {
     "name": "stdout",
     "output_type": "stream",
     "text": [
      "The dataset title is:\n",
      "Population on 1 January by age and sex\n"
     ]
    },
    {
     "data": {
      "text/html": [
       "<div>\n",
       "<style scoped>\n",
       "    .dataframe tbody tr th:only-of-type {\n",
       "        vertical-align: middle;\n",
       "    }\n",
       "\n",
       "    .dataframe tbody tr th {\n",
       "        vertical-align: top;\n",
       "    }\n",
       "\n",
       "    .dataframe thead th {\n",
       "        text-align: right;\n",
       "    }\n",
       "</style>\n",
       "<table border=\"1\" class=\"dataframe\">\n",
       "  <thead>\n",
       "    <tr style=\"text-align: right;\">\n",
       "      <th></th>\n",
       "      <th>values</th>\n",
       "      <th>unit</th>\n",
       "      <th>age</th>\n",
       "      <th>sex</th>\n",
       "      <th>geo</th>\n",
       "      <th>time</th>\n",
       "    </tr>\n",
       "  </thead>\n",
       "  <tbody>\n",
       "    <tr>\n",
       "      <th>0</th>\n",
       "      <td>65306.0</td>\n",
       "      <td>NR</td>\n",
       "      <td>TOTAL</td>\n",
       "      <td>T</td>\n",
       "      <td>AD</td>\n",
       "      <td>1998</td>\n",
       "    </tr>\n",
       "    <tr>\n",
       "      <th>1</th>\n",
       "      <td>65877.0</td>\n",
       "      <td>NR</td>\n",
       "      <td>TOTAL</td>\n",
       "      <td>T</td>\n",
       "      <td>AD</td>\n",
       "      <td>1999</td>\n",
       "    </tr>\n",
       "    <tr>\n",
       "      <th>2</th>\n",
       "      <td>65971.0</td>\n",
       "      <td>NR</td>\n",
       "      <td>TOTAL</td>\n",
       "      <td>T</td>\n",
       "      <td>AD</td>\n",
       "      <td>2000</td>\n",
       "    </tr>\n",
       "    <tr>\n",
       "      <th>3</th>\n",
       "      <td>65844.0</td>\n",
       "      <td>NR</td>\n",
       "      <td>TOTAL</td>\n",
       "      <td>T</td>\n",
       "      <td>AD</td>\n",
       "      <td>2001</td>\n",
       "    </tr>\n",
       "    <tr>\n",
       "      <th>4</th>\n",
       "      <td>66334.0</td>\n",
       "      <td>NR</td>\n",
       "      <td>TOTAL</td>\n",
       "      <td>T</td>\n",
       "      <td>AD</td>\n",
       "      <td>2002</td>\n",
       "    </tr>\n",
       "  </tbody>\n",
       "</table>\n",
       "</div>"
      ],
      "text/plain": [
       "    values unit    age sex geo  time\n",
       "0  65306.0   NR  TOTAL   T  AD  1998\n",
       "1  65877.0   NR  TOTAL   T  AD  1999\n",
       "2  65971.0   NR  TOTAL   T  AD  2000\n",
       "3  65844.0   NR  TOTAL   T  AD  2001\n",
       "4  66334.0   NR  TOTAL   T  AD  2002"
      ]
     },
     "metadata": {},
     "output_type": "display_data"
    }
   ],
   "source": [
    "# a. setting parameters for this dataset\n",
    "params = [('age','TOTAL'),('sex','T')] + time_param\n",
    "\n",
    "# b. fetching the dataset as a dataframe\n",
    "pop = dp.eurostat_to_df('demo_pjan', params, client)"
   ]
  },
  {
   "cell_type": "markdown",
<<<<<<< HEAD
   "id": "1c1db8cd",
=======
   "id": "9fa19da2",
>>>>>>> 60c6d0f58d00db2611918f8805730c294a14fd52
   "metadata": {},
   "source": [
    "Cleanup: Removing `unit`, `sex` and `age`. Renaming `values` to `population`."
   ]
  },
  {
   "cell_type": "code",
<<<<<<< HEAD
   "execution_count": 21,
   "id": "38181549",
=======
   "execution_count": 10,
   "id": "b0affbdc",
>>>>>>> 60c6d0f58d00db2611918f8805730c294a14fd52
   "metadata": {},
   "outputs": [
    {
     "data": {
      "text/html": [
       "<div>\n",
       "<style scoped>\n",
       "    .dataframe tbody tr th:only-of-type {\n",
       "        vertical-align: middle;\n",
       "    }\n",
       "\n",
       "    .dataframe tbody tr th {\n",
       "        vertical-align: top;\n",
       "    }\n",
       "\n",
       "    .dataframe thead th {\n",
       "        text-align: right;\n",
       "    }\n",
       "</style>\n",
       "<table border=\"1\" class=\"dataframe\">\n",
       "  <thead>\n",
       "    <tr style=\"text-align: right;\">\n",
       "      <th></th>\n",
       "      <th>population</th>\n",
       "      <th>geo</th>\n",
       "      <th>time</th>\n",
       "    </tr>\n",
       "  </thead>\n",
       "  <tbody>\n",
       "    <tr>\n",
       "      <th>0</th>\n",
       "      <td>65306.0</td>\n",
       "      <td>AD</td>\n",
       "      <td>1998</td>\n",
       "    </tr>\n",
       "    <tr>\n",
       "      <th>1</th>\n",
       "      <td>65877.0</td>\n",
       "      <td>AD</td>\n",
       "      <td>1999</td>\n",
       "    </tr>\n",
       "    <tr>\n",
       "      <th>2</th>\n",
       "      <td>65971.0</td>\n",
       "      <td>AD</td>\n",
       "      <td>2000</td>\n",
       "    </tr>\n",
       "    <tr>\n",
       "      <th>3</th>\n",
       "      <td>65844.0</td>\n",
       "      <td>AD</td>\n",
       "      <td>2001</td>\n",
       "    </tr>\n",
       "    <tr>\n",
       "      <th>4</th>\n",
       "      <td>66334.0</td>\n",
       "      <td>AD</td>\n",
       "      <td>2002</td>\n",
       "    </tr>\n",
       "  </tbody>\n",
       "</table>\n",
       "</div>"
      ],
      "text/plain": [
       "   population geo  time\n",
       "0     65306.0  AD  1998\n",
       "1     65877.0  AD  1999\n",
       "2     65971.0  AD  2000\n",
       "3     65844.0  AD  2001\n",
       "4     66334.0  AD  2002"
      ]
     },
     "metadata": {},
     "output_type": "display_data"
    }
   ],
   "source": [
    "# cleaning up - renaming values and removing unwanted cols\n",
    "drop_these = ['unit','sex','age']\n",
    "dp.clean_eurostat_df(pop, drop_these, 'population')"
   ]
  },
  {
   "cell_type": "markdown",
<<<<<<< HEAD
   "id": "d92a49e3",
=======
   "id": "8d4e5815",
>>>>>>> 60c6d0f58d00db2611918f8805730c294a14fd52
   "metadata": {},
   "source": [
    "## The full dataset"
   ]
  },
  {
   "cell_type": "markdown",
<<<<<<< HEAD
   "id": "15f9fae0",
=======
   "id": "9ebfceb7",
>>>>>>> 60c6d0f58d00db2611918f8805730c294a14fd52
   "metadata": {},
   "source": [
    "### Merging"
   ]
  },
  {
   "cell_type": "markdown",
<<<<<<< HEAD
   "id": "f60ee612",
=======
   "id": "a345fadb",
>>>>>>> 60c6d0f58d00db2611918f8805730c294a14fd52
   "metadata": {},
   "source": [
    "Since we imported the dataset with the same time-parameters, the same years should be available in all 3 datasets, but the geo-identifiers are not the same in all datasets as evident below:"
   ]
  },
  {
   "cell_type": "code",
<<<<<<< HEAD
   "execution_count": 22,
   "id": "8800d0af",
=======
   "execution_count": 11,
   "id": "54fa5cdc",
>>>>>>> 60c6d0f58d00db2611918f8805730c294a14fd52
   "metadata": {},
   "outputs": [
    {
     "name": "stdout",
     "output_type": "stream",
     "text": [
      "geo in pas:     38\n",
      "geo in gdp_cap: 41\n",
      "geo in pop:     59\n"
     ]
    }
   ],
   "source": [
    "print(\n",
    "    f'geo in pas: {len(pas.geo.unique()):6}\\n'\n",
    "    f'geo in gdp_cap: {len(gdp_cap.geo.unique()):2}\\n'\n",
    "    f'geo in pop: {len(pop.geo.unique()):6}'\n",
    ")"
   ]
  },
  {
   "cell_type": "markdown",
<<<<<<< HEAD
   "id": "cb6a6f17",
=======
   "id": "75e418c7",
>>>>>>> 60c6d0f58d00db2611918f8805730c294a14fd52
   "metadata": {},
   "source": [
    "Some of the datasets contain geo identifiers that are not present in the others. We are however only interested in the [EU27 2020 countries](https://en.wikipedia.org/wiki/Member_state_of_the_European_Union) (the countries remaining in EU since UK left last year). All three datasets should contain values for these countries.\n",
    "\n",
    "We can merge the three datasets by the 'inner' method, since we don't mind losing any of the values that are not present in all three datasets."
   ]
  },
  {
   "cell_type": "code",
<<<<<<< HEAD
   "execution_count": 26,
   "id": "bb32f1ac",
=======
   "execution_count": 12,
   "id": "a658060e",
>>>>>>> 60c6d0f58d00db2611918f8805730c294a14fd52
   "metadata": {},
   "outputs": [
    {
     "name": "stdout",
     "output_type": "stream",
     "text": [
      "(      passengers geo  time\n",
      "0     12732342.0  AT  1998\n",
      "1     13276983.0  AT  1999\n",
      "2     14220561.0  AT  2000\n",
      "3     14138385.0  AT  2001\n",
      "4     14625165.0  AT  2002\n",
      "..           ...  ..   ...\n",
      "869  249076212.0  UK  2016\n",
      "870  264867264.0  UK  2017\n",
      "871  272386344.0  UK  2018\n",
      "872  277548891.0  UK  2019\n",
      "873          NaN  UK  2020\n",
      "\n",
      "[874 rows x 3 columns],      gdp_cap geo  time\n",
      "0    29750.0  AT  1998\n",
      "1    30750.0  AT  1999\n",
      "2    31710.0  AT  2000\n",
      "3    31990.0  AT  2001\n",
      "4    32360.0  AT  2002\n",
      "..       ...  ..   ...\n",
      "938  32060.0  UK  2016\n",
      "939  32430.0  UK  2017\n",
      "940  32640.0  UK  2018\n",
      "941  32910.0  UK  2019\n",
      "942      NaN  UK  2020\n",
      "\n",
      "[943 rows x 3 columns],       population geo  time\n",
      "0        65306.0  AD  1998\n",
      "1        65877.0  AD  1999\n",
      "2        65971.0  AD  2000\n",
      "3        65844.0  AD  2001\n",
      "4        66334.0  AD  2002\n",
      "...          ...  ..   ...\n",
      "1352   1771604.0  XK  2016\n",
      "1353   1783531.0  XK  2017\n",
      "1354   1798506.0  XK  2018\n",
      "1355   1795666.0  XK  2019\n",
      "1356         NaN  XK  2020\n",
      "\n",
      "[1357 rows x 3 columns])\n",
      "<class 'tuple'>\n"
     ]
    },
    {
     "data": {
      "text/html": [
       "<div>\n",
       "<style scoped>\n",
       "    .dataframe tbody tr th:only-of-type {\n",
       "        vertical-align: middle;\n",
       "    }\n",
       "\n",
       "    .dataframe tbody tr th {\n",
       "        vertical-align: top;\n",
       "    }\n",
       "\n",
       "    .dataframe thead th {\n",
       "        text-align: right;\n",
       "    }\n",
       "</style>\n",
       "<table border=\"1\" class=\"dataframe\">\n",
       "  <thead>\n",
       "    <tr style=\"text-align: right;\">\n",
       "      <th></th>\n",
       "      <th>passengers</th>\n",
       "      <th>geo</th>\n",
       "      <th>time</th>\n",
       "      <th>gdp_cap</th>\n",
       "      <th>population</th>\n",
       "    </tr>\n",
       "  </thead>\n",
       "  <tbody>\n",
       "    <tr>\n",
       "      <th>0</th>\n",
       "      <td>12732342.0</td>\n",
       "      <td>AT</td>\n",
       "      <td>1998</td>\n",
       "      <td>29750.0</td>\n",
       "      <td>7971116.0</td>\n",
       "    </tr>\n",
       "    <tr>\n",
       "      <th>1</th>\n",
       "      <td>13276983.0</td>\n",
       "      <td>AT</td>\n",
       "      <td>1999</td>\n",
       "      <td>30750.0</td>\n",
       "      <td>7982461.0</td>\n",
       "    </tr>\n",
       "    <tr>\n",
       "      <th>2</th>\n",
       "      <td>14220561.0</td>\n",
       "      <td>AT</td>\n",
       "      <td>2000</td>\n",
       "      <td>31710.0</td>\n",
       "      <td>8002186.0</td>\n",
       "    </tr>\n",
       "    <tr>\n",
       "      <th>3</th>\n",
       "      <td>14138385.0</td>\n",
       "      <td>AT</td>\n",
       "      <td>2001</td>\n",
       "      <td>31990.0</td>\n",
       "      <td>8020946.0</td>\n",
       "    </tr>\n",
       "    <tr>\n",
       "      <th>4</th>\n",
       "      <td>14625165.0</td>\n",
       "      <td>AT</td>\n",
       "      <td>2002</td>\n",
       "      <td>32360.0</td>\n",
       "      <td>8063640.0</td>\n",
       "    </tr>\n",
       "  </tbody>\n",
       "</table>\n",
       "</div>"
      ],
      "text/plain": [
       "   passengers geo  time  gdp_cap  population\n",
       "0  12732342.0  AT  1998  29750.0   7971116.0\n",
       "1  13276983.0  AT  1999  30750.0   7982461.0\n",
       "2  14220561.0  AT  2000  31710.0   8002186.0\n",
       "3  14138385.0  AT  2001  31990.0   8020946.0\n",
       "4  14625165.0  AT  2002  32360.0   8063640.0"
      ]
     },
     "metadata": {},
     "output_type": "display_data"
    }
   ],
   "source": [
    "full = dp.merge_dfs(pas,gdp_cap,pop,on=['geo','time'],how='inner')"
   ]
  },
  {
<<<<<<< HEAD
   "cell_type": "code",
   "execution_count": 38,
   "id": "adc59693",
=======
   "cell_type": "markdown",
   "id": "4afeee50",
   "metadata": {},
   "source": [
    "### Layout and remove rows"
   ]
  },
  {
   "cell_type": "markdown",
   "id": "f03b836b",
   "metadata": {},
   "source": [
    "We want to make this a little more readable. The country codes in the geo column can be found [here](https://ec.europa.eu/eurostat/statistics-explained/index.php/Glossary:Country_codes). They are listed in a dictionary below:"
   ]
  },
  {
   "cell_type": "code",
   "execution_count": 13,
   "id": "504d0863",
   "metadata": {},
   "outputs": [],
   "source": [
    "eu27_2020 = {\n",
    "        'BE' : 'Belgium','BG' : 'Bulgaria','CZ' : 'Czechia','DK' : 'Denmark',\n",
    "        'DE' : 'Germany','EE' : 'Estonia','IE' : 'Ireland','EL' : 'Greece',\n",
    "        'ES' : 'Spain','FR' : 'France','HR' : 'Croatia','IT' : 'Italy',\n",
    "        'CY' : 'Cyprus','LV' : 'Latvia','LT' : 'Lithuania','LU' : 'Luxembourg',\n",
    "        'HU' : 'Hungary','MT' : 'Malta','NL' : 'Netherlands','AT' : 'Austria',\n",
    "        'PL' : 'Poland','PT' : 'Portugal','RO' : 'Romania','SI' : 'Slovenia',\n",
    "        'SK' : 'Slovakia','FI' : 'Finland','SE' : 'Sweden'\n",
    "        }"
   ]
  },
  {
   "cell_type": "markdown",
   "id": "116b6025",
   "metadata": {},
   "source": [
    "Not all the EU country codes makes sense, so we will create a new column `geo_name`, that contains the written name corresponding to the country code in `geo`. We will also move the passengers column to the end."
   ]
  },
  {
   "cell_type": "code",
   "execution_count": 14,
   "id": "1d10fb86",
   "metadata": {},
   "outputs": [],
   "source": [
    "# a. inserting new column: geo codes converted to country names using above dictionary\n",
    "full.insert(0, 'geo_name',full.geo.apply(dp.code_to_name,code_dict=eu27_2020))\n",
    "\n",
    "# b. moving passengers to the end\n",
    "move_col = full.pop('passengers')\n",
    "full.insert(len(full.columns)-1, 'passengers', move_col) # inserting at the last index: length-1"
   ]
  },
  {
   "cell_type": "markdown",
   "id": "a4599c77",
   "metadata": {},
   "source": [
    "A logical index using the keys from the eu27_2020 dictionary, shows that the dataframe still contains rows that are either not countries or countries that are not part of European Union (such as EU27_2007, Switzerland and United Kingdoms):"
   ]
  },
  {
   "cell_type": "code",
   "execution_count": 15,
   "id": "e4e521c1",
>>>>>>> 60c6d0f58d00db2611918f8805730c294a14fd52
   "metadata": {},
   "outputs": [
    {
     "data": {
      "text/html": [
       "<div>\n",
       "<style scoped>\n",
       "    .dataframe tbody tr th:only-of-type {\n",
       "        vertical-align: middle;\n",
       "    }\n",
       "\n",
       "    .dataframe tbody tr th {\n",
       "        vertical-align: top;\n",
       "    }\n",
       "\n",
       "    .dataframe thead th {\n",
       "        text-align: right;\n",
       "    }\n",
       "</style>\n",
       "<table border=\"1\" class=\"dataframe\">\n",
       "  <thead>\n",
       "    <tr style=\"text-align: right;\">\n",
       "      <th></th>\n",
       "      <th>passengers</th>\n",
       "      <th>geo</th>\n",
       "      <th>time</th>\n",
       "      <th>gdp_cap</th>\n",
       "      <th>population</th>\n",
       "    </tr>\n",
       "  </thead>\n",
       "  <tbody>\n",
       "    <tr>\n",
       "      <th>0</th>\n",
       "      <td>12732342.0</td>\n",
       "      <td>AT</td>\n",
       "      <td>1998</td>\n",
       "      <td>29750.0</td>\n",
       "      <td>7971116.0</td>\n",
       "    </tr>\n",
       "    <tr>\n",
       "      <th>1</th>\n",
       "      <td>13276983.0</td>\n",
       "      <td>AT</td>\n",
       "      <td>1999</td>\n",
       "      <td>30750.0</td>\n",
       "      <td>7982461.0</td>\n",
       "    </tr>\n",
       "    <tr>\n",
       "      <th>2</th>\n",
       "      <td>14220561.0</td>\n",
       "      <td>AT</td>\n",
       "      <td>2000</td>\n",
       "      <td>31710.0</td>\n",
       "      <td>8002186.0</td>\n",
       "    </tr>\n",
       "    <tr>\n",
       "      <th>3</th>\n",
       "      <td>14138385.0</td>\n",
       "      <td>AT</td>\n",
       "      <td>2001</td>\n",
       "      <td>31990.0</td>\n",
       "      <td>8020946.0</td>\n",
       "    </tr>\n",
       "    <tr>\n",
       "      <th>4</th>\n",
       "      <td>14625165.0</td>\n",
       "      <td>AT</td>\n",
       "      <td>2002</td>\n",
       "      <td>32360.0</td>\n",
       "      <td>8063640.0</td>\n",
       "    </tr>\n",
       "  </tbody>\n",
       "</table>\n",
       "</div>"
      ],
      "text/plain": [
       "   passengers geo  time  gdp_cap  population\n",
       "0  12732342.0  AT  1998  29750.0   7971116.0\n",
       "1  13276983.0  AT  1999  30750.0   7982461.0\n",
       "2  14220561.0  AT  2000  31710.0   8002186.0\n",
       "3  14138385.0  AT  2001  31990.0   8020946.0\n",
       "4  14625165.0  AT  2002  32360.0   8063640.0"
      ]
     },
     "metadata": {},
     "output_type": "display_data"
    }
   ],
   "source": [
    "full = dp.merge_dfs(pas,gdp_cap,pop,on=['geo','time'],how='inner')"
   ]
  },
  {
   "cell_type": "markdown",
   "id": "038e8b83",
   "metadata": {},
   "source": [
    "### Layout and remove rows"
   ]
  },
  {
   "cell_type": "markdown",
   "id": "79b270ac",
   "metadata": {},
   "source": [
    "We want to make this a little more readable. The country codes in the geo column can be found [here](https://ec.europa.eu/eurostat/statistics-explained/index.php/Glossary:Country_codes). They are listed in a dictionary below:"
   ]
  },
  {
   "cell_type": "code",
   "execution_count": 39,
   "id": "928766cc",
   "metadata": {},
   "outputs": [],
   "source": [
    "eu27_2020 = {\n",
    "        'BE' : 'Belgium','BG' : 'Bulgaria','CZ' : 'Czechia','DK' : 'Denmark',\n",
    "        'DE' : 'Germany','EE' : 'Estonia','IE' : 'Ireland','EL' : 'Greece',\n",
    "        'ES' : 'Spain','FR' : 'France','HR' : 'Croatia','IT' : 'Italy',\n",
    "        'CY' : 'Cyprus','LV' : 'Latvia','LT' : 'Lithuania','LU' : 'Luxembourg',\n",
    "        'HU' : 'Hungary','MT' : 'Malta','NL' : 'Netherlands','AT' : 'Austria',\n",
    "        'PL' : 'Poland','PT' : 'Portugal','RO' : 'Romania','SI' : 'Slovenia',\n",
    "        'SK' : 'Slovakia','FI' : 'Finland','SE' : 'Sweden'\n",
    "        }"
   ]
  },
  {
   "cell_type": "markdown",
   "id": "29631498",
   "metadata": {},
   "source": [
    "Not all the EU country codes makes sense, so we will create a new column `geo_name`, that contains the written name corresponding to the country code in `geo`. We will also move the passengers column to the end."
   ]
  },
  {
   "cell_type": "code",
   "execution_count": 40,
   "id": "c8d09758",
   "metadata": {},
   "outputs": [],
   "source": [
    "# a. inserting new column: geo codes converted to country names using above dictionary\n",
    "full.insert(0, 'geo_name',full.geo.apply(dp.code_to_name,code_dict=eu27_2020))\n",
    "\n",
    "# b. moving passengers to the end\n",
    "move_col = full.pop('passengers')\n",
    "full.insert(len(full.columns)-1, 'passengers', move_col) # inserting at the last index: length-1"
   ]
  },
  {
   "cell_type": "markdown",
   "id": "cb3e4752",
   "metadata": {},
   "source": [
    "A logical index using the keys from the eu27_2020 dictionary, shows that the dataframe still contains rows that are either not countries or countries that are not part of European Union (such as EU27_2007, Switzerland and United Kingdoms):"
   ]
  },
  {
   "cell_type": "code",
   "execution_count": 41,
   "id": "df63dd15",
   "metadata": {},
   "outputs": [
    {
     "data": {
      "text/html": [
       "<div>\n",
       "<style scoped>\n",
       "    .dataframe tbody tr th:only-of-type {\n",
       "        vertical-align: middle;\n",
       "    }\n",
       "\n",
       "    .dataframe tbody tr th {\n",
       "        vertical-align: top;\n",
       "    }\n",
       "\n",
       "    .dataframe thead th {\n",
       "        text-align: right;\n",
       "    }\n",
       "</style>\n",
       "<table border=\"1\" class=\"dataframe\">\n",
       "  <thead>\n",
       "    <tr style=\"text-align: right;\">\n",
       "      <th></th>\n",
       "      <th>geo_name</th>\n",
       "      <th>geo</th>\n",
       "      <th>time</th>\n",
       "      <th>gdp_cap</th>\n",
       "      <th>passengers</th>\n",
       "      <th>population</th>\n",
       "    </tr>\n",
       "  </thead>\n",
       "  <tbody>\n",
       "    <tr>\n",
       "      <th>69</th>\n",
       "      <td></td>\n",
       "      <td>CH</td>\n",
       "      <td>1998</td>\n",
       "      <td>49750.0</td>\n",
       "      <td>24163688.0</td>\n",
       "      <td>7096465.0</td>\n",
       "    </tr>\n",
       "    <tr>\n",
       "      <th>70</th>\n",
       "      <td></td>\n",
       "      <td>CH</td>\n",
       "      <td>1999</td>\n",
       "      <td>50350.0</td>\n",
       "      <td>26073588.0</td>\n",
       "      <td>7123537.0</td>\n",
       "    </tr>\n",
       "    <tr>\n",
       "      <th>71</th>\n",
       "      <td></td>\n",
       "      <td>CH</td>\n",
       "      <td>2000</td>\n",
       "      <td>52080.0</td>\n",
       "      <td>31355646.0</td>\n",
       "      <td>7164444.0</td>\n",
       "    </tr>\n",
       "    <tr>\n",
       "      <th>72</th>\n",
       "      <td></td>\n",
       "      <td>CH</td>\n",
       "      <td>2001</td>\n",
       "      <td>52640.0</td>\n",
       "      <td>29509345.0</td>\n",
       "      <td>7204055.0</td>\n",
       "    </tr>\n",
       "    <tr>\n",
       "      <th>73</th>\n",
       "      <td></td>\n",
       "      <td>CH</td>\n",
       "      <td>2002</td>\n",
       "      <td>52260.0</td>\n",
       "      <td>25679686.0</td>\n",
       "      <td>7255653.0</td>\n",
       "    </tr>\n",
       "    <tr>\n",
       "      <th>...</th>\n",
       "      <td>...</td>\n",
       "      <td>...</td>\n",
       "      <td>...</td>\n",
       "      <td>...</td>\n",
       "      <td>...</td>\n",
       "      <td>...</td>\n",
       "    </tr>\n",
       "    <tr>\n",
       "      <th>846</th>\n",
       "      <td></td>\n",
       "      <td>UK</td>\n",
       "      <td>2016</td>\n",
       "      <td>32060.0</td>\n",
       "      <td>249076212.0</td>\n",
       "      <td>65379044.0</td>\n",
       "    </tr>\n",
       "    <tr>\n",
       "      <th>847</th>\n",
       "      <td></td>\n",
       "      <td>UK</td>\n",
       "      <td>2017</td>\n",
       "      <td>32430.0</td>\n",
       "      <td>264867264.0</td>\n",
       "      <td>65844142.0</td>\n",
       "    </tr>\n",
       "    <tr>\n",
       "      <th>848</th>\n",
       "      <td></td>\n",
       "      <td>UK</td>\n",
       "      <td>2018</td>\n",
       "      <td>32640.0</td>\n",
       "      <td>272386344.0</td>\n",
       "      <td>66273576.0</td>\n",
       "    </tr>\n",
       "    <tr>\n",
       "      <th>849</th>\n",
       "      <td></td>\n",
       "      <td>UK</td>\n",
       "      <td>2019</td>\n",
       "      <td>32910.0</td>\n",
       "      <td>277548891.0</td>\n",
       "      <td>66647112.0</td>\n",
       "    </tr>\n",
       "    <tr>\n",
       "      <th>850</th>\n",
       "      <td></td>\n",
       "      <td>UK</td>\n",
       "      <td>2020</td>\n",
       "      <td>NaN</td>\n",
       "      <td>NaN</td>\n",
       "      <td>67025542.0</td>\n",
       "    </tr>\n",
       "  </tbody>\n",
       "</table>\n",
       "<p>230 rows × 6 columns</p>\n",
       "</div>"
      ],
      "text/plain": [
       "    geo_name geo  time  gdp_cap   passengers  population\n",
       "69            CH  1998  49750.0   24163688.0   7096465.0\n",
       "70            CH  1999  50350.0   26073588.0   7123537.0\n",
       "71            CH  2000  52080.0   31355646.0   7164444.0\n",
       "72            CH  2001  52640.0   29509345.0   7204055.0\n",
       "73            CH  2002  52260.0   25679686.0   7255653.0\n",
       "..       ...  ..   ...      ...          ...         ...\n",
       "846           UK  2016  32060.0  249076212.0  65379044.0\n",
       "847           UK  2017  32430.0  264867264.0  65844142.0\n",
       "848           UK  2018  32640.0  272386344.0  66273576.0\n",
       "849           UK  2019  32910.0  277548891.0  66647112.0\n",
       "850           UK  2020      NaN          NaN  67025542.0\n",
       "\n",
       "[230 rows x 6 columns]"
      ]
     },
     "execution_count": 41,
     "metadata": {},
     "output_type": "execute_result"
    }
   ],
   "source": [
    "# logical index for eu27 dictionary geo keys\n",
    "I = full.geo.isin(list(eu27_2020.keys())) == True\n",
    "full[I == False]"
   ]
  },
  {
   "cell_type": "markdown",
   "id": "15c852ee",
   "metadata": {},
   "source": [
    "The dataset should only contain the rows in the logical index `I` (ie. rows where `geo` is contained in the eu27_2020 dict)."
   ]
  },
  {
   "cell_type": "code",
   "execution_count": 42,
   "id": "59a7418d",
   "metadata": {},
   "outputs": [
    {
     "name": "stdout",
     "output_type": "stream",
     "text": [
      "The european union has 27 countries.\n"
     ]
    }
   ],
   "source": [
    "# a. removing rows not contained in I\n",
    "full = full.loc[I]\n",
    "\n",
    "# b. resetting index\n",
    "full.reset_index(drop=True, inplace=True)\n",
    "\n",
    "# c. checking if full now has 27 countries\n",
    "print(f'The european union has {len(full.geo.unique())} countries.')"
   ]
  },
  {
   "cell_type": "markdown",
   "id": "2fc0c6db",
   "metadata": {},
   "source": [
    "# Working with the data"
   ]
  },
  {
   "cell_type": "markdown",
   "id": "d8809689",
   "metadata": {},
   "source": [
    "## Hypothesis"
   ]
  },
  {
   "cell_type": "markdown",
   "id": "4782ae16",
   "metadata": {},
   "source": [
    "**Hypothesis:** Richer countries have a higher degree of air travel. They should have more tourist (both visiting and travelling abroad) and more companies who are trading and travelling internationally."
   ]
  },
  {
   "cell_type": "markdown",
   "id": "10d566ef",
   "metadata": {},
   "source": [
    "## Adding variables"
   ]
  },
  {
   "cell_type": "markdown",
   "id": "227787ec",
   "metadata": {},
   "source": [
    "### Passengers per capita"
   ]
  },
  {
   "cell_type": "markdown",
   "id": "b4549c9d",
   "metadata": {},
   "source": [
    "It doesn't make sense to compare the number of passengers to GDP per capita. We need a measurement of the degree of air travel. Thus we create a new variable `pas_cap` which is `passengers` divided by `population`."
   ]
  },
  {
   "cell_type": "code",
   "execution_count": 43,
   "id": "97238521",
   "metadata": {},
   "outputs": [
    {
     "data": {
      "text/html": [
       "<div>\n",
       "<style scoped>\n",
       "    .dataframe tbody tr th:only-of-type {\n",
       "        vertical-align: middle;\n",
       "    }\n",
       "\n",
       "    .dataframe tbody tr th {\n",
       "        vertical-align: top;\n",
       "    }\n",
       "\n",
       "    .dataframe thead th {\n",
       "        text-align: right;\n",
       "    }\n",
       "</style>\n",
       "<table border=\"1\" class=\"dataframe\">\n",
       "  <thead>\n",
       "    <tr style=\"text-align: right;\">\n",
       "      <th></th>\n",
       "      <th>geo_name</th>\n",
       "      <th>geo</th>\n",
       "      <th>time</th>\n",
       "      <th>gdp_cap</th>\n",
       "      <th>passengers</th>\n",
       "      <th>population</th>\n",
       "    </tr>\n",
       "  </thead>\n",
       "  <tbody>\n",
       "    <tr>\n",
       "      <th>0</th>\n",
       "      <td>Austria</td>\n",
       "      <td>AT</td>\n",
       "      <td>1998</td>\n",
       "      <td>29750.0</td>\n",
       "      <td>12732342.0</td>\n",
       "      <td>7971116.0</td>\n",
       "    </tr>\n",
       "    <tr>\n",
       "      <th>1</th>\n",
       "      <td>Austria</td>\n",
       "      <td>AT</td>\n",
       "      <td>1999</td>\n",
       "      <td>30750.0</td>\n",
       "      <td>13276983.0</td>\n",
       "      <td>7982461.0</td>\n",
       "    </tr>\n",
       "    <tr>\n",
       "      <th>2</th>\n",
       "      <td>Austria</td>\n",
       "      <td>AT</td>\n",
       "      <td>2000</td>\n",
       "      <td>31710.0</td>\n",
       "      <td>14220561.0</td>\n",
       "      <td>8002186.0</td>\n",
       "    </tr>\n",
       "    <tr>\n",
       "      <th>3</th>\n",
       "      <td>Austria</td>\n",
       "      <td>AT</td>\n",
       "      <td>2001</td>\n",
       "      <td>31990.0</td>\n",
       "      <td>14138385.0</td>\n",
       "      <td>8020946.0</td>\n",
       "    </tr>\n",
       "    <tr>\n",
       "      <th>4</th>\n",
       "      <td>Austria</td>\n",
       "      <td>AT</td>\n",
       "      <td>2002</td>\n",
       "      <td>32360.0</td>\n",
       "      <td>14625165.0</td>\n",
       "      <td>8063640.0</td>\n",
       "    </tr>\n",
       "    <tr>\n",
       "      <th>...</th>\n",
       "      <td>...</td>\n",
       "      <td>...</td>\n",
       "      <td>...</td>\n",
       "      <td>...</td>\n",
       "      <td>...</td>\n",
       "      <td>...</td>\n",
       "    </tr>\n",
       "    <tr>\n",
       "      <th>616</th>\n",
       "      <td>Slovakia</td>\n",
       "      <td>SK</td>\n",
       "      <td>2016</td>\n",
       "      <td>14550.0</td>\n",
       "      <td>2201980.0</td>\n",
       "      <td>5426252.0</td>\n",
       "    </tr>\n",
       "    <tr>\n",
       "      <th>617</th>\n",
       "      <td>Slovakia</td>\n",
       "      <td>SK</td>\n",
       "      <td>2017</td>\n",
       "      <td>14980.0</td>\n",
       "      <td>2434001.0</td>\n",
       "      <td>5435343.0</td>\n",
       "    </tr>\n",
       "    <tr>\n",
       "      <th>618</th>\n",
       "      <td>Slovakia</td>\n",
       "      <td>SK</td>\n",
       "      <td>2018</td>\n",
       "      <td>15520.0</td>\n",
       "      <td>2814330.0</td>\n",
       "      <td>5443120.0</td>\n",
       "    </tr>\n",
       "    <tr>\n",
       "      <th>619</th>\n",
       "      <td>Slovakia</td>\n",
       "      <td>SK</td>\n",
       "      <td>2019</td>\n",
       "      <td>15860.0</td>\n",
       "      <td>2847115.0</td>\n",
       "      <td>5450421.0</td>\n",
       "    </tr>\n",
       "    <tr>\n",
       "      <th>620</th>\n",
       "      <td>Slovakia</td>\n",
       "      <td>SK</td>\n",
       "      <td>2020</td>\n",
       "      <td>15010.0</td>\n",
       "      <td>501750.0</td>\n",
       "      <td>5457873.0</td>\n",
       "    </tr>\n",
       "  </tbody>\n",
       "</table>\n",
       "<p>621 rows × 6 columns</p>\n",
       "</div>"
      ],
      "text/plain": [
       "     geo_name geo  time  gdp_cap  passengers  population\n",
       "0     Austria  AT  1998  29750.0  12732342.0   7971116.0\n",
       "1     Austria  AT  1999  30750.0  13276983.0   7982461.0\n",
       "2     Austria  AT  2000  31710.0  14220561.0   8002186.0\n",
       "3     Austria  AT  2001  31990.0  14138385.0   8020946.0\n",
       "4     Austria  AT  2002  32360.0  14625165.0   8063640.0\n",
       "..        ...  ..   ...      ...         ...         ...\n",
       "616  Slovakia  SK  2016  14550.0   2201980.0   5426252.0\n",
       "617  Slovakia  SK  2017  14980.0   2434001.0   5435343.0\n",
       "618  Slovakia  SK  2018  15520.0   2814330.0   5443120.0\n",
       "619  Slovakia  SK  2019  15860.0   2847115.0   5450421.0\n",
       "620  Slovakia  SK  2020  15010.0    501750.0   5457873.0\n",
       "\n",
       "[621 rows x 6 columns]"
      ]
     },
     "execution_count": 43,
     "metadata": {},
     "output_type": "execute_result"
    }
   ],
   "source": [
    "full"
   ]
  },
  {
   "cell_type": "code",
   "execution_count": 44,
   "id": "44fa3a19",
   "metadata": {},
   "outputs": [],
   "source": [
    "# a. index of gdp_cap\n",
    "i = full.columns.get_loc('gdp_cap')\n",
    "\n",
    "# b. new column pas_cap after gdp_cap\n",
    "full.insert(i+1, 'pas_cap', full.passengers/full.population)"
   ]
  },
  {
   "cell_type": "code",
   "execution_count": 45,
   "id": "77d20843",
   "metadata": {},
   "outputs": [
    {
     "data": {
      "text/html": [
       "<div>\n",
       "<style scoped>\n",
       "    .dataframe tbody tr th:only-of-type {\n",
       "        vertical-align: middle;\n",
       "    }\n",
       "\n",
       "    .dataframe tbody tr th {\n",
       "        vertical-align: top;\n",
       "    }\n",
       "\n",
       "    .dataframe thead th {\n",
       "        text-align: right;\n",
       "    }\n",
       "</style>\n",
       "<table border=\"1\" class=\"dataframe\">\n",
       "  <thead>\n",
       "    <tr style=\"text-align: right;\">\n",
       "      <th></th>\n",
       "      <th>geo_name</th>\n",
       "      <th>geo</th>\n",
       "      <th>time</th>\n",
       "      <th>gdp_cap</th>\n",
       "      <th>pas_cap</th>\n",
       "      <th>passengers</th>\n",
       "      <th>population</th>\n",
       "    </tr>\n",
       "  </thead>\n",
       "  <tbody>\n",
       "    <tr>\n",
       "      <th>0</th>\n",
       "      <td>Austria</td>\n",
       "      <td>AT</td>\n",
       "      <td>1998</td>\n",
       "      <td>29750.0</td>\n",
       "      <td>1.597310</td>\n",
       "      <td>12732342.0</td>\n",
       "      <td>7971116.0</td>\n",
       "    </tr>\n",
       "    <tr>\n",
       "      <th>1</th>\n",
       "      <td>Austria</td>\n",
       "      <td>AT</td>\n",
       "      <td>1999</td>\n",
       "      <td>30750.0</td>\n",
       "      <td>1.663269</td>\n",
       "      <td>13276983.0</td>\n",
       "      <td>7982461.0</td>\n",
       "    </tr>\n",
       "    <tr>\n",
       "      <th>2</th>\n",
       "      <td>Austria</td>\n",
       "      <td>AT</td>\n",
       "      <td>2000</td>\n",
       "      <td>31710.0</td>\n",
       "      <td>1.777085</td>\n",
       "      <td>14220561.0</td>\n",
       "      <td>8002186.0</td>\n",
       "    </tr>\n",
       "    <tr>\n",
       "      <th>3</th>\n",
       "      <td>Austria</td>\n",
       "      <td>AT</td>\n",
       "      <td>2001</td>\n",
       "      <td>31990.0</td>\n",
       "      <td>1.762683</td>\n",
       "      <td>14138385.0</td>\n",
       "      <td>8020946.0</td>\n",
       "    </tr>\n",
       "    <tr>\n",
       "      <th>4</th>\n",
       "      <td>Austria</td>\n",
       "      <td>AT</td>\n",
       "      <td>2002</td>\n",
       "      <td>32360.0</td>\n",
       "      <td>1.813718</td>\n",
       "      <td>14625165.0</td>\n",
       "      <td>8063640.0</td>\n",
       "    </tr>\n",
       "    <tr>\n",
       "      <th>...</th>\n",
       "      <td>...</td>\n",
       "      <td>...</td>\n",
       "      <td>...</td>\n",
       "      <td>...</td>\n",
       "      <td>...</td>\n",
       "      <td>...</td>\n",
       "      <td>...</td>\n",
       "    </tr>\n",
       "    <tr>\n",
       "      <th>616</th>\n",
       "      <td>Slovakia</td>\n",
       "      <td>SK</td>\n",
       "      <td>2016</td>\n",
       "      <td>14550.0</td>\n",
       "      <td>0.405801</td>\n",
       "      <td>2201980.0</td>\n",
       "      <td>5426252.0</td>\n",
       "    </tr>\n",
       "    <tr>\n",
       "      <th>617</th>\n",
       "      <td>Slovakia</td>\n",
       "      <td>SK</td>\n",
       "      <td>2017</td>\n",
       "      <td>14980.0</td>\n",
       "      <td>0.447810</td>\n",
       "      <td>2434001.0</td>\n",
       "      <td>5435343.0</td>\n",
       "    </tr>\n",
       "    <tr>\n",
       "      <th>618</th>\n",
       "      <td>Slovakia</td>\n",
       "      <td>SK</td>\n",
       "      <td>2018</td>\n",
       "      <td>15520.0</td>\n",
       "      <td>0.517044</td>\n",
       "      <td>2814330.0</td>\n",
       "      <td>5443120.0</td>\n",
       "    </tr>\n",
       "    <tr>\n",
       "      <th>619</th>\n",
       "      <td>Slovakia</td>\n",
       "      <td>SK</td>\n",
       "      <td>2019</td>\n",
       "      <td>15860.0</td>\n",
       "      <td>0.522366</td>\n",
       "      <td>2847115.0</td>\n",
       "      <td>5450421.0</td>\n",
       "    </tr>\n",
       "    <tr>\n",
       "      <th>620</th>\n",
       "      <td>Slovakia</td>\n",
       "      <td>SK</td>\n",
       "      <td>2020</td>\n",
       "      <td>15010.0</td>\n",
       "      <td>0.091931</td>\n",
       "      <td>501750.0</td>\n",
       "      <td>5457873.0</td>\n",
       "    </tr>\n",
       "  </tbody>\n",
       "</table>\n",
       "<p>621 rows × 7 columns</p>\n",
       "</div>"
      ],
      "text/plain": [
       "     geo_name geo  time  gdp_cap   pas_cap  passengers  population\n",
       "0     Austria  AT  1998  29750.0  1.597310  12732342.0   7971116.0\n",
       "1     Austria  AT  1999  30750.0  1.663269  13276983.0   7982461.0\n",
       "2     Austria  AT  2000  31710.0  1.777085  14220561.0   8002186.0\n",
       "3     Austria  AT  2001  31990.0  1.762683  14138385.0   8020946.0\n",
       "4     Austria  AT  2002  32360.0  1.813718  14625165.0   8063640.0\n",
       "..        ...  ..   ...      ...       ...         ...         ...\n",
       "616  Slovakia  SK  2016  14550.0  0.405801   2201980.0   5426252.0\n",
       "617  Slovakia  SK  2017  14980.0  0.447810   2434001.0   5435343.0\n",
       "618  Slovakia  SK  2018  15520.0  0.517044   2814330.0   5443120.0\n",
       "619  Slovakia  SK  2019  15860.0  0.522366   2847115.0   5450421.0\n",
       "620  Slovakia  SK  2020  15010.0  0.091931    501750.0   5457873.0\n",
       "\n",
       "[621 rows x 7 columns]"
      ]
     },
     "execution_count": 45,
     "metadata": {},
     "output_type": "execute_result"
    }
   ],
   "source": [
<<<<<<< HEAD
    "full"
=======
    "# logical index for eu27 dictionary geo keys\n",
    "I = full.geo.isin(list(eu27_2020.keys())) == True\n",
    "full[I == False]"
   ]
  },
  {
   "cell_type": "markdown",
   "id": "573f6fe5",
   "metadata": {},
   "source": [
    "The dataset should only contain the rows in the logical index `I` (ie. rows where `geo` is contained in the eu27_2020 dict)."
   ]
  },
  {
   "cell_type": "code",
   "execution_count": 16,
   "id": "2253b30b",
   "metadata": {},
   "outputs": [
    {
     "name": "stdout",
     "output_type": "stream",
     "text": [
      "The european union has 27 countries.\n"
     ]
    }
   ],
   "source": [
    "# a. removing rows not contained in I\n",
    "full = full.loc[I]\n",
    "\n",
    "# b. resetting index\n",
    "full.reset_index(drop=True, inplace=True)\n",
    "\n",
    "# c. checking if full now has 27 countries\n",
    "print(f'The european union has {len(full.geo.unique())} countries.')"
   ]
  },
  {
   "cell_type": "markdown",
   "id": "108cc799",
   "metadata": {},
   "source": [
    "# Working with the data"
   ]
  },
  {
   "cell_type": "markdown",
   "id": "dd1355d5",
   "metadata": {},
   "source": [
    "## Hypothesis"
   ]
  },
  {
   "cell_type": "markdown",
   "id": "ef5352fe",
   "metadata": {},
   "source": [
    "**Hypothesis:** Richer countries have a higher degree of air travel. They should have more tourist (both visiting and travelling abroad) and more companies who are trading and travelling internationally."
   ]
  },
  {
   "cell_type": "markdown",
   "id": "dc72438b",
   "metadata": {},
   "source": [
    "## Adding variables"
   ]
  },
  {
   "cell_type": "markdown",
   "id": "70ee6573",
   "metadata": {},
   "source": [
    "### Passengers per capita"
   ]
  },
  {
   "cell_type": "markdown",
   "id": "d365a609",
   "metadata": {},
   "source": [
    "It doesn't make sense to compare the number of passengers to GDP per capita. We need a measurement of the degree of air travel. Thus we create a new variable `pas_cap` which is `passengers` divided by `population`."
   ]
  },
  {
   "cell_type": "code",
   "execution_count": 17,
   "id": "1c750b8e",
   "metadata": {},
   "outputs": [],
   "source": [
    "# a. index of gdp_cap\n",
    "i = full.columns.get_loc('gdp_cap')\n",
    "\n",
    "# b. new column pas_cap after gdp_cap\n",
    "full.insert(i+1, 'pas_cap', full.passengers/full.population)"
>>>>>>> 60c6d0f58d00db2611918f8805730c294a14fd52
   ]
  },
  {
   "cell_type": "markdown",
<<<<<<< HEAD
   "id": "acafda08",
=======
   "id": "3cde7f9e",
>>>>>>> 60c6d0f58d00db2611918f8805730c294a14fd52
   "metadata": {},
   "source": [
    "### Yearly percentual change"
   ]
  },
  {
   "cell_type": "markdown",
<<<<<<< HEAD
   "id": "bc2515a7",
=======
   "id": "11b6eadc",
>>>>>>> 60c6d0f58d00db2611918f8805730c294a14fd52
   "metadata": {},
   "source": [
    "We want to be able to have a look percentual change in `gdp_cap` and `pas_cap` over the years for each country. Pandas has a built in function `.pct_change()` that we apply to all values in a column grouped by country."
   ]
  },
  {
   "cell_type": "code",
<<<<<<< HEAD
   "execution_count": 52,
   "id": "8c34a798",
=======
   "execution_count": 18,
   "id": "0e60e188",
>>>>>>> 60c6d0f58d00db2611918f8805730c294a14fd52
   "metadata": {},
   "outputs": [],
   "source": [
    "# a. create copy and define group\n",
    "full_ = full.copy()\n",
    "group = 'geo' # group by country\n",
    "\n",
    "# b. apply pct_change\n",
    "dp.add_pct_col(full_,group,'gdp_cap')\n",
    "dp.add_pct_col(full_,group,'pas_cap')"
   ]
  },
  {
   "cell_type": "markdown",
<<<<<<< HEAD
   "id": "84d70b22",
=======
   "id": "d86f21cd",
>>>>>>> 60c6d0f58d00db2611918f8805730c294a14fd52
   "metadata": {},
   "source": [
    "### Inspecting the outcome"
   ]
  },
  {
   "cell_type": "code",
<<<<<<< HEAD
   "execution_count": 53,
   "id": "359ae5be",
=======
   "execution_count": 19,
   "id": "3872b727",
>>>>>>> 60c6d0f58d00db2611918f8805730c294a14fd52
   "metadata": {},
   "outputs": [
    {
     "data": {
      "application/vnd.jupyter.widget-view+json": {
<<<<<<< HEAD
       "model_id": "367a1092b377402fa927ab9e4a203dd8",
=======
       "model_id": "99cf878c1f6f48eca55d98f9aac64e4f",
>>>>>>> 60c6d0f58d00db2611918f8805730c294a14fd52
       "version_major": 2,
       "version_minor": 0
      },
      "text/plain": [
       "interactive(children=(Dropdown(description='Country:', index=20, options=('Austria', 'Belgium', 'Bulgaria', 'C…"
      ]
     },
     "metadata": {},
     "output_type": "display_data"
    }
   ],
   "source": [
    "# a. function to call in widget\n",
    "country_table = lambda x,y: full_[full_['geo_name']==x].head(y)\n",
    "\n",
    "# b. creating the widget\n",
    "widgets.interact(country_table,\n",
    "    x = widgets.Dropdown(description='Country:',\n",
    "                                 options=full.geo_name.unique(),\n",
    "                                 value='Netherlands'),\n",
    "    y = widgets.IntSlider(description='years: ',\n",
    "                                 min=1,max=23,value=7)\n",
    ");"
   ]
  },
  {
   "cell_type": "markdown",
<<<<<<< HEAD
   "id": "fb8985c8",
=======
   "id": "9075515f",
>>>>>>> 60c6d0f58d00db2611918f8805730c294a14fd52
   "metadata": {},
   "source": [
    "Three new columns are now present: `pas_cap`, `gdp_cap_pct` and `pas_cap_oct`. However when going through the tables, something odd about the data for Netherlands strikes the eye. Between 2001 and 1998 (no pas_cap data between those year) there is allegedly a growth of 8793.5% in `pas_cap` which seems rather excessesive. Passenger numbers show only 433911 passengers for 1998, which is very low in comparison with the later periods.\n",
    "\n",
    "I did some digging and in [this annual report (page 12)](https://assets.ctfassets.net/1msjktcn08sc/2oYJeNESFeam2ecuQ8sOOw/f2d667c5a08898be4e99b2fb0e830e0a/1998_annual_report_en_v1_m56577569830810436.pdf#page=12) Schiphol Airport alone should have had more than 34 mio. passengers in 1998. Lets remove the `pas_cap`, `passengers` values at index 460 and `pas_cap_pct` at index 463 (ie. set them as NaN)."
   ]
  },
  {
   "cell_type": "code",
<<<<<<< HEAD
   "execution_count": 51,
   "id": "4974522e",
=======
   "execution_count": 20,
   "id": "ab5af061",
>>>>>>> 60c6d0f58d00db2611918f8805730c294a14fd52
   "metadata": {},
   "outputs": [
    {
     "data": {
      "text/html": [
       "<div>\n",
       "<style scoped>\n",
       "    .dataframe tbody tr th:only-of-type {\n",
       "        vertical-align: middle;\n",
       "    }\n",
       "\n",
       "    .dataframe tbody tr th {\n",
       "        vertical-align: top;\n",
       "    }\n",
       "\n",
       "    .dataframe thead th {\n",
       "        text-align: right;\n",
       "    }\n",
       "</style>\n",
       "<table border=\"1\" class=\"dataframe\">\n",
       "  <thead>\n",
       "    <tr style=\"text-align: right;\">\n",
       "      <th></th>\n",
       "      <th>geo_name</th>\n",
       "      <th>geo</th>\n",
       "      <th>time</th>\n",
       "      <th>gdp_cap</th>\n",
       "      <th>pas_cap</th>\n",
       "      <th>passengers</th>\n",
       "      <th>population</th>\n",
       "      <th>gdp_cap_pct</th>\n",
       "      <th>pas_cap_pct</th>\n",
       "    </tr>\n",
       "  </thead>\n",
       "  <tbody>\n",
       "    <tr>\n",
       "      <th>460</th>\n",
       "      <td>Netherlands</td>\n",
       "      <td>NL</td>\n",
       "      <td>1998</td>\n",
       "      <td>32480.0</td>\n",
       "      <td>NaN</td>\n",
       "      <td>NaN</td>\n",
       "      <td>15654192.0</td>\n",
       "      <td>NaN</td>\n",
       "      <td>NaN</td>\n",
       "    </tr>\n",
       "    <tr>\n",
       "      <th>461</th>\n",
       "      <td>Netherlands</td>\n",
       "      <td>NL</td>\n",
       "      <td>1999</td>\n",
       "      <td>33890.0</td>\n",
       "      <td>NaN</td>\n",
       "      <td>NaN</td>\n",
       "      <td>15760225.0</td>\n",
       "      <td>4.341133</td>\n",
       "      <td>NaN</td>\n",
       "    </tr>\n",
       "    <tr>\n",
       "      <th>462</th>\n",
       "      <td>Netherlands</td>\n",
       "      <td>NL</td>\n",
       "      <td>2000</td>\n",
       "      <td>35060.0</td>\n",
       "      <td>NaN</td>\n",
       "      <td>NaN</td>\n",
       "      <td>15863950.0</td>\n",
       "      <td>3.452346</td>\n",
       "      <td>NaN</td>\n",
       "    </tr>\n",
       "    <tr>\n",
       "      <th>463</th>\n",
       "      <td>Netherlands</td>\n",
       "      <td>NL</td>\n",
       "      <td>2001</td>\n",
       "      <td>35610.0</td>\n",
       "      <td>2.465137</td>\n",
       "      <td>39410331.0</td>\n",
       "      <td>15987075.0</td>\n",
       "      <td>1.568739</td>\n",
       "      <td>NaN</td>\n",
       "    </tr>\n",
       "  </tbody>\n",
       "</table>\n",
       "</div>"
      ],
      "text/plain": [
       "        geo_name geo  time  gdp_cap   pas_cap  passengers  population  \\\n",
       "460  Netherlands  NL  1998  32480.0       NaN         NaN  15654192.0   \n",
       "461  Netherlands  NL  1999  33890.0       NaN         NaN  15760225.0   \n",
       "462  Netherlands  NL  2000  35060.0       NaN         NaN  15863950.0   \n",
       "463  Netherlands  NL  2001  35610.0  2.465137  39410331.0  15987075.0   \n",
       "\n",
       "     gdp_cap_pct  pas_cap_pct  \n",
       "460          NaN          NaN  \n",
       "461     4.341133          NaN  \n",
       "462     3.452346          NaN  \n",
       "463     1.568739          NaN  "
      ]
     },
     "execution_count": 51,
     "metadata": {},
     "output_type": "execute_result"
    }
   ],
   "source": [
    "# a. define values to be modified\n",
    "i, i2 = 460,463\n",
    "\n",
    "set_nan = [full_['pas_cap'][i],\n",
    "           full_['passengers'][i],\n",
    "           full_['pas_cap_pct'][i2]]\n",
    "\n",
    "# b. replace the values\n",
    "full_ = full_.replace(set_nan, np.nan)\n",
    "\n",
    "# c. inspect those indices, to ensure values are correctly NaN\n",
    "full_.iloc[460:464]"
   ]
  },
  {
   "cell_type": "markdown",
<<<<<<< HEAD
   "id": "f4b1de75",
=======
   "id": "74894ca1",
>>>>>>> 60c6d0f58d00db2611918f8805730c294a14fd52
   "metadata": {},
   "source": [
    "## Analysis"
   ]
  },
  {
   "cell_type": "markdown",
<<<<<<< HEAD
   "id": "f0ac408e",
=======
   "id": "28276b1e",
>>>>>>> 60c6d0f58d00db2611918f8805730c294a14fd52
   "metadata": {},
   "source": [
    "### Economic output vs air travel activity"
   ]
  },
  {
   "cell_type": "code",
<<<<<<< HEAD
   "execution_count": 54,
   "id": "e1554166",
=======
   "execution_count": 21,
   "id": "04b15725",
>>>>>>> 60c6d0f58d00db2611918f8805730c294a14fd52
   "metadata": {},
   "outputs": [
    {
     "data": {
      "application/vnd.jupyter.widget-view+json": {
<<<<<<< HEAD
       "model_id": "9f3d0495fcd24c8a96bcdb3fd6ce0c98",
=======
       "model_id": "ca974a40a23144dfa8f9ae02d5c23a5c",
>>>>>>> 60c6d0f58d00db2611918f8805730c294a14fd52
       "version_major": 2,
       "version_minor": 0
      },
      "text/plain": [
       "interactive(children=(Dropdown(description='Country:', index=24, options=('Austria', 'Belgium', 'Bulgaria', 'C…"
      ]
     },
     "metadata": {},
     "output_type": "display_data"
    }
   ],
   "source": [
    "# widget for plotting gdp_cap and pas_cap for eu27 countries\n",
    "\n",
    "widgets.interact(dp.plot_gdp_pas_cap, \n",
    "    df = widgets.fixed(full),\n",
    "    geo_name = widgets.Dropdown(description='Country:', \n",
    "                                    options=full.geo_name.unique(), \n",
    "                                    value='Sweden')\n",
    ");"
   ]
  },
  {
   "cell_type": "markdown",
<<<<<<< HEAD
   "id": "506685c9",
=======
   "id": "cd159a8d",
>>>>>>> 60c6d0f58d00db2611918f8805730c294a14fd52
   "metadata": {},
   "source": [
    "Generally: Some countries have missing data. For instance Croatia didn't join EU until 2013, so a lot of data is missing for the first half of the period and many countries have not had their numbers for 2020 registered yet. There is a clear correlation between GDP and the degrees of air travel for many countries. For countries with data for 2020, it is obvious that the corona-pandemic has taken a large toll on the passenger numbers - which makes sense since the aviation industry might be the sector, that has taken the largest blow.\n",
    "\n",
    "Take a look at the graphs for:\n",
    "- **Sweden:** the correlation between `gdp_cap` and `pas_cap` is very clear. There is a small dive in `pas_cap` around 2001, which could be due to the dot.com bubble and/or the September 11 attacks on World Trade Center.\n",
    "- **Germany:** passengers per capita broadly follows the development of GDP per capita. It is obvious that the corona pandemic has hit the aviation industry harder than the rest of the economy.\n",
    "- **Greece or Italy:** the economical damage following the financial crisis of 2007-2008 has lasted for a very long time, however passengers per capita has exploded (probably due to tourism from other recovered economies)."
   ]
  },
  {
   "cell_type": "markdown",
<<<<<<< HEAD
   "id": "450b8309",
=======
   "id": "03398d25",
>>>>>>> 60c6d0f58d00db2611918f8805730c294a14fd52
   "metadata": {},
   "source": [
    "### Closer look at the correlation"
   ]
  },
  {
   "cell_type": "markdown",
<<<<<<< HEAD
   "id": "9ba71a53",
=======
   "id": "ca5ed3f4",
>>>>>>> 60c6d0f58d00db2611918f8805730c294a14fd52
   "metadata": {},
   "source": [
    "Lets check if the correlation indeed is present for the countries overall. First we'll take the mean of `gdp_cap` and `pas_cap` for each country, plot the scatters and make a regression. We will also plot the correlation between the percentage growth in GDP per capita and the percentage growth in passengers per capita."
   ]
  },
  {
   "cell_type": "code",
<<<<<<< HEAD
   "execution_count": 99,
   "id": "9dcdb938",
=======
   "execution_count": 22,
   "id": "53f411c1",
>>>>>>> 60c6d0f58d00db2611918f8805730c294a14fd52
   "metadata": {},
   "outputs": [
    {
     "data": {
<<<<<<< HEAD
      "image/png": "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\n",
=======
      "image/png": "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\n",
>>>>>>> 60c6d0f58d00db2611918f8805730c294a14fd52
      "text/plain": [
       "<Figure size 720x864 with 2 Axes>"
      ]
     },
     "metadata": {
      "needs_background": "light"
     },
     "output_type": "display_data"
    }
   ],
   "source": [
    "# a. country means over the period\n",
    "x = full_.groupby('geo')['gdp_cap'].mean()\n",
    "y = full_.groupby('geo')['pas_cap'].mean()\n",
    "\n",
    "# b. percentual changes\n",
    "data = full_[['gdp_cap_pct','pas_cap_pct']].dropna() # dropping NaNs for np.polyfit\n",
    "x2 = data['gdp_cap_pct'] \n",
    "y2 = data['pas_cap_pct']\n",
    "\n",
    "# c. create figure and subplots\n",
    "fig, (ax1, ax2) = plt.subplots(2, figsize=(10,12))\n",
    "\n",
    "# d. titles\n",
    "ax1.set_xlabel('GDP per capita')\n",
    "ax1.set_ylabel('Passengers per capita')\n",
    "ax1.set_title('Fig. 1: Correlation between means of gdp_cap and pas_cap in EU27 (1998-2020)')\n",
    "\n",
    "ax2.set_xlabel('Change in GDP per capita (%)')\n",
    "ax2.set_ylabel('Change in passengers per capita (%)')\n",
    "ax2.set_title('Fig. 2: Correlation between GDP pr capita growth and passenger per capita growth')\n",
    "\n",
    "# e. plot contents\n",
    "ax1.plot(x,y,'o') # scatter plot of means\n",
    "a, b = np.polyfit(x,y,1) # linear regression\n",
    "ax1.plot(x,a*x + b); \n",
    "\n",
    "ax2.plot(x2,y2,'o') # scatter plot of pct changes\n",
    "a, b = np.polyfit(x2,y2,1) # linear regression\n",
    "ax2.plot(x2,a*x2 + b);"
   ]
  },
  {
   "cell_type": "markdown",
   "id": "e5b19d8e",
   "metadata": {},
   "source": [
    "Figure 1 shows us that richer countries have had a higher degree of air travel over the period. Figure 2 shows that within countries, a growth in GDP per capita is generally associated with growth in passengers per capita. The group of outliers in the bottom left corner are very likely due to the corona pandemic, where GDP per capita has declined, but passengers per capita has declined to an even greater unprecedented degree."
   ]
  },
  {
   "cell_type": "code",
   "execution_count": 136,
   "id": "13926ad4",
   "metadata": {},
   "outputs": [
    {
     "data": {
      "image/png": "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\n",
      "text/plain": [
       "<Figure size 720x432 with 1 Axes>"
      ]
     },
     "metadata": {
      "needs_background": "light"
     },
     "output_type": "display_data"
    }
   ],
   "source": [
    "# a. the data (country means over the period)\n",
    "data = full_[['gdp_cap_pct','pas_cap_pct','geo']].dropna()\n",
    "x = data['gdp_cap_pct']\n",
    "y = data['pas_cap_pct']\n",
    "\n",
    "# b. create figure and axis\n",
    "fig, ax1 = plt.subplots(figsize=(10,6))\n",
    "\n",
    "# c. titles\n",
    "ax1.set_xlabel('GDP per capita')\n",
    "ax1.set_ylabel('Passengers per capita')\n",
    "plt.title('Correlation between means of gdp_cap and pas_cap in EU27 (1998-2020)')\n",
    "\n",
    "# d. scatter plot of means\n",
    "\n",
    "full_\n",
    "#ax1.plot(x,y,'o')\n",
    "ax1.scatter(x, y, c = pd.Categorical(data.geo).codes)\n",
    "\n",
    "# e. linear regression line\n",
    "a, b = np.polyfit(x,y,1)\n",
    "ax1.plot(x,a*x + b);"
   ]
  },
  {
   "cell_type": "code",
   "execution_count": 77,
   "id": "06d4d4b1",
   "metadata": {},
   "outputs": [
    {
     "data": {
      "text/plain": [
       "Index(['geo_name', 'geo', 'time', 'gdp_cap', 'pas_cap', 'passengers',\n",
       "       'population', 'gdp_cap_pct', 'pas_cap_pct'],\n",
       "      dtype='object')"
      ]
     },
     "execution_count": 77,
     "metadata": {},
     "output_type": "execute_result"
    }
   ],
   "source": [
    "full_.columns"
   ]
  },
  {
   "cell_type": "code",
   "execution_count": 91,
   "id": "625b74c5",
   "metadata": {},
   "outputs": [],
   "source": [
    "from statsmodels.formula.api import ols\n",
    "import statsmodels.api as sm"
   ]
  },
  {
   "cell_type": "code",
   "execution_count": 128,
   "id": "3d7938ac",
   "metadata": {},
   "outputs": [
    {
     "name": "stdout",
     "output_type": "stream",
     "text": [
      "                            OLS Regression Results                            \n",
      "==============================================================================\n",
      "Dep. Variable:            pas_cap_pct   R-squared:                       0.290\n",
      "Model:                            OLS   Adj. R-squared:                  0.248\n",
      "Method:                 Least Squares   F-statistic:                     6.976\n",
      "Date:                Tue, 13 Apr 2021   Prob (F-statistic):           3.12e-21\n",
      "Time:                        15:37:30   Log-Likelihood:                -2137.1\n",
      "No. Observations:                 490   AIC:                             4330.\n",
      "Df Residuals:                     462   BIC:                             4448.\n",
      "Df Model:                          27                                         \n",
      "Covariance Type:            nonrobust                                         \n",
      "================================================================================\n",
      "                   coef    std err          t      P>|t|      [0.025      0.975]\n",
      "--------------------------------------------------------------------------------\n",
      "Intercept       -1.5059      4.169     -0.361      0.718      -9.698       6.686\n",
      "C(geo)[T.BE]    -1.1333      6.117     -0.185      0.853     -13.153      10.887\n",
      "C(geo)[T.BG]    -5.2587      6.844     -0.768      0.443     -18.708       8.190\n",
      "C(geo)[T.CY]     0.9441      6.417      0.147      0.883     -11.665      13.554\n",
      "C(geo)[T.CZ]    -3.3545      6.216     -0.540      0.590     -15.569       8.860\n",
      "C(geo)[T.DE]    -0.3519      5.888     -0.060      0.952     -11.923      11.220\n",
      "C(geo)[T.DK]     1.6709      6.116      0.273      0.785     -10.349      13.690\n",
      "C(geo)[T.EE]    -2.2705      6.153     -0.369      0.712     -14.362       9.822\n",
      "C(geo)[T.EL]     7.9347      6.426      1.235      0.218      -4.693      20.562\n",
      "C(geo)[T.ES]     2.2007      6.119      0.360      0.719      -9.824      14.225\n",
      "C(geo)[T.FI]     0.1500      5.889      0.025      0.980     -11.423      11.723\n",
      "C(geo)[T.FR]     1.8611      6.209      0.300      0.764     -10.339      14.062\n",
      "C(geo)[T.HR]     2.3923      7.011      0.341      0.733     -11.385      16.170\n",
      "C(geo)[T.HU]    -2.0119      6.127     -0.328      0.743     -14.053      10.029\n",
      "C(geo)[T.IE]    -5.9084      6.447     -0.916      0.360     -18.578       6.762\n",
      "C(geo)[T.IT]    12.3511      5.964      2.071      0.039       0.630      24.072\n",
      "C(geo)[T.LT]    -2.7224      6.584     -0.414      0.679     -15.660      10.215\n",
      "C(geo)[T.LU]    -2.1682      5.890     -0.368      0.713     -13.742       9.405\n",
      "C(geo)[T.LV]     4.6760      6.281      0.745      0.457      -7.666      17.018\n",
      "C(geo)[T.MT]    -5.1632      6.125     -0.843      0.400     -17.199       6.873\n",
      "C(geo)[T.NL]    -0.6916      6.117     -0.113      0.910     -12.711      11.328\n",
      "C(geo)[T.PL]     5.4147      6.585      0.822      0.411      -7.525      18.354\n",
      "C(geo)[T.PT]     4.0118      6.035      0.665      0.507      -7.847      15.870\n",
      "C(geo)[T.RO]     2.4350      6.596      0.369      0.712     -10.528      15.398\n",
      "C(geo)[T.SE]     0.9570      5.962      0.161      0.873     -10.758      12.672\n",
      "C(geo)[T.SI]    -4.3594      6.418     -0.679      0.497     -16.971       8.252\n",
      "C(geo)[T.SK]    -0.7374      6.149     -0.120      0.905     -12.820      11.346\n",
      "gdp_cap_pct      3.0812      0.246     12.546      0.000       2.599       3.564\n",
      "==============================================================================\n",
      "Omnibus:                      454.469   Durbin-Watson:                   2.006\n",
      "Prob(Omnibus):                  0.000   Jarque-Bera (JB):            62223.236\n",
      "Skew:                           3.414   Prob(JB):                         0.00\n",
      "Kurtosis:                      57.782   Cond. No.                         107.\n",
      "==============================================================================\n",
      "\n",
      "Notes:\n",
      "[1] Standard Errors assume that the covariance matrix of the errors is correctly specified.\n"
     ]
    }
   ],
   "source": [
    "FE_ols = ols(formula='pas_cap_pct ~ gdp_cap_pct+C(geo)',data=full_).fit()\n",
    "print(FE_ols.summary())"
   ]
  },
  {
   "cell_type": "code",
   "execution_count": 129,
   "id": "95fc8a7c",
   "metadata": {},
   "outputs": [
    {
     "data": {
      "image/png": "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\n",
      "text/plain": [
       "<Figure size 432x288 with 1 Axes>"
      ]
     },
     "metadata": {
      "needs_background": "light"
     },
     "output_type": "display_data"
    }
   ],
   "source": [
    "fig = sm.graphics.plot_ccpr(FE_ols, \"gdp_cap_pct\")\n",
    "fig.tight_layout(pad=1.0)"
   ]
  },
  {
   "cell_type": "code",
   "execution_count": null,
   "id": "1c687a69",
   "metadata": {},
   "outputs": [],
   "source": [
    "FE_ols.predict(exog=x)"
   ]
  },
  {
   "cell_type": "markdown",
<<<<<<< HEAD
   "id": "5f395d76",
=======
   "id": "6fd3edf6",
>>>>>>> 60c6d0f58d00db2611918f8805730c294a14fd52
   "metadata": {},
   "source": [
    "We can also confirm that the corellation coefficient between the average gdp_cap and pas_cap between the countries is indeed positive as well as the coefficient between the percentual changes. Using `np.corrcoef`."
   ]
  },
  {
   "cell_type": "code",
<<<<<<< HEAD
   "execution_count": 72,
   "id": "a8d3a84c",
=======
   "execution_count": 23,
   "id": "bf5ac19b",
>>>>>>> 60c6d0f58d00db2611918f8805730c294a14fd52
   "metadata": {},
   "outputs": [
    {
     "name": "stdout",
     "output_type": "stream",
     "text": [
<<<<<<< HEAD
      "Covariance between the countries gdp_cap and pas_cap is: 13154.32\n"
=======
      "Pearson correlation coefficient between the countries mean gdp_cap and mean pas_cap is: 0.3512\n",
      "Pearson correlation coefficient between the countries gdp_cap_pct and pas_cap_pct is: 0.5071\n"
>>>>>>> 60c6d0f58d00db2611918f8805730c294a14fd52
     ]
    }
   ],
   "source": [
<<<<<<< HEAD
    "print(f'Covariance between the countries gdp_cap and pas_cap is: {dp.co_var(x,y):.2f}')"
   ]
  },
  {
   "cell_type": "code",
   "execution_count": 73,
   "id": "6b6f471e",
   "metadata": {},
   "outputs": [
    {
     "data": {
      "text/plain": [
       "array([[2.57315090e+08, 1.31543204e+04],\n",
       "       [1.31543204e+04, 5.51564048e+00]])"
      ]
     },
     "execution_count": 73,
     "metadata": {},
     "output_type": "execute_result"
    }
   ],
   "source": [
    "np.cov([x,y])"
   ]
  },
  {
   "cell_type": "code",
   "execution_count": 71,
   "id": "c6842917",
   "metadata": {},
   "outputs": [
    {
     "data": {
      "text/plain": [
       "0.3491707155550337"
      ]
     },
     "execution_count": 71,
     "metadata": {},
     "output_type": "execute_result"
    }
   ],
   "source": [
    "np.corrcoef([x,y])[0,1]"
   ]
  },
  {
   "cell_type": "markdown",
   "id": "22d8a846",
   "metadata": {},
   "source": [
    "It is evident from the regression and the positive covariance that 'richer' countries have a higher degree of air travel."
=======
    "print(f'Pearson correlation coefficient between the countries mean gdp_cap and mean pas_cap is: {np.corrcoef([x,y])[0,1]:.4f}')\n",
    "print(f'Pearson correlation coefficient between the countries gdp_cap_pct and pas_cap_pct is: {np.corrcoef([x2,y2])[0,1]:.4f}')"
>>>>>>> 60c6d0f58d00db2611918f8805730c294a14fd52
   ]
  },
  {
   "cell_type": "markdown",
<<<<<<< HEAD
   "id": "82d979f2",
=======
   "id": "eaf29a9f",
>>>>>>> 60c6d0f58d00db2611918f8805730c294a14fd52
   "metadata": {},
   "source": [
    "# Conclusion"
   ]
  },
  {
   "cell_type": "markdown",
<<<<<<< HEAD
   "id": "7404e750",
=======
   "id": "44a1d091",
>>>>>>> 60c6d0f58d00db2611918f8805730c294a14fd52
   "metadata": {},
   "source": [
    "We have documented a positive correlation between GDP per capita and passengers per capita. We cannot with certainty say the exact cause and effect for this, but we can speculate:\n",
    "\n",
    "- a wealthy population travels more\n",
    "- many high output companies are often internationally dependant (business trips)\n",
    "- countries getting higher GDP from having many tourists\n",
    "- the other way around, the richer a country, the more popular it is for tourists"
   ]
  },
  {
   "cell_type": "code",
<<<<<<< HEAD
   "execution_count": 74,
   "id": "f7942b31",
=======
   "execution_count": 24,
   "id": "fa2f2bb7",
>>>>>>> 60c6d0f58d00db2611918f8805730c294a14fd52
   "metadata": {},
   "outputs": [
    {
     "name": "stdout",
     "output_type": "stream",
     "text": [
      "From 1998 to 2020, for all EU27 countries the average growth in\n",
      "GDP per capita: 1.96%\n",
      "Passengers per capita: 4.12%\n"
     ]
    }
   ],
   "source": [
    "# checking average growth over the period for all countries\n",
    "print(f'From 1998 to 2020, for all EU27 countries the average growth in')\n",
    "print(f'GDP per capita: {full_.gdp_cap_pct.mean():.2f}%')\n",
    "print(f'Passengers per capita: {full_.pas_cap_pct.mean():.2f}%')"
   ]
  },
  {
   "cell_type": "markdown",
<<<<<<< HEAD
   "id": "1529c37f",
=======
   "id": "9aeb9dda",
>>>>>>> 60c6d0f58d00db2611918f8805730c294a14fd52
   "metadata": {},
   "source": [
    "The average growth is passengers per capita is larger than the average growth in GDP per capita as seen above. We get the same picture when looking at the graphs for each country in 3.3.1. There is a general tendency of larger growth in air travel than income. For some countries by a factor 3-4 for the period. We can speculate that this is due to:\n",
    "\n",
    "- a change of culture for more travel\n",
    "- more low-cost carriers"
   ]
  },
  {
   "cell_type": "markdown",
<<<<<<< HEAD
   "id": "fdf8eea9",
=======
   "id": "a828aa2d",
>>>>>>> 60c6d0f58d00db2611918f8805730c294a14fd52
   "metadata": {},
   "source": [
    "We have learned to use an API to import data and how to clean up that data for desired usage. Furthermore we have learned to add variables and apply functions to an entire column as well as using the different functions built in to pandas for analysing data in a series or dataframe.\n",
    "\n",
    "For good measure and ability to inspect the data outside python, we will end by exporting the dataframe."
   ]
  },
  {
   "cell_type": "code",
<<<<<<< HEAD
   "execution_count": 75,
   "id": "6cb5285f",
=======
   "execution_count": 25,
   "id": "337e96d7",
>>>>>>> 60c6d0f58d00db2611918f8805730c294a14fd52
   "metadata": {},
   "outputs": [],
   "source": [
    "# exporting dataframe as excel\n",
    "full_.to_excel('data/eu27_pas_gdp.xlsx')"
   ]
  },
  {
   "cell_type": "code",
   "execution_count": null,
   "id": "3b10ce42",
   "metadata": {},
   "outputs": [],
   "source": []
  }
 ],
 "metadata": {
  "kernelspec": {
   "display_name": "Python 3",
   "language": "python",
   "name": "python3"
  },
  "language_info": {
   "codemirror_mode": {
    "name": "ipython",
    "version": 3
   },
   "file_extension": ".py",
   "mimetype": "text/x-python",
   "name": "python",
   "nbconvert_exporter": "python",
   "pygments_lexer": "ipython3",
   "version": "3.8.5"
  }
 },
 "nbformat": 4,
 "nbformat_minor": 5
}
